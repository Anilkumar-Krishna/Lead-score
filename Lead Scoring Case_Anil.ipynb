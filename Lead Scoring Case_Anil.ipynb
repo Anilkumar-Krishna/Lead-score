{
 "cells": [
  {
   "cell_type": "markdown",
   "id": "hourly-tutorial",
   "metadata": {},
   "source": [
    "**The steps we will follow in these analysis are as follow:**\n",
    "   1. Reading and Understanding the Data\n",
    "   2. Visualising Data fot better insights.\n",
    "   3. Preparing Data for Modelling (Train-Test Split, Rescaling)\n",
    "   4. Training the Model.\n",
    "   5. Plotting and Various Metrics Analysis\n",
    "   6. Prediction and evaluation on Test Data Set."
   ]
  },
  {
   "cell_type": "markdown",
   "id": "damaged-yorkshire",
   "metadata": {},
   "source": [
    "<font color = red> **We are trying to Predict a Lead Score between 0 and 100 to each of the leads Which can be used by the company to target potential leads** </font> "
   ]
  },
  {
   "cell_type": "markdown",
   "id": "sacred-madagascar",
   "metadata": {},
   "source": [
    "### <font color = blue> 1. Reading and Understanding the Data  </font>"
   ]
  },
  {
   "cell_type": "markdown",
   "id": "failing-mexican",
   "metadata": {},
   "source": [
    "**Importing Important Libraries to read lead scoring data set**"
   ]
  },
  {
   "cell_type": "code",
   "execution_count": 1,
   "id": "refined-telephone",
   "metadata": {},
   "outputs": [],
   "source": [
    "import numpy as np\n",
    "import pandas as pd\n",
    "import matplotlib.pyplot as plt \n",
    "import seaborn as sns\n",
    "import statsmodels\n",
    "import statsmodels.api as sm\n",
    "import sklearn\n",
    "from sklearn.model_selection import train_test_split\n",
    "\n",
    "from sklearn.preprocessing import StandardScaler\n",
    "\n",
    "\n",
    "\n",
    "from sklearn.linear_model import LogisticRegression\n",
    "from sklearn.feature_selection import RFE\n",
    "\n",
    "# Supress Warnings\n",
    "import warnings\n",
    "warnings.filterwarnings('ignore')\n",
    "\n",
    "# visulaisation\n",
    "from matplotlib.pyplot import xticks\n",
    "%matplotlib inline\n",
    "\n"
   ]
  },
  {
   "cell_type": "code",
   "execution_count": 2,
   "id": "above-chicago",
   "metadata": {},
   "outputs": [],
   "source": [
    "## Dataframe with all predictor variables\n",
    "\n",
    "score = pd.read_csv(\"Leads.csv\")"
   ]
  },
  {
   "cell_type": "code",
   "execution_count": 3,
   "id": "formed-prior",
   "metadata": {},
   "outputs": [
    {
     "data": {
      "text/html": [
       "<div>\n",
       "<style scoped>\n",
       "    .dataframe tbody tr th:only-of-type {\n",
       "        vertical-align: middle;\n",
       "    }\n",
       "\n",
       "    .dataframe tbody tr th {\n",
       "        vertical-align: top;\n",
       "    }\n",
       "\n",
       "    .dataframe thead th {\n",
       "        text-align: right;\n",
       "    }\n",
       "</style>\n",
       "<table border=\"1\" class=\"dataframe\">\n",
       "  <thead>\n",
       "    <tr style=\"text-align: right;\">\n",
       "      <th></th>\n",
       "      <th>Prospect ID</th>\n",
       "      <th>Lead Number</th>\n",
       "      <th>Lead Origin</th>\n",
       "      <th>Lead Source</th>\n",
       "      <th>Do Not Email</th>\n",
       "      <th>Do Not Call</th>\n",
       "      <th>Converted</th>\n",
       "      <th>TotalVisits</th>\n",
       "      <th>Total Time Spent on Website</th>\n",
       "      <th>Page Views Per Visit</th>\n",
       "      <th>...</th>\n",
       "      <th>Get updates on DM Content</th>\n",
       "      <th>Lead Profile</th>\n",
       "      <th>City</th>\n",
       "      <th>Asymmetrique Activity Index</th>\n",
       "      <th>Asymmetrique Profile Index</th>\n",
       "      <th>Asymmetrique Activity Score</th>\n",
       "      <th>Asymmetrique Profile Score</th>\n",
       "      <th>I agree to pay the amount through cheque</th>\n",
       "      <th>A free copy of Mastering The Interview</th>\n",
       "      <th>Last Notable Activity</th>\n",
       "    </tr>\n",
       "  </thead>\n",
       "  <tbody>\n",
       "    <tr>\n",
       "      <th>0</th>\n",
       "      <td>7927b2df-8bba-4d29-b9a2-b6e0beafe620</td>\n",
       "      <td>660737</td>\n",
       "      <td>API</td>\n",
       "      <td>Olark Chat</td>\n",
       "      <td>No</td>\n",
       "      <td>No</td>\n",
       "      <td>0</td>\n",
       "      <td>0.0</td>\n",
       "      <td>0</td>\n",
       "      <td>0.0</td>\n",
       "      <td>...</td>\n",
       "      <td>No</td>\n",
       "      <td>Select</td>\n",
       "      <td>Select</td>\n",
       "      <td>02.Medium</td>\n",
       "      <td>02.Medium</td>\n",
       "      <td>15.0</td>\n",
       "      <td>15.0</td>\n",
       "      <td>No</td>\n",
       "      <td>No</td>\n",
       "      <td>Modified</td>\n",
       "    </tr>\n",
       "    <tr>\n",
       "      <th>1</th>\n",
       "      <td>2a272436-5132-4136-86fa-dcc88c88f482</td>\n",
       "      <td>660728</td>\n",
       "      <td>API</td>\n",
       "      <td>Organic Search</td>\n",
       "      <td>No</td>\n",
       "      <td>No</td>\n",
       "      <td>0</td>\n",
       "      <td>5.0</td>\n",
       "      <td>674</td>\n",
       "      <td>2.5</td>\n",
       "      <td>...</td>\n",
       "      <td>No</td>\n",
       "      <td>Select</td>\n",
       "      <td>Select</td>\n",
       "      <td>02.Medium</td>\n",
       "      <td>02.Medium</td>\n",
       "      <td>15.0</td>\n",
       "      <td>15.0</td>\n",
       "      <td>No</td>\n",
       "      <td>No</td>\n",
       "      <td>Email Opened</td>\n",
       "    </tr>\n",
       "    <tr>\n",
       "      <th>2</th>\n",
       "      <td>8cc8c611-a219-4f35-ad23-fdfd2656bd8a</td>\n",
       "      <td>660727</td>\n",
       "      <td>Landing Page Submission</td>\n",
       "      <td>Direct Traffic</td>\n",
       "      <td>No</td>\n",
       "      <td>No</td>\n",
       "      <td>1</td>\n",
       "      <td>2.0</td>\n",
       "      <td>1532</td>\n",
       "      <td>2.0</td>\n",
       "      <td>...</td>\n",
       "      <td>No</td>\n",
       "      <td>Potential Lead</td>\n",
       "      <td>Mumbai</td>\n",
       "      <td>02.Medium</td>\n",
       "      <td>01.High</td>\n",
       "      <td>14.0</td>\n",
       "      <td>20.0</td>\n",
       "      <td>No</td>\n",
       "      <td>Yes</td>\n",
       "      <td>Email Opened</td>\n",
       "    </tr>\n",
       "    <tr>\n",
       "      <th>3</th>\n",
       "      <td>0cc2df48-7cf4-4e39-9de9-19797f9b38cc</td>\n",
       "      <td>660719</td>\n",
       "      <td>Landing Page Submission</td>\n",
       "      <td>Direct Traffic</td>\n",
       "      <td>No</td>\n",
       "      <td>No</td>\n",
       "      <td>0</td>\n",
       "      <td>1.0</td>\n",
       "      <td>305</td>\n",
       "      <td>1.0</td>\n",
       "      <td>...</td>\n",
       "      <td>No</td>\n",
       "      <td>Select</td>\n",
       "      <td>Mumbai</td>\n",
       "      <td>02.Medium</td>\n",
       "      <td>01.High</td>\n",
       "      <td>13.0</td>\n",
       "      <td>17.0</td>\n",
       "      <td>No</td>\n",
       "      <td>No</td>\n",
       "      <td>Modified</td>\n",
       "    </tr>\n",
       "    <tr>\n",
       "      <th>4</th>\n",
       "      <td>3256f628-e534-4826-9d63-4a8b88782852</td>\n",
       "      <td>660681</td>\n",
       "      <td>Landing Page Submission</td>\n",
       "      <td>Google</td>\n",
       "      <td>No</td>\n",
       "      <td>No</td>\n",
       "      <td>1</td>\n",
       "      <td>2.0</td>\n",
       "      <td>1428</td>\n",
       "      <td>1.0</td>\n",
       "      <td>...</td>\n",
       "      <td>No</td>\n",
       "      <td>Select</td>\n",
       "      <td>Mumbai</td>\n",
       "      <td>02.Medium</td>\n",
       "      <td>01.High</td>\n",
       "      <td>15.0</td>\n",
       "      <td>18.0</td>\n",
       "      <td>No</td>\n",
       "      <td>No</td>\n",
       "      <td>Modified</td>\n",
       "    </tr>\n",
       "  </tbody>\n",
       "</table>\n",
       "<p>5 rows × 37 columns</p>\n",
       "</div>"
      ],
      "text/plain": [
       "                            Prospect ID  Lead Number              Lead Origin  \\\n",
       "0  7927b2df-8bba-4d29-b9a2-b6e0beafe620       660737                      API   \n",
       "1  2a272436-5132-4136-86fa-dcc88c88f482       660728                      API   \n",
       "2  8cc8c611-a219-4f35-ad23-fdfd2656bd8a       660727  Landing Page Submission   \n",
       "3  0cc2df48-7cf4-4e39-9de9-19797f9b38cc       660719  Landing Page Submission   \n",
       "4  3256f628-e534-4826-9d63-4a8b88782852       660681  Landing Page Submission   \n",
       "\n",
       "      Lead Source Do Not Email Do Not Call  Converted  TotalVisits  \\\n",
       "0      Olark Chat           No          No          0          0.0   \n",
       "1  Organic Search           No          No          0          5.0   \n",
       "2  Direct Traffic           No          No          1          2.0   \n",
       "3  Direct Traffic           No          No          0          1.0   \n",
       "4          Google           No          No          1          2.0   \n",
       "\n",
       "   Total Time Spent on Website  Page Views Per Visit  ...  \\\n",
       "0                            0                   0.0  ...   \n",
       "1                          674                   2.5  ...   \n",
       "2                         1532                   2.0  ...   \n",
       "3                          305                   1.0  ...   \n",
       "4                         1428                   1.0  ...   \n",
       "\n",
       "  Get updates on DM Content    Lead Profile    City  \\\n",
       "0                        No          Select  Select   \n",
       "1                        No          Select  Select   \n",
       "2                        No  Potential Lead  Mumbai   \n",
       "3                        No          Select  Mumbai   \n",
       "4                        No          Select  Mumbai   \n",
       "\n",
       "  Asymmetrique Activity Index Asymmetrique Profile Index  \\\n",
       "0                   02.Medium                  02.Medium   \n",
       "1                   02.Medium                  02.Medium   \n",
       "2                   02.Medium                    01.High   \n",
       "3                   02.Medium                    01.High   \n",
       "4                   02.Medium                    01.High   \n",
       "\n",
       "  Asymmetrique Activity Score Asymmetrique Profile Score  \\\n",
       "0                        15.0                       15.0   \n",
       "1                        15.0                       15.0   \n",
       "2                        14.0                       20.0   \n",
       "3                        13.0                       17.0   \n",
       "4                        15.0                       18.0   \n",
       "\n",
       "  I agree to pay the amount through cheque  \\\n",
       "0                                       No   \n",
       "1                                       No   \n",
       "2                                       No   \n",
       "3                                       No   \n",
       "4                                       No   \n",
       "\n",
       "  A free copy of Mastering The Interview Last Notable Activity  \n",
       "0                                     No              Modified  \n",
       "1                                     No          Email Opened  \n",
       "2                                    Yes          Email Opened  \n",
       "3                                     No              Modified  \n",
       "4                                     No              Modified  \n",
       "\n",
       "[5 rows x 37 columns]"
      ]
     },
     "execution_count": 3,
     "metadata": {},
     "output_type": "execute_result"
    }
   ],
   "source": [
    "## Let's see the head of our dataset\n",
    "\n",
    "score.head()"
   ]
  },
  {
   "cell_type": "code",
   "execution_count": 4,
   "id": "centered-notebook",
   "metadata": {},
   "outputs": [
    {
     "data": {
      "text/plain": [
       "(9240, 37)"
      ]
     },
     "execution_count": 4,
     "metadata": {},
     "output_type": "execute_result"
    }
   ],
   "source": [
    "## Let's Check the dimension of our dataframe\n",
    "\n",
    "score.shape"
   ]
  },
  {
   "cell_type": "raw",
   "id": "parallel-madagascar",
   "metadata": {},
   "source": [
    "The lead score dataset has 9240 rows and 37 columns"
   ]
  },
  {
   "cell_type": "code",
   "execution_count": 5,
   "id": "level-president",
   "metadata": {},
   "outputs": [
    {
     "data": {
      "text/html": [
       "<div>\n",
       "<style scoped>\n",
       "    .dataframe tbody tr th:only-of-type {\n",
       "        vertical-align: middle;\n",
       "    }\n",
       "\n",
       "    .dataframe tbody tr th {\n",
       "        vertical-align: top;\n",
       "    }\n",
       "\n",
       "    .dataframe thead th {\n",
       "        text-align: right;\n",
       "    }\n",
       "</style>\n",
       "<table border=\"1\" class=\"dataframe\">\n",
       "  <thead>\n",
       "    <tr style=\"text-align: right;\">\n",
       "      <th></th>\n",
       "      <th>Lead Number</th>\n",
       "      <th>Converted</th>\n",
       "      <th>TotalVisits</th>\n",
       "      <th>Total Time Spent on Website</th>\n",
       "      <th>Page Views Per Visit</th>\n",
       "      <th>Asymmetrique Activity Score</th>\n",
       "      <th>Asymmetrique Profile Score</th>\n",
       "    </tr>\n",
       "  </thead>\n",
       "  <tbody>\n",
       "    <tr>\n",
       "      <th>count</th>\n",
       "      <td>9240.000000</td>\n",
       "      <td>9240.000000</td>\n",
       "      <td>9103.000000</td>\n",
       "      <td>9240.000000</td>\n",
       "      <td>9103.000000</td>\n",
       "      <td>5022.000000</td>\n",
       "      <td>5022.000000</td>\n",
       "    </tr>\n",
       "    <tr>\n",
       "      <th>mean</th>\n",
       "      <td>617188.435606</td>\n",
       "      <td>0.385390</td>\n",
       "      <td>3.445238</td>\n",
       "      <td>487.698268</td>\n",
       "      <td>2.362820</td>\n",
       "      <td>14.306252</td>\n",
       "      <td>16.344883</td>\n",
       "    </tr>\n",
       "    <tr>\n",
       "      <th>std</th>\n",
       "      <td>23405.995698</td>\n",
       "      <td>0.486714</td>\n",
       "      <td>4.854853</td>\n",
       "      <td>548.021466</td>\n",
       "      <td>2.161418</td>\n",
       "      <td>1.386694</td>\n",
       "      <td>1.811395</td>\n",
       "    </tr>\n",
       "    <tr>\n",
       "      <th>min</th>\n",
       "      <td>579533.000000</td>\n",
       "      <td>0.000000</td>\n",
       "      <td>0.000000</td>\n",
       "      <td>0.000000</td>\n",
       "      <td>0.000000</td>\n",
       "      <td>7.000000</td>\n",
       "      <td>11.000000</td>\n",
       "    </tr>\n",
       "    <tr>\n",
       "      <th>25%</th>\n",
       "      <td>596484.500000</td>\n",
       "      <td>0.000000</td>\n",
       "      <td>1.000000</td>\n",
       "      <td>12.000000</td>\n",
       "      <td>1.000000</td>\n",
       "      <td>14.000000</td>\n",
       "      <td>15.000000</td>\n",
       "    </tr>\n",
       "    <tr>\n",
       "      <th>50%</th>\n",
       "      <td>615479.000000</td>\n",
       "      <td>0.000000</td>\n",
       "      <td>3.000000</td>\n",
       "      <td>248.000000</td>\n",
       "      <td>2.000000</td>\n",
       "      <td>14.000000</td>\n",
       "      <td>16.000000</td>\n",
       "    </tr>\n",
       "    <tr>\n",
       "      <th>75%</th>\n",
       "      <td>637387.250000</td>\n",
       "      <td>1.000000</td>\n",
       "      <td>5.000000</td>\n",
       "      <td>936.000000</td>\n",
       "      <td>3.000000</td>\n",
       "      <td>15.000000</td>\n",
       "      <td>18.000000</td>\n",
       "    </tr>\n",
       "    <tr>\n",
       "      <th>max</th>\n",
       "      <td>660737.000000</td>\n",
       "      <td>1.000000</td>\n",
       "      <td>251.000000</td>\n",
       "      <td>2272.000000</td>\n",
       "      <td>55.000000</td>\n",
       "      <td>18.000000</td>\n",
       "      <td>20.000000</td>\n",
       "    </tr>\n",
       "  </tbody>\n",
       "</table>\n",
       "</div>"
      ],
      "text/plain": [
       "         Lead Number    Converted  TotalVisits  Total Time Spent on Website  \\\n",
       "count    9240.000000  9240.000000  9103.000000                  9240.000000   \n",
       "mean   617188.435606     0.385390     3.445238                   487.698268   \n",
       "std     23405.995698     0.486714     4.854853                   548.021466   \n",
       "min    579533.000000     0.000000     0.000000                     0.000000   \n",
       "25%    596484.500000     0.000000     1.000000                    12.000000   \n",
       "50%    615479.000000     0.000000     3.000000                   248.000000   \n",
       "75%    637387.250000     1.000000     5.000000                   936.000000   \n",
       "max    660737.000000     1.000000   251.000000                  2272.000000   \n",
       "\n",
       "       Page Views Per Visit  Asymmetrique Activity Score  \\\n",
       "count           9103.000000                  5022.000000   \n",
       "mean               2.362820                    14.306252   \n",
       "std                2.161418                     1.386694   \n",
       "min                0.000000                     7.000000   \n",
       "25%                1.000000                    14.000000   \n",
       "50%                2.000000                    14.000000   \n",
       "75%                3.000000                    15.000000   \n",
       "max               55.000000                    18.000000   \n",
       "\n",
       "       Asymmetrique Profile Score  \n",
       "count                 5022.000000  \n",
       "mean                    16.344883  \n",
       "std                      1.811395  \n",
       "min                     11.000000  \n",
       "25%                     15.000000  \n",
       "50%                     16.000000  \n",
       "75%                     18.000000  \n",
       "max                     20.000000  "
      ]
     },
     "execution_count": 5,
     "metadata": {},
     "output_type": "execute_result"
    }
   ],
   "source": [
    "## Let's look at the statistical demo of dataframe\n",
    "\n",
    "score.describe()"
   ]
  },
  {
   "cell_type": "code",
   "execution_count": 6,
   "id": "allied-spare",
   "metadata": {},
   "outputs": [
    {
     "name": "stdout",
     "output_type": "stream",
     "text": [
      "<class 'pandas.core.frame.DataFrame'>\n",
      "RangeIndex: 9240 entries, 0 to 9239\n",
      "Data columns (total 37 columns):\n",
      " #   Column                                         Non-Null Count  Dtype  \n",
      "---  ------                                         --------------  -----  \n",
      " 0   Prospect ID                                    9240 non-null   object \n",
      " 1   Lead Number                                    9240 non-null   int64  \n",
      " 2   Lead Origin                                    9240 non-null   object \n",
      " 3   Lead Source                                    9204 non-null   object \n",
      " 4   Do Not Email                                   9240 non-null   object \n",
      " 5   Do Not Call                                    9240 non-null   object \n",
      " 6   Converted                                      9240 non-null   int64  \n",
      " 7   TotalVisits                                    9103 non-null   float64\n",
      " 8   Total Time Spent on Website                    9240 non-null   int64  \n",
      " 9   Page Views Per Visit                           9103 non-null   float64\n",
      " 10  Last Activity                                  9137 non-null   object \n",
      " 11  Country                                        6779 non-null   object \n",
      " 12  Specialization                                 7802 non-null   object \n",
      " 13  How did you hear about X Education             7033 non-null   object \n",
      " 14  What is your current occupation                6550 non-null   object \n",
      " 15  What matters most to you in choosing a course  6531 non-null   object \n",
      " 16  Search                                         9240 non-null   object \n",
      " 17  Magazine                                       9240 non-null   object \n",
      " 18  Newspaper Article                              9240 non-null   object \n",
      " 19  X Education Forums                             9240 non-null   object \n",
      " 20  Newspaper                                      9240 non-null   object \n",
      " 21  Digital Advertisement                          9240 non-null   object \n",
      " 22  Through Recommendations                        9240 non-null   object \n",
      " 23  Receive More Updates About Our Courses         9240 non-null   object \n",
      " 24  Tags                                           5887 non-null   object \n",
      " 25  Lead Quality                                   4473 non-null   object \n",
      " 26  Update me on Supply Chain Content              9240 non-null   object \n",
      " 27  Get updates on DM Content                      9240 non-null   object \n",
      " 28  Lead Profile                                   6531 non-null   object \n",
      " 29  City                                           7820 non-null   object \n",
      " 30  Asymmetrique Activity Index                    5022 non-null   object \n",
      " 31  Asymmetrique Profile Index                     5022 non-null   object \n",
      " 32  Asymmetrique Activity Score                    5022 non-null   float64\n",
      " 33  Asymmetrique Profile Score                     5022 non-null   float64\n",
      " 34  I agree to pay the amount through cheque       9240 non-null   object \n",
      " 35  A free copy of Mastering The Interview         9240 non-null   object \n",
      " 36  Last Notable Activity                          9240 non-null   object \n",
      "dtypes: float64(4), int64(3), object(30)\n",
      "memory usage: 2.6+ MB\n"
     ]
    }
   ],
   "source": [
    "## Checking the type of each column\n",
    "\n",
    "score.info()"
   ]
  },
  {
   "cell_type": "raw",
   "id": "rising-trading",
   "metadata": {},
   "source": [
    "We can see that data set has 7 numerical variable columns and 30 categorical variable columns"
   ]
  },
  {
   "cell_type": "markdown",
   "id": "developed-australia",
   "metadata": {},
   "source": [
    "### <font color = blue> 2. Data Analysis and Visualisation  </font>"
   ]
  },
  {
   "cell_type": "markdown",
   "id": "another-patrick",
   "metadata": {},
   "source": [
    "**Data Cleaning Treatment**"
   ]
  },
  {
   "cell_type": "code",
   "execution_count": 7,
   "id": "union-mozambique",
   "metadata": {},
   "outputs": [
    {
     "data": {
      "text/plain": [
       "True"
      ]
     },
     "execution_count": 7,
     "metadata": {},
     "output_type": "execute_result"
    }
   ],
   "source": [
    "## Check for the duplicates ID\n",
    "\n",
    "sum(score.duplicated(subset = 'Prospect ID'))==0"
   ]
  },
  {
   "cell_type": "markdown",
   "id": "aboriginal-guatemala",
   "metadata": {},
   "source": [
    "**NOTE:** All the Prospect Id in the Data Frame contains unique values."
   ]
  },
  {
   "cell_type": "markdown",
   "id": "racial-venice",
   "metadata": {},
   "source": [
    "Prospect Id and Lead Number are two variables which indicates the lead of contacted people and we can drop it as it will hamper our analysis Process."
   ]
  },
  {
   "cell_type": "code",
   "execution_count": 8,
   "id": "afraid-newton",
   "metadata": {},
   "outputs": [],
   "source": [
    "## Dropping Lead Number and prospect Id \n",
    "\n",
    "score.drop(['Prospect ID', 'Lead Number'], axis=1, inplace=True)"
   ]
  },
  {
   "cell_type": "code",
   "execution_count": 9,
   "id": "brief-connecticut",
   "metadata": {},
   "outputs": [],
   "source": [
    "## As we can observe that there are select values for may column.\n",
    "## This is because customer did not select any option from the list, hence it shows select.\n",
    "## we can consider select value as null values\n",
    "\n",
    "## converting \"Select\" values to NaN\n",
    "\n",
    "score = score.replace('Select', np.nan)"
   ]
  },
  {
   "cell_type": "code",
   "execution_count": 10,
   "id": "invisible-checklist",
   "metadata": {},
   "outputs": [
    {
     "name": "stdout",
     "output_type": "stream",
     "text": [
      "Lead Origin                                         0\n",
      "Lead Source                                        36\n",
      "Do Not Email                                        0\n",
      "Do Not Call                                         0\n",
      "Converted                                           0\n",
      "TotalVisits                                       137\n",
      "Total Time Spent on Website                         0\n",
      "Page Views Per Visit                              137\n",
      "Last Activity                                     103\n",
      "Country                                          2461\n",
      "Specialization                                   3380\n",
      "How did you hear about X Education               7250\n",
      "What is your current occupation                  2690\n",
      "What matters most to you in choosing a course    2709\n",
      "Search                                              0\n",
      "Magazine                                            0\n",
      "Newspaper Article                                   0\n",
      "X Education Forums                                  0\n",
      "Newspaper                                           0\n",
      "Digital Advertisement                               0\n",
      "Through Recommendations                             0\n",
      "Receive More Updates About Our Courses              0\n",
      "Tags                                             3353\n",
      "Lead Quality                                     4767\n",
      "Update me on Supply Chain Content                   0\n",
      "Get updates on DM Content                           0\n",
      "Lead Profile                                     6855\n",
      "City                                             3669\n",
      "Asymmetrique Activity Index                      4218\n",
      "Asymmetrique Profile Index                       4218\n",
      "Asymmetrique Activity Score                      4218\n",
      "Asymmetrique Profile Score                       4218\n",
      "I agree to pay the amount through cheque            0\n",
      "A free copy of Mastering The Interview              0\n",
      "Last Notable Activity                               0\n",
      "dtype: int64\n",
      "True\n",
      "54419\n"
     ]
    }
   ],
   "source": [
    "## Checking missing values\n",
    "\n",
    "print(score.isnull().sum())\n",
    "print(score.isnull().values.any())\n",
    "print(score.isnull().values.sum())"
   ]
  },
  {
   "cell_type": "code",
   "execution_count": 11,
   "id": "funky-tours",
   "metadata": {},
   "outputs": [
    {
     "data": {
      "text/plain": [
       "Lead Origin                                       0.00\n",
       "Lead Source                                       0.39\n",
       "Do Not Email                                      0.00\n",
       "Do Not Call                                       0.00\n",
       "Converted                                         0.00\n",
       "TotalVisits                                       1.48\n",
       "Total Time Spent on Website                       0.00\n",
       "Page Views Per Visit                              1.48\n",
       "Last Activity                                     1.11\n",
       "Country                                          26.63\n",
       "Specialization                                   36.58\n",
       "How did you hear about X Education               78.46\n",
       "What is your current occupation                  29.11\n",
       "What matters most to you in choosing a course    29.32\n",
       "Search                                            0.00\n",
       "Magazine                                          0.00\n",
       "Newspaper Article                                 0.00\n",
       "X Education Forums                                0.00\n",
       "Newspaper                                         0.00\n",
       "Digital Advertisement                             0.00\n",
       "Through Recommendations                           0.00\n",
       "Receive More Updates About Our Courses            0.00\n",
       "Tags                                             36.29\n",
       "Lead Quality                                     51.59\n",
       "Update me on Supply Chain Content                 0.00\n",
       "Get updates on DM Content                         0.00\n",
       "Lead Profile                                     74.19\n",
       "City                                             39.71\n",
       "Asymmetrique Activity Index                      45.65\n",
       "Asymmetrique Profile Index                       45.65\n",
       "Asymmetrique Activity Score                      45.65\n",
       "Asymmetrique Profile Score                       45.65\n",
       "I agree to pay the amount through cheque          0.00\n",
       "A free copy of Mastering The Interview            0.00\n",
       "Last Notable Activity                             0.00\n",
       "dtype: float64"
      ]
     },
     "execution_count": 11,
     "metadata": {},
     "output_type": "execute_result"
    }
   ],
   "source": [
    "## Converting missing values in percentage form\n",
    "\n",
    "round((score.isnull().sum()/len(score))*100,2)"
   ]
  },
  {
   "cell_type": "markdown",
   "id": "furnished-company",
   "metadata": {},
   "source": [
    "**Note:** <font color = red> Missing values Presence is too high so we will drop the features which is having more than 30% missing values. </font> "
   ]
  },
  {
   "cell_type": "code",
   "execution_count": 12,
   "id": "likely-computer",
   "metadata": {},
   "outputs": [
    {
     "data": {
      "text/plain": [
       "10"
      ]
     },
     "execution_count": 12,
     "metadata": {},
     "output_type": "execute_result"
    }
   ],
   "source": [
    "## Dropping columns with more than 30% missing values\n",
    "\n",
    "columns = ['Specialization','How did you hear about X Education', 'Lead Quality', \n",
    "           'Lead Profile', 'Asymmetrique Activity Index', 'Tags', 'City',\n",
    "           'Asymmetrique Profile Index','Asymmetrique Activity Score',\n",
    "           'Asymmetrique Profile Score']\n",
    "len(columns)"
   ]
  },
  {
   "cell_type": "markdown",
   "id": "little-calvin",
   "metadata": {},
   "source": [
    "<font color=green> **We are dropping 10 columns that have more than 30% of missing Values** </font>"
   ]
  },
  {
   "cell_type": "code",
   "execution_count": 13,
   "id": "boxed-relation",
   "metadata": {},
   "outputs": [],
   "source": [
    "## Dropping columns and storing Dataframe in new Variables\n",
    "\n",
    "lead_score = score.drop(['Specialization','How did you hear about X Education', 'Lead Quality', \n",
    "           'Lead Profile', 'Asymmetrique Activity Index', 'Tags', 'City',\n",
    "           'Asymmetrique Profile Index','Asymmetrique Activity Score',\n",
    "           'Asymmetrique Profile Score'], axis=1)"
   ]
  },
  {
   "cell_type": "code",
   "execution_count": 14,
   "id": "velvet-literacy",
   "metadata": {},
   "outputs": [
    {
     "data": {
      "text/html": [
       "<div>\n",
       "<style scoped>\n",
       "    .dataframe tbody tr th:only-of-type {\n",
       "        vertical-align: middle;\n",
       "    }\n",
       "\n",
       "    .dataframe tbody tr th {\n",
       "        vertical-align: top;\n",
       "    }\n",
       "\n",
       "    .dataframe thead th {\n",
       "        text-align: right;\n",
       "    }\n",
       "</style>\n",
       "<table border=\"1\" class=\"dataframe\">\n",
       "  <thead>\n",
       "    <tr style=\"text-align: right;\">\n",
       "      <th></th>\n",
       "      <th>Lead Origin</th>\n",
       "      <th>Lead Source</th>\n",
       "      <th>Do Not Email</th>\n",
       "      <th>Do Not Call</th>\n",
       "      <th>Converted</th>\n",
       "      <th>TotalVisits</th>\n",
       "      <th>Total Time Spent on Website</th>\n",
       "      <th>Page Views Per Visit</th>\n",
       "      <th>Last Activity</th>\n",
       "      <th>Country</th>\n",
       "      <th>...</th>\n",
       "      <th>X Education Forums</th>\n",
       "      <th>Newspaper</th>\n",
       "      <th>Digital Advertisement</th>\n",
       "      <th>Through Recommendations</th>\n",
       "      <th>Receive More Updates About Our Courses</th>\n",
       "      <th>Update me on Supply Chain Content</th>\n",
       "      <th>Get updates on DM Content</th>\n",
       "      <th>I agree to pay the amount through cheque</th>\n",
       "      <th>A free copy of Mastering The Interview</th>\n",
       "      <th>Last Notable Activity</th>\n",
       "    </tr>\n",
       "  </thead>\n",
       "  <tbody>\n",
       "    <tr>\n",
       "      <th>0</th>\n",
       "      <td>API</td>\n",
       "      <td>Olark Chat</td>\n",
       "      <td>No</td>\n",
       "      <td>No</td>\n",
       "      <td>0</td>\n",
       "      <td>0.0</td>\n",
       "      <td>0</td>\n",
       "      <td>0.0</td>\n",
       "      <td>Page Visited on Website</td>\n",
       "      <td>NaN</td>\n",
       "      <td>...</td>\n",
       "      <td>No</td>\n",
       "      <td>No</td>\n",
       "      <td>No</td>\n",
       "      <td>No</td>\n",
       "      <td>No</td>\n",
       "      <td>No</td>\n",
       "      <td>No</td>\n",
       "      <td>No</td>\n",
       "      <td>No</td>\n",
       "      <td>Modified</td>\n",
       "    </tr>\n",
       "    <tr>\n",
       "      <th>1</th>\n",
       "      <td>API</td>\n",
       "      <td>Organic Search</td>\n",
       "      <td>No</td>\n",
       "      <td>No</td>\n",
       "      <td>0</td>\n",
       "      <td>5.0</td>\n",
       "      <td>674</td>\n",
       "      <td>2.5</td>\n",
       "      <td>Email Opened</td>\n",
       "      <td>India</td>\n",
       "      <td>...</td>\n",
       "      <td>No</td>\n",
       "      <td>No</td>\n",
       "      <td>No</td>\n",
       "      <td>No</td>\n",
       "      <td>No</td>\n",
       "      <td>No</td>\n",
       "      <td>No</td>\n",
       "      <td>No</td>\n",
       "      <td>No</td>\n",
       "      <td>Email Opened</td>\n",
       "    </tr>\n",
       "    <tr>\n",
       "      <th>2</th>\n",
       "      <td>Landing Page Submission</td>\n",
       "      <td>Direct Traffic</td>\n",
       "      <td>No</td>\n",
       "      <td>No</td>\n",
       "      <td>1</td>\n",
       "      <td>2.0</td>\n",
       "      <td>1532</td>\n",
       "      <td>2.0</td>\n",
       "      <td>Email Opened</td>\n",
       "      <td>India</td>\n",
       "      <td>...</td>\n",
       "      <td>No</td>\n",
       "      <td>No</td>\n",
       "      <td>No</td>\n",
       "      <td>No</td>\n",
       "      <td>No</td>\n",
       "      <td>No</td>\n",
       "      <td>No</td>\n",
       "      <td>No</td>\n",
       "      <td>Yes</td>\n",
       "      <td>Email Opened</td>\n",
       "    </tr>\n",
       "    <tr>\n",
       "      <th>3</th>\n",
       "      <td>Landing Page Submission</td>\n",
       "      <td>Direct Traffic</td>\n",
       "      <td>No</td>\n",
       "      <td>No</td>\n",
       "      <td>0</td>\n",
       "      <td>1.0</td>\n",
       "      <td>305</td>\n",
       "      <td>1.0</td>\n",
       "      <td>Unreachable</td>\n",
       "      <td>India</td>\n",
       "      <td>...</td>\n",
       "      <td>No</td>\n",
       "      <td>No</td>\n",
       "      <td>No</td>\n",
       "      <td>No</td>\n",
       "      <td>No</td>\n",
       "      <td>No</td>\n",
       "      <td>No</td>\n",
       "      <td>No</td>\n",
       "      <td>No</td>\n",
       "      <td>Modified</td>\n",
       "    </tr>\n",
       "    <tr>\n",
       "      <th>4</th>\n",
       "      <td>Landing Page Submission</td>\n",
       "      <td>Google</td>\n",
       "      <td>No</td>\n",
       "      <td>No</td>\n",
       "      <td>1</td>\n",
       "      <td>2.0</td>\n",
       "      <td>1428</td>\n",
       "      <td>1.0</td>\n",
       "      <td>Converted to Lead</td>\n",
       "      <td>India</td>\n",
       "      <td>...</td>\n",
       "      <td>No</td>\n",
       "      <td>No</td>\n",
       "      <td>No</td>\n",
       "      <td>No</td>\n",
       "      <td>No</td>\n",
       "      <td>No</td>\n",
       "      <td>No</td>\n",
       "      <td>No</td>\n",
       "      <td>No</td>\n",
       "      <td>Modified</td>\n",
       "    </tr>\n",
       "  </tbody>\n",
       "</table>\n",
       "<p>5 rows × 25 columns</p>\n",
       "</div>"
      ],
      "text/plain": [
       "               Lead Origin     Lead Source Do Not Email Do Not Call  \\\n",
       "0                      API      Olark Chat           No          No   \n",
       "1                      API  Organic Search           No          No   \n",
       "2  Landing Page Submission  Direct Traffic           No          No   \n",
       "3  Landing Page Submission  Direct Traffic           No          No   \n",
       "4  Landing Page Submission          Google           No          No   \n",
       "\n",
       "   Converted  TotalVisits  Total Time Spent on Website  Page Views Per Visit  \\\n",
       "0          0          0.0                            0                   0.0   \n",
       "1          0          5.0                          674                   2.5   \n",
       "2          1          2.0                         1532                   2.0   \n",
       "3          0          1.0                          305                   1.0   \n",
       "4          1          2.0                         1428                   1.0   \n",
       "\n",
       "             Last Activity Country  ... X Education Forums Newspaper  \\\n",
       "0  Page Visited on Website     NaN  ...                 No        No   \n",
       "1             Email Opened   India  ...                 No        No   \n",
       "2             Email Opened   India  ...                 No        No   \n",
       "3              Unreachable   India  ...                 No        No   \n",
       "4        Converted to Lead   India  ...                 No        No   \n",
       "\n",
       "  Digital Advertisement Through Recommendations  \\\n",
       "0                    No                      No   \n",
       "1                    No                      No   \n",
       "2                    No                      No   \n",
       "3                    No                      No   \n",
       "4                    No                      No   \n",
       "\n",
       "  Receive More Updates About Our Courses Update me on Supply Chain Content  \\\n",
       "0                                     No                                No   \n",
       "1                                     No                                No   \n",
       "2                                     No                                No   \n",
       "3                                     No                                No   \n",
       "4                                     No                                No   \n",
       "\n",
       "  Get updates on DM Content I agree to pay the amount through cheque  \\\n",
       "0                        No                                       No   \n",
       "1                        No                                       No   \n",
       "2                        No                                       No   \n",
       "3                        No                                       No   \n",
       "4                        No                                       No   \n",
       "\n",
       "  A free copy of Mastering The Interview Last Notable Activity  \n",
       "0                                     No              Modified  \n",
       "1                                     No          Email Opened  \n",
       "2                                    Yes          Email Opened  \n",
       "3                                     No              Modified  \n",
       "4                                     No              Modified  \n",
       "\n",
       "[5 rows x 25 columns]"
      ]
     },
     "execution_count": 14,
     "metadata": {},
     "output_type": "execute_result"
    }
   ],
   "source": [
    "lead_score.head()"
   ]
  },
  {
   "cell_type": "code",
   "execution_count": 15,
   "id": "active-encyclopedia",
   "metadata": {},
   "outputs": [
    {
     "data": {
      "text/plain": [
       "Lead Origin                                       0.00\n",
       "Lead Source                                       0.39\n",
       "Do Not Email                                      0.00\n",
       "Do Not Call                                       0.00\n",
       "Converted                                         0.00\n",
       "TotalVisits                                       1.48\n",
       "Total Time Spent on Website                       0.00\n",
       "Page Views Per Visit                              1.48\n",
       "Last Activity                                     1.11\n",
       "Country                                          26.63\n",
       "What is your current occupation                  29.11\n",
       "What matters most to you in choosing a course    29.32\n",
       "Search                                            0.00\n",
       "Magazine                                          0.00\n",
       "Newspaper Article                                 0.00\n",
       "X Education Forums                                0.00\n",
       "Newspaper                                         0.00\n",
       "Digital Advertisement                             0.00\n",
       "Through Recommendations                           0.00\n",
       "Receive More Updates About Our Courses            0.00\n",
       "Update me on Supply Chain Content                 0.00\n",
       "Get updates on DM Content                         0.00\n",
       "I agree to pay the amount through cheque          0.00\n",
       "A free copy of Mastering The Interview            0.00\n",
       "Last Notable Activity                             0.00\n",
       "dtype: float64"
      ]
     },
     "execution_count": 15,
     "metadata": {},
     "output_type": "execute_result"
    }
   ],
   "source": [
    "##Checking again missing value percentage\n",
    "\n",
    "round((lead_score.isnull().sum()/len(score))*100,2)"
   ]
  },
  {
   "cell_type": "markdown",
   "id": "monetary-blink",
   "metadata": {},
   "source": [
    "**Numerical Analysis**"
   ]
  },
  {
   "cell_type": "code",
   "execution_count": 16,
   "id": "simplified-clone",
   "metadata": {},
   "outputs": [
    {
     "data": {
      "image/png": "[encoded data removed]",
      "text/plain": [
       "<Figure size 599.75x540 with 12 Axes>"
      ]
     },
     "metadata": {
      "needs_background": "light"
     },
     "output_type": "display_data"
    }
   ],
   "source": [
    "## Visualising the numerics feature \n",
    "\n",
    "sns.pairplot(lead_score, diag_kind='kde', hue='Converted')\n",
    "plt.show()"
   ]
  },
  {
   "cell_type": "code",
   "execution_count": 17,
   "id": "connected-burst",
   "metadata": {},
   "outputs": [
    {
     "data": {
      "image/png": "[encoded data removed]",
      "text/plain": [
       "<Figure size 599.75x540 with 12 Axes>"
      ]
     },
     "metadata": {
      "needs_background": "light"
     },
     "output_type": "display_data"
    }
   ],
   "source": [
    "## for Converted i.e 1\n",
    "\n",
    "edu = lead_score[['TotalVisits', 'Total Time Spent on Website', 'Page Views Per Visit', 'Converted']]\n",
    "sns.pairplot(edu, diag_kind='kde', hue='Converted')\n",
    "plt.show()"
   ]
  },
  {
   "cell_type": "code",
   "execution_count": 18,
   "id": "identical-interference",
   "metadata": {},
   "outputs": [
    {
     "data": {
      "text/html": [
       "<div>\n",
       "<style scoped>\n",
       "    .dataframe tbody tr th:only-of-type {\n",
       "        vertical-align: middle;\n",
       "    }\n",
       "\n",
       "    .dataframe tbody tr th {\n",
       "        vertical-align: top;\n",
       "    }\n",
       "\n",
       "    .dataframe thead th {\n",
       "        text-align: right;\n",
       "    }\n",
       "</style>\n",
       "<table border=\"1\" class=\"dataframe\">\n",
       "  <thead>\n",
       "    <tr style=\"text-align: right;\">\n",
       "      <th></th>\n",
       "      <th>TotalVisits</th>\n",
       "      <th>Total Time Spent on Website</th>\n",
       "      <th>Page Views Per Visit</th>\n",
       "      <th>Converted</th>\n",
       "    </tr>\n",
       "  </thead>\n",
       "  <tbody>\n",
       "    <tr>\n",
       "      <th>0</th>\n",
       "      <td>-1.457907</td>\n",
       "      <td>-1.473767</td>\n",
       "      <td>-1.454706</td>\n",
       "      <td>-0.791863</td>\n",
       "    </tr>\n",
       "    <tr>\n",
       "      <th>1</th>\n",
       "      <td>0.747918</td>\n",
       "      <td>0.729628</td>\n",
       "      <td>0.308534</td>\n",
       "      <td>-0.791863</td>\n",
       "    </tr>\n",
       "    <tr>\n",
       "      <th>2</th>\n",
       "      <td>-0.141636</td>\n",
       "      <td>1.306093</td>\n",
       "      <td>0.065574</td>\n",
       "      <td>1.262845</td>\n",
       "    </tr>\n",
       "    <tr>\n",
       "      <th>3</th>\n",
       "      <td>-0.640428</td>\n",
       "      <td>0.264936</td>\n",
       "      <td>-0.536967</td>\n",
       "      <td>-0.791863</td>\n",
       "    </tr>\n",
       "    <tr>\n",
       "      <th>4</th>\n",
       "      <td>-0.141636</td>\n",
       "      <td>1.252499</td>\n",
       "      <td>-0.536967</td>\n",
       "      <td>1.262845</td>\n",
       "    </tr>\n",
       "  </tbody>\n",
       "</table>\n",
       "</div>"
      ],
      "text/plain": [
       "   TotalVisits  Total Time Spent on Website  Page Views Per Visit  Converted\n",
       "0    -1.457907                    -1.473767             -1.454706  -0.791863\n",
       "1     0.747918                     0.729628              0.308534  -0.791863\n",
       "2    -0.141636                     1.306093              0.065574   1.262845\n",
       "3    -0.640428                     0.264936             -0.536967  -0.791863\n",
       "4    -0.141636                     1.252499             -0.536967   1.262845"
      ]
     },
     "execution_count": 18,
     "metadata": {},
     "output_type": "execute_result"
    }
   ],
   "source": [
    "## Getting a dataframe\n",
    "\n",
    "from sklearn.preprocessing import PowerTransformer\n",
    "pt = PowerTransformer()\n",
    "transedu = pd.DataFrame(pt.fit_transform(edu))\n",
    "transedu.columns = edu.columns\n",
    "transedu.head()"
   ]
  },
  {
   "cell_type": "code",
   "execution_count": 19,
   "id": "hairy-stranger",
   "metadata": {
    "scrolled": false
   },
   "outputs": [
    {
     "data": {
      "image/png": "[encoded data removed]",
      "text/plain": [
       "<Figure size 691.25x540 with 12 Axes>"
      ]
     },
     "metadata": {
      "needs_background": "light"
     },
     "output_type": "display_data"
    }
   ],
   "source": [
    "## visualisation for transedu\n",
    "\n",
    "sns.pairplot(transedu, diag_kind='kde', hue='Converted', kind='scatter')\n",
    "plt.show()"
   ]
  },
  {
   "cell_type": "markdown",
   "id": "capital-share",
   "metadata": {},
   "source": [
    "**Inferences**\n",
    "   - Total Visits and Page Views Per Visit seems to be a hot lead convertor variable."
   ]
  },
  {
   "cell_type": "code",
   "execution_count": 20,
   "id": "affiliated-retreat",
   "metadata": {},
   "outputs": [
    {
     "data": {
      "image/png": "[encoded data removed]",
      "text/plain": [
       "<Figure size 432x288 with 1 Axes>"
      ]
     },
     "metadata": {
      "needs_background": "light"
     },
     "output_type": "display_data"
    }
   ],
   "source": [
    "#checking Spread of \"Total Visits\" vs Converted variable\n",
    "\n",
    "sns.boxplot(y = 'TotalVisits', x = 'Converted', data = lead_score)\n",
    "plt.show()"
   ]
  },
  {
   "cell_type": "markdown",
   "id": "respective-cardiff",
   "metadata": {},
   "source": [
    "**Inference**\n",
    "\n",
    "- Median for converted and not converted leads are the close.\n",
    "- Nothng conclusive can be said on the basis of Total Visits"
   ]
  },
  {
   "cell_type": "code",
   "execution_count": 21,
   "id": "marked-exhibition",
   "metadata": {},
   "outputs": [
    {
     "data": {
      "image/png": "[encoded data removed]",
      "text/plain": [
       "<Figure size 432x288 with 1 Axes>"
      ]
     },
     "metadata": {
      "needs_background": "light"
     },
     "output_type": "display_data"
    }
   ],
   "source": [
    "#checking Spread of \"Total Time Spent on Website\" vs Converted variable\n",
    "\n",
    "sns.boxplot(x=lead_score.Converted, y=lead_score['Total Time Spent on Website'])\n",
    "plt.show()"
   ]
  },
  {
   "cell_type": "markdown",
   "id": "under-sullivan",
   "metadata": {},
   "source": [
    "**Infrences**\n",
    "   - Leads spending more time on the website are more likely to be converted.\n",
    "   - Website should be made more engaging to make leads spend more time."
   ]
  },
  {
   "cell_type": "code",
   "execution_count": 22,
   "id": "impressive-regular",
   "metadata": {},
   "outputs": [
    {
     "data": {
      "image/png": "[encoded data removed]",
      "text/plain": [
       "<Figure size 432x288 with 1 Axes>"
      ]
     },
     "metadata": {
      "needs_background": "light"
     },
     "output_type": "display_data"
    }
   ],
   "source": [
    "#checking Spread of \"Page Views Per Visit\" vs Converted variable\n",
    "\n",
    "sns.boxplot(x=lead_score.Converted,y=lead_score['Page Views Per Visit'])\n",
    "plt.show()"
   ]
  },
  {
   "cell_type": "markdown",
   "id": "conscious-niagara",
   "metadata": {},
   "source": [
    "**Inferences**\n",
    "   - Median for converted and unconverted leads is the same.\n",
    "   - Nothing can be said specifically for lead conversion from Page Views Per Visit"
   ]
  },
  {
   "cell_type": "markdown",
   "id": "neural-carnival",
   "metadata": {},
   "source": [
    "**Categorical Analysis**"
   ]
  },
  {
   "cell_type": "code",
   "execution_count": 23,
   "id": "subjective-things",
   "metadata": {},
   "outputs": [
    {
     "data": {
      "text/plain": [
       "India                   0.702597\n",
       "NaN                     0.266342\n",
       "United States           0.007468\n",
       "United Arab Emirates    0.005736\n",
       "Singapore               0.002597\n",
       "Saudi Arabia            0.002273\n",
       "United Kingdom          0.001623\n",
       "Australia               0.001407\n",
       "Qatar                   0.001082\n",
       "Hong Kong               0.000758\n",
       "Bahrain                 0.000758\n",
       "Oman                    0.000649\n",
       "France                  0.000649\n",
       "unknown                 0.000541\n",
       "Kuwait                  0.000433\n",
       "South Africa            0.000433\n",
       "Germany                 0.000433\n",
       "Nigeria                 0.000433\n",
       "Canada                  0.000433\n",
       "Sweden                  0.000325\n",
       "Ghana                   0.000216\n",
       "China                   0.000216\n",
       "Netherlands             0.000216\n",
       "Bangladesh              0.000216\n",
       "Asia/Pacific Region     0.000216\n",
       "Belgium                 0.000216\n",
       "Philippines             0.000216\n",
       "Uganda                  0.000216\n",
       "Italy                   0.000216\n",
       "Tanzania                0.000108\n",
       "Russia                  0.000108\n",
       "Malaysia                0.000108\n",
       "Indonesia               0.000108\n",
       "Switzerland             0.000108\n",
       "Liberia                 0.000108\n",
       "Kenya                   0.000108\n",
       "Denmark                 0.000108\n",
       "Vietnam                 0.000108\n",
       "Sri Lanka               0.000108\n",
       "Name: Country, dtype: float64"
      ]
     },
     "execution_count": 23,
     "metadata": {},
     "output_type": "execute_result"
    }
   ],
   "source": [
    "## Checking the value of country columns\n",
    "\n",
    "lead_score.Country.value_counts(normalize=True, dropna=False)"
   ]
  },
  {
   "cell_type": "markdown",
   "id": "accepted-convenience",
   "metadata": {},
   "source": [
    "As we see customers from India are 70% and 27% Values are null values in country column"
   ]
  },
  {
   "cell_type": "markdown",
   "id": "accepting-bicycle",
   "metadata": {},
   "source": [
    "**Note:** Imputing missing Values by most occurence value \"India\" in country Column"
   ]
  },
  {
   "cell_type": "code",
   "execution_count": 24,
   "id": "typical-weather",
   "metadata": {},
   "outputs": [],
   "source": [
    "## Imputing Missing Values\n",
    "\n",
    "lead_score.Country = lead_score.Country.fillna(lead_score.Country.mode()[0])"
   ]
  },
  {
   "cell_type": "code",
   "execution_count": 25,
   "id": "super-cable",
   "metadata": {},
   "outputs": [
    {
     "data": {
      "text/plain": [
       "India                   0.968939\n",
       "United States           0.007468\n",
       "United Arab Emirates    0.005736\n",
       "Singapore               0.002597\n",
       "Saudi Arabia            0.002273\n",
       "United Kingdom          0.001623\n",
       "Australia               0.001407\n",
       "Qatar                   0.001082\n",
       "Bahrain                 0.000758\n",
       "Hong Kong               0.000758\n",
       "France                  0.000649\n",
       "Oman                    0.000649\n",
       "unknown                 0.000541\n",
       "Germany                 0.000433\n",
       "Nigeria                 0.000433\n",
       "South Africa            0.000433\n",
       "Kuwait                  0.000433\n",
       "Canada                  0.000433\n",
       "Sweden                  0.000325\n",
       "Ghana                   0.000216\n",
       "Uganda                  0.000216\n",
       "Netherlands             0.000216\n",
       "Philippines             0.000216\n",
       "Belgium                 0.000216\n",
       "Italy                   0.000216\n",
       "China                   0.000216\n",
       "Asia/Pacific Region     0.000216\n",
       "Bangladesh              0.000216\n",
       "Tanzania                0.000108\n",
       "Sri Lanka               0.000108\n",
       "Liberia                 0.000108\n",
       "Malaysia                0.000108\n",
       "Indonesia               0.000108\n",
       "Russia                  0.000108\n",
       "Switzerland             0.000108\n",
       "Kenya                   0.000108\n",
       "Vietnam                 0.000108\n",
       "Denmark                 0.000108\n",
       "Name: Country, dtype: float64"
      ]
     },
     "execution_count": 25,
     "metadata": {},
     "output_type": "execute_result"
    }
   ],
   "source": [
    "## Checking again Missing Values\n",
    "\n",
    "lead_score.Country.value_counts(normalize=True, dropna=False)"
   ]
  },
  {
   "cell_type": "code",
   "execution_count": 26,
   "id": "adjustable-separation",
   "metadata": {},
   "outputs": [
    {
     "data": {
      "image/png": "[encoded data removed]",
      "text/plain": [
       "<Figure size 1080x360 with 1 Axes>"
      ]
     },
     "metadata": {
      "needs_background": "light"
     },
     "output_type": "display_data"
    }
   ],
   "source": [
    "## Visualising the Country column\n",
    "\n",
    "plt.figure(figsize=(15,5))\n",
    "plot = sns.countplot(lead_score.Country, hue=lead_score.Converted)\n",
    "plot.set_xticklabels(plot.get_xticklabels(),rotation=90)\n",
    "plt.show()"
   ]
  },
  {
   "cell_type": "markdown",
   "id": "graphic-tuner",
   "metadata": {},
   "source": [
    "   - As we can see the Number of Values for India are quite high(nearly 97%), we can drop this column easily"
   ]
  },
  {
   "cell_type": "code",
   "execution_count": 27,
   "id": "respiratory-corps",
   "metadata": {},
   "outputs": [],
   "source": [
    "## Dropping 'Country Coloumn'\n",
    "\n",
    "lead_score = lead_score.drop(['Country'], axis=1)"
   ]
  },
  {
   "cell_type": "markdown",
   "id": "second-hybrid",
   "metadata": {},
   "source": [
    "### Imputing Missing values in city column with most occurence categorical value\n",
    "\n"
   ]
  },
  {
   "cell_type": "code",
   "execution_count": 28,
   "id": "marked-diagnosis",
   "metadata": {},
   "outputs": [
    {
     "data": {
      "text/plain": [
       "Lead Origin                                       0.00\n",
       "Lead Source                                       0.39\n",
       "Do Not Email                                      0.00\n",
       "Do Not Call                                       0.00\n",
       "Converted                                         0.00\n",
       "TotalVisits                                       1.48\n",
       "Total Time Spent on Website                       0.00\n",
       "Page Views Per Visit                              1.48\n",
       "Last Activity                                     1.11\n",
       "What is your current occupation                  29.11\n",
       "What matters most to you in choosing a course    29.32\n",
       "Search                                            0.00\n",
       "Magazine                                          0.00\n",
       "Newspaper Article                                 0.00\n",
       "X Education Forums                                0.00\n",
       "Newspaper                                         0.00\n",
       "Digital Advertisement                             0.00\n",
       "Through Recommendations                           0.00\n",
       "Receive More Updates About Our Courses            0.00\n",
       "Update me on Supply Chain Content                 0.00\n",
       "Get updates on DM Content                         0.00\n",
       "I agree to pay the amount through cheque          0.00\n",
       "A free copy of Mastering The Interview            0.00\n",
       "Last Notable Activity                             0.00\n",
       "dtype: float64"
      ]
     },
     "execution_count": 28,
     "metadata": {},
     "output_type": "execute_result"
    }
   ],
   "source": [
    "## Checking Missing Value Percentage\n",
    "\n",
    "round((lead_score.isnull().sum()/len(score))*100,2)"
   ]
  },
  {
   "cell_type": "code",
   "execution_count": 29,
   "id": "centered-cameroon",
   "metadata": {},
   "outputs": [
    {
     "data": {
      "text/plain": [
       "Unemployed              0.606061\n",
       "NaN                     0.291126\n",
       "Working Professional    0.076407\n",
       "Student                 0.022727\n",
       "Other                   0.001732\n",
       "Housewife               0.001082\n",
       "Businessman             0.000866\n",
       "Name: What is your current occupation, dtype: float64"
      ]
     },
     "execution_count": 29,
     "metadata": {},
     "output_type": "execute_result"
    }
   ],
   "source": [
    "## Checking with Occupation Column\n",
    "\n",
    "lead_score['What is your current occupation'].value_counts(normalize=True, dropna=False)"
   ]
  },
  {
   "cell_type": "code",
   "execution_count": 30,
   "id": "juvenile-childhood",
   "metadata": {},
   "outputs": [],
   "source": [
    "## Imputing NaN values with 'Unemployed' Value\n",
    "\n",
    "lead_score['What is your current occupation'] = lead_score['What is your current occupation'].fillna(lead_score['What is your current occupation'].mode()[0])"
   ]
  },
  {
   "cell_type": "code",
   "execution_count": 31,
   "id": "analyzed-young",
   "metadata": {},
   "outputs": [
    {
     "data": {
      "text/plain": [
       "Unemployed              0.897186\n",
       "Working Professional    0.076407\n",
       "Student                 0.022727\n",
       "Other                   0.001732\n",
       "Housewife               0.001082\n",
       "Businessman             0.000866\n",
       "Name: What is your current occupation, dtype: float64"
      ]
     },
     "execution_count": 31,
     "metadata": {},
     "output_type": "execute_result"
    }
   ],
   "source": [
    "## Checking the values\n",
    "\n",
    "lead_score['What is your current occupation'].value_counts(normalize=True, dropna=False)"
   ]
  },
  {
   "cell_type": "code",
   "execution_count": 32,
   "id": "brief-spanking",
   "metadata": {
    "scrolled": false
   },
   "outputs": [
    {
     "data": {
      "image/png": "[encoded data removed]",
      "text/plain": [
       "<Figure size 720x360 with 1 Axes>"
      ]
     },
     "metadata": {
      "needs_background": "light"
     },
     "output_type": "display_data"
    }
   ],
   "source": [
    "## Visualising the occupation column\n",
    "\n",
    "plt.figure(figsize=(10,5))\n",
    "plot = sns.countplot(lead_score['What is your current occupation'], hue=lead_score.Converted)\n",
    "plot.set_xticklabels(plot.get_xticklabels(),rotation=90)\n",
    "plt.show()"
   ]
  },
  {
   "cell_type": "markdown",
   "id": "opposite-aaron",
   "metadata": {},
   "source": [
    "   - Working Professionals are higher in term of hot leads\n",
    "   - Unemployed leads are the most"
   ]
  },
  {
   "cell_type": "code",
   "execution_count": 33,
   "id": "fiscal-evening",
   "metadata": {
    "scrolled": true
   },
   "outputs": [
    {
     "data": {
      "text/plain": [
       "Google            2868\n",
       "Direct Traffic    2543\n",
       "Olark Chat        1755\n",
       "Organic Search    1154\n",
       "Reference          534\n",
       "Name: Lead Source, dtype: int64"
      ]
     },
     "execution_count": 33,
     "metadata": {},
     "output_type": "execute_result"
    }
   ],
   "source": [
    "## Checking value counts\n",
    "\n",
    "lead_score['Lead Source'].value_counts().head(5)"
   ]
  },
  {
   "cell_type": "code",
   "execution_count": 34,
   "id": "outer-redhead",
   "metadata": {
    "scrolled": false
   },
   "outputs": [
    {
     "data": {
      "image/png": "[encoded data removed]",
      "text/plain": [
       "<Figure size 720x360 with 1 Axes>"
      ]
     },
     "metadata": {
      "needs_background": "light"
     },
     "output_type": "display_data"
    }
   ],
   "source": [
    "## Visualising for lead source\n",
    "\n",
    "plt.figure(figsize=(10,5))\n",
    "plot = sns.countplot(lead_score['Lead Source'], hue=lead_score.Converted)\n",
    "plot.set_xticklabels(plot.get_xticklabels(),rotation=90)\n",
    "plt.show()"
   ]
  },
  {
   "cell_type": "markdown",
   "id": "divided-viking",
   "metadata": {},
   "source": [
    "**Inferences:-**\n",
    "\n",
    "  - Maximum number of leads are generated by Google and Direct traffic.\n",
    "  - Conversion Rate of reference leads and leads through welingak website is high.\n",
    "  - To improve overall lead conversion rate, focus should be on improving lead converion of olark chat, organics               search,direct traffic, and google leads and generate more leads from reference and welingak website."
   ]
  },
  {
   "cell_type": "code",
   "execution_count": 35,
   "id": "stupid-edinburgh",
   "metadata": {},
   "outputs": [
    {
     "data": {
      "text/plain": [
       "0.0    2189\n",
       "2.0    1680\n",
       "3.0    1306\n",
       "4.0    1120\n",
       "5.0     783\n",
       "Name: TotalVisits, dtype: int64"
      ]
     },
     "execution_count": 35,
     "metadata": {},
     "output_type": "execute_result"
    }
   ],
   "source": [
    "## Checking Value Counts\n",
    "\n",
    "lead_score['TotalVisits'].value_counts().head(5)"
   ]
  },
  {
   "cell_type": "code",
   "execution_count": 36,
   "id": "economic-april",
   "metadata": {},
   "outputs": [
    {
     "data": {
      "text/plain": [
       "0.0    2189\n",
       "2.0    1795\n",
       "3.0    1196\n",
       "4.0     896\n",
       "1.0     651\n",
       "Name: Page Views Per Visit, dtype: int64"
      ]
     },
     "execution_count": 36,
     "metadata": {},
     "output_type": "execute_result"
    }
   ],
   "source": [
    "## Checking Value counts\n",
    "\n",
    "lead_score['Page Views Per Visit'].value_counts().head(5)"
   ]
  },
  {
   "cell_type": "code",
   "execution_count": 37,
   "id": "associate-sequence",
   "metadata": {},
   "outputs": [
    {
     "data": {
      "text/plain": [
       "Email Opened               3437\n",
       "SMS Sent                   2745\n",
       "Olark Chat Conversation     973\n",
       "Page Visited on Website     640\n",
       "Converted to Lead           428\n",
       "Name: Last Activity, dtype: int64"
      ]
     },
     "execution_count": 37,
     "metadata": {},
     "output_type": "execute_result"
    }
   ],
   "source": [
    "## Checking Value counts\n",
    "\n",
    "lead_score['Last Activity'].value_counts().head(5)"
   ]
  },
  {
   "cell_type": "code",
   "execution_count": 38,
   "id": "overall-empire",
   "metadata": {},
   "outputs": [
    {
     "data": {
      "text/plain": [
       "Better Career Prospects      6528\n",
       "Flexibility & Convenience       2\n",
       "Other                           1\n",
       "Name: What matters most to you in choosing a course, dtype: int64"
      ]
     },
     "execution_count": 38,
     "metadata": {},
     "output_type": "execute_result"
    }
   ],
   "source": [
    "## Checking Value counts\n",
    "\n",
    "lead_score['What matters most to you in choosing a course'].value_counts().head(5)"
   ]
  },
  {
   "cell_type": "code",
   "execution_count": 39,
   "id": "closed-enlargement",
   "metadata": {
    "scrolled": true
   },
   "outputs": [
    {
     "data": {
      "image/png": "[encoded data removed]",
      "text/plain": [
       "<Figure size 432x288 with 1 Axes>"
      ]
     },
     "metadata": {
      "needs_background": "light"
     },
     "output_type": "display_data"
    }
   ],
   "source": [
    "#visualizing count of Variable based on Converted value\n",
    "\n",
    "s1=sns.countplot(lead_score['What matters most to you in choosing a course'], hue=lead_score.Converted)\n",
    "s1.set_xticklabels(s1.get_xticklabels(),rotation=90)\n",
    "plt.show()"
   ]
  },
  {
   "cell_type": "code",
   "execution_count": 40,
   "id": "intensive-traveler",
   "metadata": {},
   "outputs": [
    {
     "data": {
      "text/plain": [
       "Landing Page Submission    4886\n",
       "API                        3580\n",
       "Lead Add Form               718\n",
       "Lead Import                  55\n",
       "Quick Add Form                1\n",
       "Name: Lead Origin, dtype: int64"
      ]
     },
     "execution_count": 40,
     "metadata": {},
     "output_type": "execute_result"
    }
   ],
   "source": [
    "#Lead Origin\n",
    "\n",
    "lead_score['Lead Origin'].value_counts(dropna=False)"
   ]
  },
  {
   "cell_type": "code",
   "execution_count": 41,
   "id": "acoustic-bibliography",
   "metadata": {
    "scrolled": false
   },
   "outputs": [
    {
     "data": {
      "image/png": "[encoded data removed]",
      "text/plain": [
       "<Figure size 576x360 with 1 Axes>"
      ]
     },
     "metadata": {
      "needs_background": "light"
     },
     "output_type": "display_data"
    }
   ],
   "source": [
    "#visualizing count of Variable based on Converted value\n",
    "\n",
    "plt.figure(figsize=(8,5))\n",
    "s1=sns.countplot(lead_score['Lead Origin'], hue=lead_score.Converted)\n",
    "s1.set_xticklabels(s1.get_xticklabels(),rotation=90)\n",
    "plt.show()"
   ]
  },
  {
   "cell_type": "markdown",
   "id": "ranging-treatment",
   "metadata": {},
   "source": [
    "**Inference**\n",
    "- API and Landing Page Submission bring higher number of leads as well as conversion.\n",
    "- Lead Add Form has a very high conversion rate but count of leads are not very high.\n",
    "- Lead Import and Quick Add Form get very few leads.\n",
    "- In order to improve overall lead conversion rate, we have to improve lead converion of API and Landing Page Submission origin and generate more leads from Lead Add Form."
   ]
  },
  {
   "cell_type": "code",
   "execution_count": 42,
   "id": "functional-interference",
   "metadata": {},
   "outputs": [],
   "source": [
    "## Checking Columns of missing values\n",
    "\n",
    "MissingValues={'Lead Source':'Google','TotalVisits':'0.0','Page Views Per Visit':'0.0','Last Activity':'Email Opened',\n",
    "               'What is your current occupation':'Unemployed',\n",
    "               'What matters most to you in choosing a course':'Better Career Prospects'}"
   ]
  },
  {
   "cell_type": "code",
   "execution_count": 43,
   "id": "monetary-mission",
   "metadata": {},
   "outputs": [],
   "source": [
    "## Imputing columns of missing Values\n",
    "\n",
    "lead_score=lead_score.fillna(value=MissingValues)"
   ]
  },
  {
   "cell_type": "code",
   "execution_count": 44,
   "id": "stable-entrepreneur",
   "metadata": {
    "scrolled": false
   },
   "outputs": [
    {
     "data": {
      "text/plain": [
       "Lead Origin                                      0\n",
       "Lead Source                                      0\n",
       "Do Not Email                                     0\n",
       "Do Not Call                                      0\n",
       "Converted                                        0\n",
       "TotalVisits                                      0\n",
       "Total Time Spent on Website                      0\n",
       "Page Views Per Visit                             0\n",
       "Last Activity                                    0\n",
       "What is your current occupation                  0\n",
       "What matters most to you in choosing a course    0\n",
       "Search                                           0\n",
       "Magazine                                         0\n",
       "Newspaper Article                                0\n",
       "X Education Forums                               0\n",
       "Newspaper                                        0\n",
       "Digital Advertisement                            0\n",
       "Through Recommendations                          0\n",
       "Receive More Updates About Our Courses           0\n",
       "Update me on Supply Chain Content                0\n",
       "Get updates on DM Content                        0\n",
       "I agree to pay the amount through cheque         0\n",
       "A free copy of Mastering The Interview           0\n",
       "Last Notable Activity                            0\n",
       "dtype: int64"
      ]
     },
     "execution_count": 44,
     "metadata": {},
     "output_type": "execute_result"
    }
   ],
   "source": [
    "## Checking Missing Values\n",
    "\n",
    "lead_score.isnull().sum()"
   ]
  },
  {
   "cell_type": "markdown",
   "id": "german-monaco",
   "metadata": {},
   "source": [
    "**All Missing Values are Imputed through their statistical values**"
   ]
  },
  {
   "cell_type": "code",
   "execution_count": 45,
   "id": "visible-direction",
   "metadata": {},
   "outputs": [
    {
     "name": "stdout",
     "output_type": "stream",
     "text": [
      "<class 'pandas.core.frame.DataFrame'>\n",
      "RangeIndex: 9240 entries, 0 to 9239\n",
      "Data columns (total 24 columns):\n",
      " #   Column                                         Non-Null Count  Dtype \n",
      "---  ------                                         --------------  ----- \n",
      " 0   Lead Origin                                    9240 non-null   object\n",
      " 1   Lead Source                                    9240 non-null   object\n",
      " 2   Do Not Email                                   9240 non-null   object\n",
      " 3   Do Not Call                                    9240 non-null   object\n",
      " 4   Converted                                      9240 non-null   int64 \n",
      " 5   TotalVisits                                    9240 non-null   object\n",
      " 6   Total Time Spent on Website                    9240 non-null   int64 \n",
      " 7   Page Views Per Visit                           9240 non-null   object\n",
      " 8   Last Activity                                  9240 non-null   object\n",
      " 9   What is your current occupation                9240 non-null   object\n",
      " 10  What matters most to you in choosing a course  9240 non-null   object\n",
      " 11  Search                                         9240 non-null   object\n",
      " 12  Magazine                                       9240 non-null   object\n",
      " 13  Newspaper Article                              9240 non-null   object\n",
      " 14  X Education Forums                             9240 non-null   object\n",
      " 15  Newspaper                                      9240 non-null   object\n",
      " 16  Digital Advertisement                          9240 non-null   object\n",
      " 17  Through Recommendations                        9240 non-null   object\n",
      " 18  Receive More Updates About Our Courses         9240 non-null   object\n",
      " 19  Update me on Supply Chain Content              9240 non-null   object\n",
      " 20  Get updates on DM Content                      9240 non-null   object\n",
      " 21  I agree to pay the amount through cheque       9240 non-null   object\n",
      " 22  A free copy of Mastering The Interview         9240 non-null   object\n",
      " 23  Last Notable Activity                          9240 non-null   object\n",
      "dtypes: int64(2), object(22)\n",
      "memory usage: 1.7+ MB\n"
     ]
    }
   ],
   "source": [
    "## Checking Info\n",
    "\n",
    "lead_score.info()"
   ]
  },
  {
   "cell_type": "code",
   "execution_count": 46,
   "id": "short-sauce",
   "metadata": {},
   "outputs": [],
   "source": [
    "# Mapping to Yes : 1 , No : 0\n",
    "\n",
    "category={\"No\":0,\"Yes\":1}    # creating dictionary for two categories\n",
    "\n",
    "lead_score['Do Not Email']=lead_score['Do Not Email'].map(category)\n",
    "\n",
    "lead_score['Do Not Call']=lead_score['Do Not Call'].map(category)\n",
    "\n",
    "lead_score['Search']=lead_score['Search'].map(category)\n",
    "\n",
    "lead_score['Magazine']=lead_score['Magazine'].map(category)\n",
    "\n",
    "lead_score['Newspaper Article']=lead_score['Newspaper Article'].map(category)\n",
    "\n",
    "lead_score['X Education Forums']=lead_score['X Education Forums'].map(category)\n",
    "\n",
    "lead_score['Newspaper']=lead_score['Newspaper'].map(category)\n",
    "\n",
    "lead_score['Digital Advertisement']=lead_score['Digital Advertisement'].map(category)\n",
    "\n",
    "lead_score['Through Recommendations']=lead_score['Through Recommendations'].map(category)\n",
    "\n",
    "lead_score['Receive More Updates About Our Courses']=lead_score['Receive More Updates About Our Courses'].map(category)\n",
    "\n",
    "lead_score['Update me on Supply Chain Content']=lead_score['Update me on Supply Chain Content'].map(category)\n",
    "\n",
    "lead_score['Get updates on DM Content']=lead_score['Get updates on DM Content'].map(category)\n",
    "\n"
   ]
  },
  {
   "cell_type": "code",
   "execution_count": 47,
   "id": "attempted-browser",
   "metadata": {},
   "outputs": [],
   "source": [
    " #Dropping some other redundant columns like I agree to pay the amount through cheque' and 'a free copy of Mastering The Interview'\n",
    "\n",
    "red_cols=['I agree to pay the amount through cheque','A free copy of Mastering The Interview']\n",
    "\n",
    "lead_score=lead_score.drop(red_cols,1)"
   ]
  },
  {
   "cell_type": "code",
   "execution_count": 48,
   "id": "italic-latin",
   "metadata": {},
   "outputs": [
    {
     "name": "stdout",
     "output_type": "stream",
     "text": [
      "<class 'pandas.core.frame.DataFrame'>\n",
      "RangeIndex: 9240 entries, 0 to 9239\n",
      "Data columns (total 22 columns):\n",
      " #   Column                                         Non-Null Count  Dtype \n",
      "---  ------                                         --------------  ----- \n",
      " 0   Lead Origin                                    9240 non-null   object\n",
      " 1   Lead Source                                    9240 non-null   object\n",
      " 2   Do Not Email                                   9240 non-null   int64 \n",
      " 3   Do Not Call                                    9240 non-null   int64 \n",
      " 4   Converted                                      9240 non-null   int64 \n",
      " 5   TotalVisits                                    9240 non-null   object\n",
      " 6   Total Time Spent on Website                    9240 non-null   int64 \n",
      " 7   Page Views Per Visit                           9240 non-null   object\n",
      " 8   Last Activity                                  9240 non-null   object\n",
      " 9   What is your current occupation                9240 non-null   object\n",
      " 10  What matters most to you in choosing a course  9240 non-null   object\n",
      " 11  Search                                         9240 non-null   int64 \n",
      " 12  Magazine                                       9240 non-null   int64 \n",
      " 13  Newspaper Article                              9240 non-null   int64 \n",
      " 14  X Education Forums                             9240 non-null   int64 \n",
      " 15  Newspaper                                      9240 non-null   int64 \n",
      " 16  Digital Advertisement                          9240 non-null   int64 \n",
      " 17  Through Recommendations                        9240 non-null   int64 \n",
      " 18  Receive More Updates About Our Courses         9240 non-null   int64 \n",
      " 19  Update me on Supply Chain Content              9240 non-null   int64 \n",
      " 20  Get updates on DM Content                      9240 non-null   int64 \n",
      " 21  Last Notable Activity                          9240 non-null   object\n",
      "dtypes: int64(14), object(8)\n",
      "memory usage: 1.6+ MB\n"
     ]
    }
   ],
   "source": [
    "## Again Checking data contents\n",
    "\n",
    "lead_score.info()"
   ]
  },
  {
   "cell_type": "code",
   "execution_count": 49,
   "id": "major-wiring",
   "metadata": {},
   "outputs": [
    {
     "data": {
      "text/plain": [
       "(9240, 84)"
      ]
     },
     "execution_count": 49,
     "metadata": {},
     "output_type": "execute_result"
    }
   ],
   "source": [
    "# Creating a dummy variables for 8 categories and dropping the first level.\n",
    "\n",
    "Dummy=pd.get_dummies(lead_score[['Lead Origin','Lead Source','Last Activity','What is your current occupation',\n",
    "                             'What matters most to you in choosing a course','Last Notable Activity']],drop_first=True)\n",
    "\n",
    "# Adding these dummies to the original dataset\n",
    "\n",
    "lead_score=pd.concat([lead_score,Dummy],axis=1)\n",
    "\n",
    "lead_score.shape"
   ]
  },
  {
   "cell_type": "code",
   "execution_count": 50,
   "id": "great-giving",
   "metadata": {},
   "outputs": [
    {
     "data": {
      "text/plain": [
       "(9240, 78)"
      ]
     },
     "execution_count": 50,
     "metadata": {},
     "output_type": "execute_result"
    }
   ],
   "source": [
    "# dropping duplicate dummies\n",
    "\n",
    "duplicates=['Lead Origin','Lead Source','Last Activity','What is your current occupation',\n",
    "            'What matters most to you in choosing a course','Last Notable Activity']\n",
    "\n",
    "\n",
    "lead_score=lead_score.drop(duplicates,1)\n",
    "\n",
    "lead_score.shape"
   ]
  },
  {
   "cell_type": "code",
   "execution_count": 51,
   "id": "ceramic-coupon",
   "metadata": {},
   "outputs": [],
   "source": [
    "# Dropping redundant variables\n",
    "\n",
    "redundant=['Receive More Updates About Our Courses','Update me on Supply Chain Content','Get updates on DM Content','Magazine']\n",
    "lead_score=lead_score.drop(redundant,1)"
   ]
  },
  {
   "cell_type": "code",
   "execution_count": 52,
   "id": "appreciated-reply",
   "metadata": {},
   "outputs": [
    {
     "name": "stdout",
     "output_type": "stream",
     "text": [
      "<class 'pandas.core.frame.DataFrame'>\n",
      "RangeIndex: 9240 entries, 0 to 9239\n",
      "Data columns (total 74 columns):\n",
      " #   Column                                                                   Non-Null Count  Dtype  \n",
      "---  ------                                                                   --------------  -----  \n",
      " 0   Do Not Email                                                             9240 non-null   int64  \n",
      " 1   Do Not Call                                                              9240 non-null   int64  \n",
      " 2   Converted                                                                9240 non-null   int64  \n",
      " 3   TotalVisits                                                              9240 non-null   float64\n",
      " 4   Total Time Spent on Website                                              9240 non-null   int64  \n",
      " 5   Page Views Per Visit                                                     9240 non-null   float64\n",
      " 6   Search                                                                   9240 non-null   int64  \n",
      " 7   Newspaper Article                                                        9240 non-null   int64  \n",
      " 8   X Education Forums                                                       9240 non-null   int64  \n",
      " 9   Newspaper                                                                9240 non-null   int64  \n",
      " 10  Digital Advertisement                                                    9240 non-null   int64  \n",
      " 11  Through Recommendations                                                  9240 non-null   int64  \n",
      " 12  Lead Origin_Landing Page Submission                                      9240 non-null   uint8  \n",
      " 13  Lead Origin_Lead Add Form                                                9240 non-null   uint8  \n",
      " 14  Lead Origin_Lead Import                                                  9240 non-null   uint8  \n",
      " 15  Lead Origin_Quick Add Form                                               9240 non-null   uint8  \n",
      " 16  Lead Source_Direct Traffic                                               9240 non-null   uint8  \n",
      " 17  Lead Source_Facebook                                                     9240 non-null   uint8  \n",
      " 18  Lead Source_Google                                                       9240 non-null   uint8  \n",
      " 19  Lead Source_Live Chat                                                    9240 non-null   uint8  \n",
      " 20  Lead Source_NC_EDM                                                       9240 non-null   uint8  \n",
      " 21  Lead Source_Olark Chat                                                   9240 non-null   uint8  \n",
      " 22  Lead Source_Organic Search                                               9240 non-null   uint8  \n",
      " 23  Lead Source_Pay per Click Ads                                            9240 non-null   uint8  \n",
      " 24  Lead Source_Press_Release                                                9240 non-null   uint8  \n",
      " 25  Lead Source_Reference                                                    9240 non-null   uint8  \n",
      " 26  Lead Source_Referral Sites                                               9240 non-null   uint8  \n",
      " 27  Lead Source_Social Media                                                 9240 non-null   uint8  \n",
      " 28  Lead Source_WeLearn                                                      9240 non-null   uint8  \n",
      " 29  Lead Source_Welingak Website                                             9240 non-null   uint8  \n",
      " 30  Lead Source_bing                                                         9240 non-null   uint8  \n",
      " 31  Lead Source_blog                                                         9240 non-null   uint8  \n",
      " 32  Lead Source_google                                                       9240 non-null   uint8  \n",
      " 33  Lead Source_testone                                                      9240 non-null   uint8  \n",
      " 34  Lead Source_welearnblog_Home                                             9240 non-null   uint8  \n",
      " 35  Lead Source_youtubechannel                                               9240 non-null   uint8  \n",
      " 36  Last Activity_Converted to Lead                                          9240 non-null   uint8  \n",
      " 37  Last Activity_Email Bounced                                              9240 non-null   uint8  \n",
      " 38  Last Activity_Email Link Clicked                                         9240 non-null   uint8  \n",
      " 39  Last Activity_Email Marked Spam                                          9240 non-null   uint8  \n",
      " 40  Last Activity_Email Opened                                               9240 non-null   uint8  \n",
      " 41  Last Activity_Email Received                                             9240 non-null   uint8  \n",
      " 42  Last Activity_Form Submitted on Website                                  9240 non-null   uint8  \n",
      " 43  Last Activity_Had a Phone Conversation                                   9240 non-null   uint8  \n",
      " 44  Last Activity_Olark Chat Conversation                                    9240 non-null   uint8  \n",
      " 45  Last Activity_Page Visited on Website                                    9240 non-null   uint8  \n",
      " 46  Last Activity_Resubscribed to emails                                     9240 non-null   uint8  \n",
      " 47  Last Activity_SMS Sent                                                   9240 non-null   uint8  \n",
      " 48  Last Activity_Unreachable                                                9240 non-null   uint8  \n",
      " 49  Last Activity_Unsubscribed                                               9240 non-null   uint8  \n",
      " 50  Last Activity_View in browser link Clicked                               9240 non-null   uint8  \n",
      " 51  Last Activity_Visited Booth in Tradeshow                                 9240 non-null   uint8  \n",
      " 52  What is your current occupation_Housewife                                9240 non-null   uint8  \n",
      " 53  What is your current occupation_Other                                    9240 non-null   uint8  \n",
      " 54  What is your current occupation_Student                                  9240 non-null   uint8  \n",
      " 55  What is your current occupation_Unemployed                               9240 non-null   uint8  \n",
      " 56  What is your current occupation_Working Professional                     9240 non-null   uint8  \n",
      " 57  What matters most to you in choosing a course_Flexibility & Convenience  9240 non-null   uint8  \n",
      " 58  What matters most to you in choosing a course_Other                      9240 non-null   uint8  \n",
      " 59  Last Notable Activity_Email Bounced                                      9240 non-null   uint8  \n",
      " 60  Last Notable Activity_Email Link Clicked                                 9240 non-null   uint8  \n",
      " 61  Last Notable Activity_Email Marked Spam                                  9240 non-null   uint8  \n",
      " 62  Last Notable Activity_Email Opened                                       9240 non-null   uint8  \n",
      " 63  Last Notable Activity_Email Received                                     9240 non-null   uint8  \n",
      " 64  Last Notable Activity_Form Submitted on Website                          9240 non-null   uint8  \n",
      " 65  Last Notable Activity_Had a Phone Conversation                           9240 non-null   uint8  \n",
      " 66  Last Notable Activity_Modified                                           9240 non-null   uint8  \n",
      " 67  Last Notable Activity_Olark Chat Conversation                            9240 non-null   uint8  \n",
      " 68  Last Notable Activity_Page Visited on Website                            9240 non-null   uint8  \n",
      " 69  Last Notable Activity_Resubscribed to emails                             9240 non-null   uint8  \n",
      " 70  Last Notable Activity_SMS Sent                                           9240 non-null   uint8  \n",
      " 71  Last Notable Activity_Unreachable                                        9240 non-null   uint8  \n",
      " 72  Last Notable Activity_Unsubscribed                                       9240 non-null   uint8  \n",
      " 73  Last Notable Activity_View in browser link Clicked                       9240 non-null   uint8  \n",
      "dtypes: float64(2), int64(10), uint8(62)\n",
      "memory usage: 1.4 MB\n"
     ]
    }
   ],
   "source": [
    "# Converting some categories to numercial as they are imported as an 'Object'\n",
    "\n",
    "lead_score[['TotalVisits','Page Views Per Visit']]=lead_score[['TotalVisits','Page Views Per Visit']].astype('float')\n",
    "\n",
    "lead_score.info()"
   ]
  },
  {
   "cell_type": "markdown",
   "id": "hollywood-smile",
   "metadata": {},
   "source": [
    "# Check outliers"
   ]
  },
  {
   "cell_type": "code",
   "execution_count": 53,
   "id": "adjusted-procurement",
   "metadata": {},
   "outputs": [
    {
     "data": {
      "text/html": [
       "<div>\n",
       "<style scoped>\n",
       "    .dataframe tbody tr th:only-of-type {\n",
       "        vertical-align: middle;\n",
       "    }\n",
       "\n",
       "    .dataframe tbody tr th {\n",
       "        vertical-align: top;\n",
       "    }\n",
       "\n",
       "    .dataframe thead th {\n",
       "        text-align: right;\n",
       "    }\n",
       "</style>\n",
       "<table border=\"1\" class=\"dataframe\">\n",
       "  <thead>\n",
       "    <tr style=\"text-align: right;\">\n",
       "      <th></th>\n",
       "      <th>Do Not Email</th>\n",
       "      <th>Do Not Call</th>\n",
       "      <th>Converted</th>\n",
       "      <th>TotalVisits</th>\n",
       "      <th>Total Time Spent on Website</th>\n",
       "      <th>Page Views Per Visit</th>\n",
       "      <th>Search</th>\n",
       "      <th>Newspaper Article</th>\n",
       "      <th>X Education Forums</th>\n",
       "      <th>Newspaper</th>\n",
       "      <th>...</th>\n",
       "      <th>Last Notable Activity_Form Submitted on Website</th>\n",
       "      <th>Last Notable Activity_Had a Phone Conversation</th>\n",
       "      <th>Last Notable Activity_Modified</th>\n",
       "      <th>Last Notable Activity_Olark Chat Conversation</th>\n",
       "      <th>Last Notable Activity_Page Visited on Website</th>\n",
       "      <th>Last Notable Activity_Resubscribed to emails</th>\n",
       "      <th>Last Notable Activity_SMS Sent</th>\n",
       "      <th>Last Notable Activity_Unreachable</th>\n",
       "      <th>Last Notable Activity_Unsubscribed</th>\n",
       "      <th>Last Notable Activity_View in browser link Clicked</th>\n",
       "    </tr>\n",
       "  </thead>\n",
       "  <tbody>\n",
       "    <tr>\n",
       "      <th>count</th>\n",
       "      <td>9240.000000</td>\n",
       "      <td>9240.000000</td>\n",
       "      <td>9240.000000</td>\n",
       "      <td>9240.000000</td>\n",
       "      <td>9240.000000</td>\n",
       "      <td>9240.000000</td>\n",
       "      <td>9240.000000</td>\n",
       "      <td>9240.000000</td>\n",
       "      <td>9240.000000</td>\n",
       "      <td>9240.000000</td>\n",
       "      <td>...</td>\n",
       "      <td>9240.000000</td>\n",
       "      <td>9240.000000</td>\n",
       "      <td>9240.000000</td>\n",
       "      <td>9240.000000</td>\n",
       "      <td>9240.000000</td>\n",
       "      <td>9240.000000</td>\n",
       "      <td>9240.000000</td>\n",
       "      <td>9240.000000</td>\n",
       "      <td>9240.000000</td>\n",
       "      <td>9240.000000</td>\n",
       "    </tr>\n",
       "    <tr>\n",
       "      <th>mean</th>\n",
       "      <td>0.079437</td>\n",
       "      <td>0.000216</td>\n",
       "      <td>0.385390</td>\n",
       "      <td>3.394156</td>\n",
       "      <td>487.698268</td>\n",
       "      <td>2.327787</td>\n",
       "      <td>0.001515</td>\n",
       "      <td>0.000216</td>\n",
       "      <td>0.000108</td>\n",
       "      <td>0.000108</td>\n",
       "      <td>...</td>\n",
       "      <td>0.000108</td>\n",
       "      <td>0.001515</td>\n",
       "      <td>0.368723</td>\n",
       "      <td>0.019805</td>\n",
       "      <td>0.034416</td>\n",
       "      <td>0.000108</td>\n",
       "      <td>0.235065</td>\n",
       "      <td>0.003463</td>\n",
       "      <td>0.005087</td>\n",
       "      <td>0.000108</td>\n",
       "    </tr>\n",
       "    <tr>\n",
       "      <th>std</th>\n",
       "      <td>0.270435</td>\n",
       "      <td>0.014711</td>\n",
       "      <td>0.486714</td>\n",
       "      <td>4.836682</td>\n",
       "      <td>548.021466</td>\n",
       "      <td>2.164258</td>\n",
       "      <td>0.038898</td>\n",
       "      <td>0.014711</td>\n",
       "      <td>0.010403</td>\n",
       "      <td>0.010403</td>\n",
       "      <td>...</td>\n",
       "      <td>0.010403</td>\n",
       "      <td>0.038898</td>\n",
       "      <td>0.482485</td>\n",
       "      <td>0.139338</td>\n",
       "      <td>0.182304</td>\n",
       "      <td>0.010403</td>\n",
       "      <td>0.424062</td>\n",
       "      <td>0.058750</td>\n",
       "      <td>0.071142</td>\n",
       "      <td>0.010403</td>\n",
       "    </tr>\n",
       "    <tr>\n",
       "      <th>min</th>\n",
       "      <td>0.000000</td>\n",
       "      <td>0.000000</td>\n",
       "      <td>0.000000</td>\n",
       "      <td>0.000000</td>\n",
       "      <td>0.000000</td>\n",
       "      <td>0.000000</td>\n",
       "      <td>0.000000</td>\n",
       "      <td>0.000000</td>\n",
       "      <td>0.000000</td>\n",
       "      <td>0.000000</td>\n",
       "      <td>...</td>\n",
       "      <td>0.000000</td>\n",
       "      <td>0.000000</td>\n",
       "      <td>0.000000</td>\n",
       "      <td>0.000000</td>\n",
       "      <td>0.000000</td>\n",
       "      <td>0.000000</td>\n",
       "      <td>0.000000</td>\n",
       "      <td>0.000000</td>\n",
       "      <td>0.000000</td>\n",
       "      <td>0.000000</td>\n",
       "    </tr>\n",
       "    <tr>\n",
       "      <th>25%</th>\n",
       "      <td>0.000000</td>\n",
       "      <td>0.000000</td>\n",
       "      <td>0.000000</td>\n",
       "      <td>0.000000</td>\n",
       "      <td>12.000000</td>\n",
       "      <td>0.000000</td>\n",
       "      <td>0.000000</td>\n",
       "      <td>0.000000</td>\n",
       "      <td>0.000000</td>\n",
       "      <td>0.000000</td>\n",
       "      <td>...</td>\n",
       "      <td>0.000000</td>\n",
       "      <td>0.000000</td>\n",
       "      <td>0.000000</td>\n",
       "      <td>0.000000</td>\n",
       "      <td>0.000000</td>\n",
       "      <td>0.000000</td>\n",
       "      <td>0.000000</td>\n",
       "      <td>0.000000</td>\n",
       "      <td>0.000000</td>\n",
       "      <td>0.000000</td>\n",
       "    </tr>\n",
       "    <tr>\n",
       "      <th>50%</th>\n",
       "      <td>0.000000</td>\n",
       "      <td>0.000000</td>\n",
       "      <td>0.000000</td>\n",
       "      <td>3.000000</td>\n",
       "      <td>248.000000</td>\n",
       "      <td>2.000000</td>\n",
       "      <td>0.000000</td>\n",
       "      <td>0.000000</td>\n",
       "      <td>0.000000</td>\n",
       "      <td>0.000000</td>\n",
       "      <td>...</td>\n",
       "      <td>0.000000</td>\n",
       "      <td>0.000000</td>\n",
       "      <td>0.000000</td>\n",
       "      <td>0.000000</td>\n",
       "      <td>0.000000</td>\n",
       "      <td>0.000000</td>\n",
       "      <td>0.000000</td>\n",
       "      <td>0.000000</td>\n",
       "      <td>0.000000</td>\n",
       "      <td>0.000000</td>\n",
       "    </tr>\n",
       "    <tr>\n",
       "      <th>75%</th>\n",
       "      <td>0.000000</td>\n",
       "      <td>0.000000</td>\n",
       "      <td>1.000000</td>\n",
       "      <td>5.000000</td>\n",
       "      <td>936.000000</td>\n",
       "      <td>3.000000</td>\n",
       "      <td>0.000000</td>\n",
       "      <td>0.000000</td>\n",
       "      <td>0.000000</td>\n",
       "      <td>0.000000</td>\n",
       "      <td>...</td>\n",
       "      <td>0.000000</td>\n",
       "      <td>0.000000</td>\n",
       "      <td>1.000000</td>\n",
       "      <td>0.000000</td>\n",
       "      <td>0.000000</td>\n",
       "      <td>0.000000</td>\n",
       "      <td>0.000000</td>\n",
       "      <td>0.000000</td>\n",
       "      <td>0.000000</td>\n",
       "      <td>0.000000</td>\n",
       "    </tr>\n",
       "    <tr>\n",
       "      <th>max</th>\n",
       "      <td>1.000000</td>\n",
       "      <td>1.000000</td>\n",
       "      <td>1.000000</td>\n",
       "      <td>251.000000</td>\n",
       "      <td>2272.000000</td>\n",
       "      <td>55.000000</td>\n",
       "      <td>1.000000</td>\n",
       "      <td>1.000000</td>\n",
       "      <td>1.000000</td>\n",
       "      <td>1.000000</td>\n",
       "      <td>...</td>\n",
       "      <td>1.000000</td>\n",
       "      <td>1.000000</td>\n",
       "      <td>1.000000</td>\n",
       "      <td>1.000000</td>\n",
       "      <td>1.000000</td>\n",
       "      <td>1.000000</td>\n",
       "      <td>1.000000</td>\n",
       "      <td>1.000000</td>\n",
       "      <td>1.000000</td>\n",
       "      <td>1.000000</td>\n",
       "    </tr>\n",
       "  </tbody>\n",
       "</table>\n",
       "<p>8 rows × 74 columns</p>\n",
       "</div>"
      ],
      "text/plain": [
       "       Do Not Email  Do Not Call    Converted  TotalVisits  \\\n",
       "count   9240.000000  9240.000000  9240.000000  9240.000000   \n",
       "mean       0.079437     0.000216     0.385390     3.394156   \n",
       "std        0.270435     0.014711     0.486714     4.836682   \n",
       "min        0.000000     0.000000     0.000000     0.000000   \n",
       "25%        0.000000     0.000000     0.000000     0.000000   \n",
       "50%        0.000000     0.000000     0.000000     3.000000   \n",
       "75%        0.000000     0.000000     1.000000     5.000000   \n",
       "max        1.000000     1.000000     1.000000   251.000000   \n",
       "\n",
       "       Total Time Spent on Website  Page Views Per Visit       Search  \\\n",
       "count                  9240.000000           9240.000000  9240.000000   \n",
       "mean                    487.698268              2.327787     0.001515   \n",
       "std                     548.021466              2.164258     0.038898   \n",
       "min                       0.000000              0.000000     0.000000   \n",
       "25%                      12.000000              0.000000     0.000000   \n",
       "50%                     248.000000              2.000000     0.000000   \n",
       "75%                     936.000000              3.000000     0.000000   \n",
       "max                    2272.000000             55.000000     1.000000   \n",
       "\n",
       "       Newspaper Article  X Education Forums    Newspaper  ...  \\\n",
       "count        9240.000000         9240.000000  9240.000000  ...   \n",
       "mean            0.000216            0.000108     0.000108  ...   \n",
       "std             0.014711            0.010403     0.010403  ...   \n",
       "min             0.000000            0.000000     0.000000  ...   \n",
       "25%             0.000000            0.000000     0.000000  ...   \n",
       "50%             0.000000            0.000000     0.000000  ...   \n",
       "75%             0.000000            0.000000     0.000000  ...   \n",
       "max             1.000000            1.000000     1.000000  ...   \n",
       "\n",
       "       Last Notable Activity_Form Submitted on Website  \\\n",
       "count                                      9240.000000   \n",
       "mean                                          0.000108   \n",
       "std                                           0.010403   \n",
       "min                                           0.000000   \n",
       "25%                                           0.000000   \n",
       "50%                                           0.000000   \n",
       "75%                                           0.000000   \n",
       "max                                           1.000000   \n",
       "\n",
       "       Last Notable Activity_Had a Phone Conversation  \\\n",
       "count                                     9240.000000   \n",
       "mean                                         0.001515   \n",
       "std                                          0.038898   \n",
       "min                                          0.000000   \n",
       "25%                                          0.000000   \n",
       "50%                                          0.000000   \n",
       "75%                                          0.000000   \n",
       "max                                          1.000000   \n",
       "\n",
       "       Last Notable Activity_Modified  \\\n",
       "count                     9240.000000   \n",
       "mean                         0.368723   \n",
       "std                          0.482485   \n",
       "min                          0.000000   \n",
       "25%                          0.000000   \n",
       "50%                          0.000000   \n",
       "75%                          1.000000   \n",
       "max                          1.000000   \n",
       "\n",
       "       Last Notable Activity_Olark Chat Conversation  \\\n",
       "count                                    9240.000000   \n",
       "mean                                        0.019805   \n",
       "std                                         0.139338   \n",
       "min                                         0.000000   \n",
       "25%                                         0.000000   \n",
       "50%                                         0.000000   \n",
       "75%                                         0.000000   \n",
       "max                                         1.000000   \n",
       "\n",
       "       Last Notable Activity_Page Visited on Website  \\\n",
       "count                                    9240.000000   \n",
       "mean                                        0.034416   \n",
       "std                                         0.182304   \n",
       "min                                         0.000000   \n",
       "25%                                         0.000000   \n",
       "50%                                         0.000000   \n",
       "75%                                         0.000000   \n",
       "max                                         1.000000   \n",
       "\n",
       "       Last Notable Activity_Resubscribed to emails  \\\n",
       "count                                   9240.000000   \n",
       "mean                                       0.000108   \n",
       "std                                        0.010403   \n",
       "min                                        0.000000   \n",
       "25%                                        0.000000   \n",
       "50%                                        0.000000   \n",
       "75%                                        0.000000   \n",
       "max                                        1.000000   \n",
       "\n",
       "       Last Notable Activity_SMS Sent  Last Notable Activity_Unreachable  \\\n",
       "count                     9240.000000                        9240.000000   \n",
       "mean                         0.235065                           0.003463   \n",
       "std                          0.424062                           0.058750   \n",
       "min                          0.000000                           0.000000   \n",
       "25%                          0.000000                           0.000000   \n",
       "50%                          0.000000                           0.000000   \n",
       "75%                          0.000000                           0.000000   \n",
       "max                          1.000000                           1.000000   \n",
       "\n",
       "       Last Notable Activity_Unsubscribed  \\\n",
       "count                         9240.000000   \n",
       "mean                             0.005087   \n",
       "std                              0.071142   \n",
       "min                              0.000000   \n",
       "25%                              0.000000   \n",
       "50%                              0.000000   \n",
       "75%                              0.000000   \n",
       "max                              1.000000   \n",
       "\n",
       "       Last Notable Activity_View in browser link Clicked  \n",
       "count                                        9240.000000   \n",
       "mean                                            0.000108   \n",
       "std                                             0.010403   \n",
       "min                                             0.000000   \n",
       "25%                                             0.000000   \n",
       "50%                                             0.000000   \n",
       "75%                                             0.000000   \n",
       "max                                             1.000000   \n",
       "\n",
       "[8 rows x 74 columns]"
      ]
     },
     "execution_count": 53,
     "metadata": {},
     "output_type": "execute_result"
    }
   ],
   "source": [
    "## Description of numerical Data\n",
    "\n",
    "lead_score.describe()"
   ]
  },
  {
   "cell_type": "markdown",
   "id": "dirty-partition",
   "metadata": {},
   "source": [
    "   - 'TotalVisits' and 'Page Views Per Visit' are the outliers.  We could visualize them through boxplot for better understanding"
   ]
  },
  {
   "cell_type": "code",
   "execution_count": 54,
   "id": "racial-directory",
   "metadata": {},
   "outputs": [
    {
     "data": {
      "image/png": "[encoded data removed]",
      "text/plain": [
       "<Figure size 2160x3600 with 3 Axes>"
      ]
     },
     "metadata": {
      "needs_background": "light"
     },
     "output_type": "display_data"
    }
   ],
   "source": [
    "## Visualising the outliers\n",
    "\n",
    "plt.figure(figsize=(30,50))\n",
    "plt.tight_layout()\n",
    "sns.set_style('whitegrid')\n",
    "sns.set_context('talk')\n",
    "# Title names for the columns in the dataset\n",
    "\n",
    "col={0:'TotalVisits',1:'Total Time Spent on Website',2:'Page Views Per Visit'}\n",
    "\n",
    "# Visualising the outliers with boxplot for all the variables \n",
    "\n",
    "for i in range(3):\n",
    "    plt.subplot(3,3,i+1)\n",
    "    plt.title(col[i],fontsize=20)\n",
    "    sns.boxplot(x=lead_score[col[i]],data=lead_score,palette='gist_heat',orient='v',fliersize=15) "
   ]
  },
  {
   "cell_type": "markdown",
   "id": "studied-douglas",
   "metadata": {},
   "source": [
    "   - Its clear that 'TotalVisits' and 'Page Views Per Visit' are the outliers.  Instead of deleting them which could create problems we will create bins."
   ]
  },
  {
   "cell_type": "code",
   "execution_count": 55,
   "id": "adopted-interim",
   "metadata": {},
   "outputs": [],
   "source": [
    "# For 'TotalVisits' variable\n",
    "\n",
    "# As we have range from 0 to 251 for'TotalVisits' variable\n",
    "\n",
    "ranges_total_visits={'TotalVisits_0_50': 50,'TotalVisits_50_100': 100,'TotalVisits_100_150': 150,\n",
    "                     'TotalVisits_150_200' : 200,'TotalVisits_200_250': 250,'TotalVisits_250_300': 300}\n",
    "\n",
    "# Assigning '1' or '0' to each bins\n",
    "\n",
    "for i in range(len(list(ranges_total_visits.keys()))):\n",
    "    lead_score[list(ranges_total_visits.keys())[i]]=lead_score['TotalVisits'].map(lambda x: 1 if (x < list(ranges_total_visits.values())[i] and x >= (list(ranges_total_visits.values())[i] - 50)) else 0)"
   ]
  },
  {
   "cell_type": "code",
   "execution_count": 56,
   "id": "introductory-damages",
   "metadata": {},
   "outputs": [],
   "source": [
    "# For 'Page Views Per Visit' variable\n",
    "\n",
    "# As we have range from 0 to 55 for'Page Views Per Visit' variable\n",
    "\n",
    "ranges_total_visits_1={'Page Views Per Visit_0_10': 10,'Page Views Per Visit_10_20': 20,'Page Views Per Visit_20_30': 30,\n",
    "                     'Page Views Per Visit_30_40' : 40,'Page Views Per Visit_40_50': 50,'Page Views Per Visit_50_60': 60}\n",
    "\n",
    "# Assigning '1' or '0' to each bins\n",
    "for i in range(len(list(ranges_total_visits_1.keys()))):\n",
    "    lead_score[list(ranges_total_visits_1.keys())[i]]=lead_score['Page Views Per Visit'].map(lambda x: 1 if (x < list(ranges_total_visits_1.values())[i] and x >= (list(ranges_total_visits_1.values())[i] - 10)) else 0)\n"
   ]
  },
  {
   "cell_type": "code",
   "execution_count": 57,
   "id": "aware-theology",
   "metadata": {},
   "outputs": [
    {
     "data": {
      "text/html": [
       "<div>\n",
       "<style scoped>\n",
       "    .dataframe tbody tr th:only-of-type {\n",
       "        vertical-align: middle;\n",
       "    }\n",
       "\n",
       "    .dataframe tbody tr th {\n",
       "        vertical-align: top;\n",
       "    }\n",
       "\n",
       "    .dataframe thead th {\n",
       "        text-align: right;\n",
       "    }\n",
       "</style>\n",
       "<table border=\"1\" class=\"dataframe\">\n",
       "  <thead>\n",
       "    <tr style=\"text-align: right;\">\n",
       "      <th></th>\n",
       "      <th>Do Not Email</th>\n",
       "      <th>Do Not Call</th>\n",
       "      <th>Converted</th>\n",
       "      <th>Total Time Spent on Website</th>\n",
       "      <th>Search</th>\n",
       "      <th>Newspaper Article</th>\n",
       "      <th>X Education Forums</th>\n",
       "      <th>Newspaper</th>\n",
       "      <th>Digital Advertisement</th>\n",
       "      <th>Through Recommendations</th>\n",
       "      <th>...</th>\n",
       "      <th>Last Notable Activity_Unsubscribed</th>\n",
       "      <th>Last Notable Activity_View in browser link Clicked</th>\n",
       "      <th>TotalVisits_0_50</th>\n",
       "      <th>TotalVisits_50_100</th>\n",
       "      <th>TotalVisits_100_150</th>\n",
       "      <th>TotalVisits_250_300</th>\n",
       "      <th>Page Views Per Visit_0_10</th>\n",
       "      <th>Page Views Per Visit_10_20</th>\n",
       "      <th>Page Views Per Visit_20_30</th>\n",
       "      <th>Page Views Per Visit_50_60</th>\n",
       "    </tr>\n",
       "  </thead>\n",
       "  <tbody>\n",
       "    <tr>\n",
       "      <th>0</th>\n",
       "      <td>0</td>\n",
       "      <td>0</td>\n",
       "      <td>0</td>\n",
       "      <td>0</td>\n",
       "      <td>0</td>\n",
       "      <td>0</td>\n",
       "      <td>0</td>\n",
       "      <td>0</td>\n",
       "      <td>0</td>\n",
       "      <td>0</td>\n",
       "      <td>...</td>\n",
       "      <td>0</td>\n",
       "      <td>0</td>\n",
       "      <td>1</td>\n",
       "      <td>0</td>\n",
       "      <td>0</td>\n",
       "      <td>0</td>\n",
       "      <td>1</td>\n",
       "      <td>0</td>\n",
       "      <td>0</td>\n",
       "      <td>0</td>\n",
       "    </tr>\n",
       "    <tr>\n",
       "      <th>1</th>\n",
       "      <td>0</td>\n",
       "      <td>0</td>\n",
       "      <td>0</td>\n",
       "      <td>674</td>\n",
       "      <td>0</td>\n",
       "      <td>0</td>\n",
       "      <td>0</td>\n",
       "      <td>0</td>\n",
       "      <td>0</td>\n",
       "      <td>0</td>\n",
       "      <td>...</td>\n",
       "      <td>0</td>\n",
       "      <td>0</td>\n",
       "      <td>1</td>\n",
       "      <td>0</td>\n",
       "      <td>0</td>\n",
       "      <td>0</td>\n",
       "      <td>1</td>\n",
       "      <td>0</td>\n",
       "      <td>0</td>\n",
       "      <td>0</td>\n",
       "    </tr>\n",
       "    <tr>\n",
       "      <th>2</th>\n",
       "      <td>0</td>\n",
       "      <td>0</td>\n",
       "      <td>1</td>\n",
       "      <td>1532</td>\n",
       "      <td>0</td>\n",
       "      <td>0</td>\n",
       "      <td>0</td>\n",
       "      <td>0</td>\n",
       "      <td>0</td>\n",
       "      <td>0</td>\n",
       "      <td>...</td>\n",
       "      <td>0</td>\n",
       "      <td>0</td>\n",
       "      <td>1</td>\n",
       "      <td>0</td>\n",
       "      <td>0</td>\n",
       "      <td>0</td>\n",
       "      <td>1</td>\n",
       "      <td>0</td>\n",
       "      <td>0</td>\n",
       "      <td>0</td>\n",
       "    </tr>\n",
       "    <tr>\n",
       "      <th>3</th>\n",
       "      <td>0</td>\n",
       "      <td>0</td>\n",
       "      <td>0</td>\n",
       "      <td>305</td>\n",
       "      <td>0</td>\n",
       "      <td>0</td>\n",
       "      <td>0</td>\n",
       "      <td>0</td>\n",
       "      <td>0</td>\n",
       "      <td>0</td>\n",
       "      <td>...</td>\n",
       "      <td>0</td>\n",
       "      <td>0</td>\n",
       "      <td>1</td>\n",
       "      <td>0</td>\n",
       "      <td>0</td>\n",
       "      <td>0</td>\n",
       "      <td>1</td>\n",
       "      <td>0</td>\n",
       "      <td>0</td>\n",
       "      <td>0</td>\n",
       "    </tr>\n",
       "    <tr>\n",
       "      <th>4</th>\n",
       "      <td>0</td>\n",
       "      <td>0</td>\n",
       "      <td>1</td>\n",
       "      <td>1428</td>\n",
       "      <td>0</td>\n",
       "      <td>0</td>\n",
       "      <td>0</td>\n",
       "      <td>0</td>\n",
       "      <td>0</td>\n",
       "      <td>0</td>\n",
       "      <td>...</td>\n",
       "      <td>0</td>\n",
       "      <td>0</td>\n",
       "      <td>1</td>\n",
       "      <td>0</td>\n",
       "      <td>0</td>\n",
       "      <td>0</td>\n",
       "      <td>1</td>\n",
       "      <td>0</td>\n",
       "      <td>0</td>\n",
       "      <td>0</td>\n",
       "    </tr>\n",
       "  </tbody>\n",
       "</table>\n",
       "<p>5 rows × 80 columns</p>\n",
       "</div>"
      ],
      "text/plain": [
       "   Do Not Email  Do Not Call  Converted  Total Time Spent on Website  Search  \\\n",
       "0             0            0          0                            0       0   \n",
       "1             0            0          0                          674       0   \n",
       "2             0            0          1                         1532       0   \n",
       "3             0            0          0                          305       0   \n",
       "4             0            0          1                         1428       0   \n",
       "\n",
       "   Newspaper Article  X Education Forums  Newspaper  Digital Advertisement  \\\n",
       "0                  0                   0          0                      0   \n",
       "1                  0                   0          0                      0   \n",
       "2                  0                   0          0                      0   \n",
       "3                  0                   0          0                      0   \n",
       "4                  0                   0          0                      0   \n",
       "\n",
       "   Through Recommendations  ...  Last Notable Activity_Unsubscribed  \\\n",
       "0                        0  ...                                   0   \n",
       "1                        0  ...                                   0   \n",
       "2                        0  ...                                   0   \n",
       "3                        0  ...                                   0   \n",
       "4                        0  ...                                   0   \n",
       "\n",
       "   Last Notable Activity_View in browser link Clicked  TotalVisits_0_50  \\\n",
       "0                                                  0                  1   \n",
       "1                                                  0                  1   \n",
       "2                                                  0                  1   \n",
       "3                                                  0                  1   \n",
       "4                                                  0                  1   \n",
       "\n",
       "   TotalVisits_50_100  TotalVisits_100_150  TotalVisits_250_300  \\\n",
       "0                   0                    0                    0   \n",
       "1                   0                    0                    0   \n",
       "2                   0                    0                    0   \n",
       "3                   0                    0                    0   \n",
       "4                   0                    0                    0   \n",
       "\n",
       "   Page Views Per Visit_0_10  Page Views Per Visit_10_20  \\\n",
       "0                          1                           0   \n",
       "1                          1                           0   \n",
       "2                          1                           0   \n",
       "3                          1                           0   \n",
       "4                          1                           0   \n",
       "\n",
       "   Page Views Per Visit_20_30  Page Views Per Visit_50_60  \n",
       "0                           0                           0  \n",
       "1                           0                           0  \n",
       "2                           0                           0  \n",
       "3                           0                           0  \n",
       "4                           0                           0  \n",
       "\n",
       "[5 rows x 80 columns]"
      ]
     },
     "execution_count": 57,
     "metadata": {},
     "output_type": "execute_result"
    }
   ],
   "source": [
    "#some more redundant columns are removed\n",
    "\n",
    "redundant=['TotalVisits','Page Views Per Visit','TotalVisits_150_200','TotalVisits_200_250','Page Views Per Visit_30_40','Page Views Per Visit_40_50']\n",
    "\n",
    "lead_score=lead_score.drop(redundant,axis=1)\n",
    "\n",
    "lead_score.head()"
   ]
  },
  {
   "cell_type": "markdown",
   "id": "opponent-facility",
   "metadata": {},
   "source": [
    "### <font color = blue> 3. Data Preparation for Modelling  </font>"
   ]
  },
  {
   "cell_type": "markdown",
   "id": "fourth-outreach",
   "metadata": {},
   "source": [
    "#### Train-test split"
   ]
  },
  {
   "cell_type": "code",
   "execution_count": 58,
   "id": "danish-scientist",
   "metadata": {},
   "outputs": [],
   "source": [
    "# Separating target varaible from dependent variable\n",
    "\n",
    "y=lead_score['Converted']     # putting target varaible 'Converted' to a new series 'y'\n",
    "\n",
    "y.head()\n",
    "\n",
    "X=lead_score.drop('Converted',1)"
   ]
  },
  {
   "cell_type": "code",
   "execution_count": 59,
   "id": "guilty-admission",
   "metadata": {},
   "outputs": [],
   "source": [
    "# Splitting the datset into train and test dataset\n",
    "\n",
    "X_train,X_test,y_train,y_test=train_test_split(X, y, train_size=0.7, test_size=0.3, random_state=100)"
   ]
  },
  {
   "cell_type": "code",
   "execution_count": 60,
   "id": "twenty-puppy",
   "metadata": {
    "scrolled": true
   },
   "outputs": [
    {
     "data": {
      "text/html": [
       "<div>\n",
       "<style scoped>\n",
       "    .dataframe tbody tr th:only-of-type {\n",
       "        vertical-align: middle;\n",
       "    }\n",
       "\n",
       "    .dataframe tbody tr th {\n",
       "        vertical-align: top;\n",
       "    }\n",
       "\n",
       "    .dataframe thead th {\n",
       "        text-align: right;\n",
       "    }\n",
       "</style>\n",
       "<table border=\"1\" class=\"dataframe\">\n",
       "  <thead>\n",
       "    <tr style=\"text-align: right;\">\n",
       "      <th></th>\n",
       "      <th>Do Not Email</th>\n",
       "      <th>Do Not Call</th>\n",
       "      <th>Total Time Spent on Website</th>\n",
       "      <th>Search</th>\n",
       "      <th>Newspaper Article</th>\n",
       "      <th>X Education Forums</th>\n",
       "      <th>Newspaper</th>\n",
       "      <th>Digital Advertisement</th>\n",
       "      <th>Through Recommendations</th>\n",
       "      <th>Lead Origin_Landing Page Submission</th>\n",
       "      <th>...</th>\n",
       "      <th>Last Notable Activity_Unsubscribed</th>\n",
       "      <th>Last Notable Activity_View in browser link Clicked</th>\n",
       "      <th>TotalVisits_0_50</th>\n",
       "      <th>TotalVisits_50_100</th>\n",
       "      <th>TotalVisits_100_150</th>\n",
       "      <th>TotalVisits_250_300</th>\n",
       "      <th>Page Views Per Visit_0_10</th>\n",
       "      <th>Page Views Per Visit_10_20</th>\n",
       "      <th>Page Views Per Visit_20_30</th>\n",
       "      <th>Page Views Per Visit_50_60</th>\n",
       "    </tr>\n",
       "  </thead>\n",
       "  <tbody>\n",
       "    <tr>\n",
       "      <th>1871</th>\n",
       "      <td>0</td>\n",
       "      <td>0</td>\n",
       "      <td>0</td>\n",
       "      <td>0</td>\n",
       "      <td>0</td>\n",
       "      <td>0</td>\n",
       "      <td>0</td>\n",
       "      <td>0</td>\n",
       "      <td>0</td>\n",
       "      <td>0</td>\n",
       "      <td>...</td>\n",
       "      <td>0</td>\n",
       "      <td>0</td>\n",
       "      <td>1</td>\n",
       "      <td>0</td>\n",
       "      <td>0</td>\n",
       "      <td>0</td>\n",
       "      <td>1</td>\n",
       "      <td>0</td>\n",
       "      <td>0</td>\n",
       "      <td>0</td>\n",
       "    </tr>\n",
       "    <tr>\n",
       "      <th>6795</th>\n",
       "      <td>0</td>\n",
       "      <td>0</td>\n",
       "      <td>487</td>\n",
       "      <td>0</td>\n",
       "      <td>0</td>\n",
       "      <td>0</td>\n",
       "      <td>0</td>\n",
       "      <td>0</td>\n",
       "      <td>0</td>\n",
       "      <td>1</td>\n",
       "      <td>...</td>\n",
       "      <td>0</td>\n",
       "      <td>0</td>\n",
       "      <td>1</td>\n",
       "      <td>0</td>\n",
       "      <td>0</td>\n",
       "      <td>0</td>\n",
       "      <td>1</td>\n",
       "      <td>0</td>\n",
       "      <td>0</td>\n",
       "      <td>0</td>\n",
       "    </tr>\n",
       "    <tr>\n",
       "      <th>3516</th>\n",
       "      <td>0</td>\n",
       "      <td>0</td>\n",
       "      <td>106</td>\n",
       "      <td>0</td>\n",
       "      <td>0</td>\n",
       "      <td>0</td>\n",
       "      <td>0</td>\n",
       "      <td>0</td>\n",
       "      <td>0</td>\n",
       "      <td>0</td>\n",
       "      <td>...</td>\n",
       "      <td>0</td>\n",
       "      <td>0</td>\n",
       "      <td>1</td>\n",
       "      <td>0</td>\n",
       "      <td>0</td>\n",
       "      <td>0</td>\n",
       "      <td>1</td>\n",
       "      <td>0</td>\n",
       "      <td>0</td>\n",
       "      <td>0</td>\n",
       "    </tr>\n",
       "    <tr>\n",
       "      <th>8105</th>\n",
       "      <td>0</td>\n",
       "      <td>0</td>\n",
       "      <td>1230</td>\n",
       "      <td>0</td>\n",
       "      <td>0</td>\n",
       "      <td>0</td>\n",
       "      <td>0</td>\n",
       "      <td>0</td>\n",
       "      <td>0</td>\n",
       "      <td>1</td>\n",
       "      <td>...</td>\n",
       "      <td>0</td>\n",
       "      <td>0</td>\n",
       "      <td>1</td>\n",
       "      <td>0</td>\n",
       "      <td>0</td>\n",
       "      <td>0</td>\n",
       "      <td>1</td>\n",
       "      <td>0</td>\n",
       "      <td>0</td>\n",
       "      <td>0</td>\n",
       "    </tr>\n",
       "    <tr>\n",
       "      <th>3934</th>\n",
       "      <td>0</td>\n",
       "      <td>0</td>\n",
       "      <td>0</td>\n",
       "      <td>0</td>\n",
       "      <td>0</td>\n",
       "      <td>0</td>\n",
       "      <td>0</td>\n",
       "      <td>0</td>\n",
       "      <td>0</td>\n",
       "      <td>0</td>\n",
       "      <td>...</td>\n",
       "      <td>0</td>\n",
       "      <td>0</td>\n",
       "      <td>1</td>\n",
       "      <td>0</td>\n",
       "      <td>0</td>\n",
       "      <td>0</td>\n",
       "      <td>1</td>\n",
       "      <td>0</td>\n",
       "      <td>0</td>\n",
       "      <td>0</td>\n",
       "    </tr>\n",
       "  </tbody>\n",
       "</table>\n",
       "<p>5 rows × 79 columns</p>\n",
       "</div>"
      ],
      "text/plain": [
       "      Do Not Email  Do Not Call  Total Time Spent on Website  Search  \\\n",
       "1871             0            0                            0       0   \n",
       "6795             0            0                          487       0   \n",
       "3516             0            0                          106       0   \n",
       "8105             0            0                         1230       0   \n",
       "3934             0            0                            0       0   \n",
       "\n",
       "      Newspaper Article  X Education Forums  Newspaper  Digital Advertisement  \\\n",
       "1871                  0                   0          0                      0   \n",
       "6795                  0                   0          0                      0   \n",
       "3516                  0                   0          0                      0   \n",
       "8105                  0                   0          0                      0   \n",
       "3934                  0                   0          0                      0   \n",
       "\n",
       "      Through Recommendations  Lead Origin_Landing Page Submission  ...  \\\n",
       "1871                        0                                    0  ...   \n",
       "6795                        0                                    1  ...   \n",
       "3516                        0                                    0  ...   \n",
       "8105                        0                                    1  ...   \n",
       "3934                        0                                    0  ...   \n",
       "\n",
       "      Last Notable Activity_Unsubscribed  \\\n",
       "1871                                   0   \n",
       "6795                                   0   \n",
       "3516                                   0   \n",
       "8105                                   0   \n",
       "3934                                   0   \n",
       "\n",
       "      Last Notable Activity_View in browser link Clicked  TotalVisits_0_50  \\\n",
       "1871                                                  0                  1   \n",
       "6795                                                  0                  1   \n",
       "3516                                                  0                  1   \n",
       "8105                                                  0                  1   \n",
       "3934                                                  0                  1   \n",
       "\n",
       "      TotalVisits_50_100  TotalVisits_100_150  TotalVisits_250_300  \\\n",
       "1871                   0                    0                    0   \n",
       "6795                   0                    0                    0   \n",
       "3516                   0                    0                    0   \n",
       "8105                   0                    0                    0   \n",
       "3934                   0                    0                    0   \n",
       "\n",
       "      Page Views Per Visit_0_10  Page Views Per Visit_10_20  \\\n",
       "1871                          1                           0   \n",
       "6795                          1                           0   \n",
       "3516                          1                           0   \n",
       "8105                          1                           0   \n",
       "3934                          1                           0   \n",
       "\n",
       "      Page Views Per Visit_20_30  Page Views Per Visit_50_60  \n",
       "1871                           0                           0  \n",
       "6795                           0                           0  \n",
       "3516                           0                           0  \n",
       "8105                           0                           0  \n",
       "3934                           0                           0  \n",
       "\n",
       "[5 rows x 79 columns]"
      ]
     },
     "execution_count": 60,
     "metadata": {},
     "output_type": "execute_result"
    }
   ],
   "source": [
    "## Checking Train data\n",
    "\n",
    "X_train.head()"
   ]
  },
  {
   "cell_type": "markdown",
   "id": "leading-frost",
   "metadata": {},
   "source": [
    "#### Standardization of feature"
   ]
  },
  {
   "cell_type": "code",
   "execution_count": 61,
   "id": "consecutive-blowing",
   "metadata": {},
   "outputs": [
    {
     "data": {
      "text/html": [
       "<div>\n",
       "<style scoped>\n",
       "    .dataframe tbody tr th:only-of-type {\n",
       "        vertical-align: middle;\n",
       "    }\n",
       "\n",
       "    .dataframe tbody tr th {\n",
       "        vertical-align: top;\n",
       "    }\n",
       "\n",
       "    .dataframe thead th {\n",
       "        text-align: right;\n",
       "    }\n",
       "</style>\n",
       "<table border=\"1\" class=\"dataframe\">\n",
       "  <thead>\n",
       "    <tr style=\"text-align: right;\">\n",
       "      <th></th>\n",
       "      <th>Do Not Email</th>\n",
       "      <th>Do Not Call</th>\n",
       "      <th>Total Time Spent on Website</th>\n",
       "      <th>Search</th>\n",
       "      <th>Newspaper Article</th>\n",
       "      <th>X Education Forums</th>\n",
       "      <th>Newspaper</th>\n",
       "      <th>Digital Advertisement</th>\n",
       "      <th>Through Recommendations</th>\n",
       "      <th>Lead Origin_Landing Page Submission</th>\n",
       "      <th>...</th>\n",
       "      <th>Last Notable Activity_Unsubscribed</th>\n",
       "      <th>Last Notable Activity_View in browser link Clicked</th>\n",
       "      <th>TotalVisits_0_50</th>\n",
       "      <th>TotalVisits_50_100</th>\n",
       "      <th>TotalVisits_100_150</th>\n",
       "      <th>TotalVisits_250_300</th>\n",
       "      <th>Page Views Per Visit_0_10</th>\n",
       "      <th>Page Views Per Visit_10_20</th>\n",
       "      <th>Page Views Per Visit_20_30</th>\n",
       "      <th>Page Views Per Visit_50_60</th>\n",
       "    </tr>\n",
       "  </thead>\n",
       "  <tbody>\n",
       "    <tr>\n",
       "      <th>1871</th>\n",
       "      <td>0</td>\n",
       "      <td>0</td>\n",
       "      <td>-0.885371</td>\n",
       "      <td>0</td>\n",
       "      <td>0</td>\n",
       "      <td>0</td>\n",
       "      <td>0</td>\n",
       "      <td>0</td>\n",
       "      <td>0</td>\n",
       "      <td>0</td>\n",
       "      <td>...</td>\n",
       "      <td>0</td>\n",
       "      <td>0</td>\n",
       "      <td>1</td>\n",
       "      <td>0</td>\n",
       "      <td>0</td>\n",
       "      <td>0</td>\n",
       "      <td>1</td>\n",
       "      <td>0</td>\n",
       "      <td>0</td>\n",
       "      <td>0</td>\n",
       "    </tr>\n",
       "    <tr>\n",
       "      <th>6795</th>\n",
       "      <td>0</td>\n",
       "      <td>0</td>\n",
       "      <td>0.005716</td>\n",
       "      <td>0</td>\n",
       "      <td>0</td>\n",
       "      <td>0</td>\n",
       "      <td>0</td>\n",
       "      <td>0</td>\n",
       "      <td>0</td>\n",
       "      <td>1</td>\n",
       "      <td>...</td>\n",
       "      <td>0</td>\n",
       "      <td>0</td>\n",
       "      <td>1</td>\n",
       "      <td>0</td>\n",
       "      <td>0</td>\n",
       "      <td>0</td>\n",
       "      <td>1</td>\n",
       "      <td>0</td>\n",
       "      <td>0</td>\n",
       "      <td>0</td>\n",
       "    </tr>\n",
       "    <tr>\n",
       "      <th>3516</th>\n",
       "      <td>0</td>\n",
       "      <td>0</td>\n",
       "      <td>-0.691418</td>\n",
       "      <td>0</td>\n",
       "      <td>0</td>\n",
       "      <td>0</td>\n",
       "      <td>0</td>\n",
       "      <td>0</td>\n",
       "      <td>0</td>\n",
       "      <td>0</td>\n",
       "      <td>...</td>\n",
       "      <td>0</td>\n",
       "      <td>0</td>\n",
       "      <td>1</td>\n",
       "      <td>0</td>\n",
       "      <td>0</td>\n",
       "      <td>0</td>\n",
       "      <td>1</td>\n",
       "      <td>0</td>\n",
       "      <td>0</td>\n",
       "      <td>0</td>\n",
       "    </tr>\n",
       "    <tr>\n",
       "      <th>8105</th>\n",
       "      <td>0</td>\n",
       "      <td>0</td>\n",
       "      <td>1.365219</td>\n",
       "      <td>0</td>\n",
       "      <td>0</td>\n",
       "      <td>0</td>\n",
       "      <td>0</td>\n",
       "      <td>0</td>\n",
       "      <td>0</td>\n",
       "      <td>1</td>\n",
       "      <td>...</td>\n",
       "      <td>0</td>\n",
       "      <td>0</td>\n",
       "      <td>1</td>\n",
       "      <td>0</td>\n",
       "      <td>0</td>\n",
       "      <td>0</td>\n",
       "      <td>1</td>\n",
       "      <td>0</td>\n",
       "      <td>0</td>\n",
       "      <td>0</td>\n",
       "    </tr>\n",
       "    <tr>\n",
       "      <th>3934</th>\n",
       "      <td>0</td>\n",
       "      <td>0</td>\n",
       "      <td>-0.885371</td>\n",
       "      <td>0</td>\n",
       "      <td>0</td>\n",
       "      <td>0</td>\n",
       "      <td>0</td>\n",
       "      <td>0</td>\n",
       "      <td>0</td>\n",
       "      <td>0</td>\n",
       "      <td>...</td>\n",
       "      <td>0</td>\n",
       "      <td>0</td>\n",
       "      <td>1</td>\n",
       "      <td>0</td>\n",
       "      <td>0</td>\n",
       "      <td>0</td>\n",
       "      <td>1</td>\n",
       "      <td>0</td>\n",
       "      <td>0</td>\n",
       "      <td>0</td>\n",
       "    </tr>\n",
       "  </tbody>\n",
       "</table>\n",
       "<p>5 rows × 79 columns</p>\n",
       "</div>"
      ],
      "text/plain": [
       "      Do Not Email  Do Not Call  Total Time Spent on Website  Search  \\\n",
       "1871             0            0                    -0.885371       0   \n",
       "6795             0            0                     0.005716       0   \n",
       "3516             0            0                    -0.691418       0   \n",
       "8105             0            0                     1.365219       0   \n",
       "3934             0            0                    -0.885371       0   \n",
       "\n",
       "      Newspaper Article  X Education Forums  Newspaper  Digital Advertisement  \\\n",
       "1871                  0                   0          0                      0   \n",
       "6795                  0                   0          0                      0   \n",
       "3516                  0                   0          0                      0   \n",
       "8105                  0                   0          0                      0   \n",
       "3934                  0                   0          0                      0   \n",
       "\n",
       "      Through Recommendations  Lead Origin_Landing Page Submission  ...  \\\n",
       "1871                        0                                    0  ...   \n",
       "6795                        0                                    1  ...   \n",
       "3516                        0                                    0  ...   \n",
       "8105                        0                                    1  ...   \n",
       "3934                        0                                    0  ...   \n",
       "\n",
       "      Last Notable Activity_Unsubscribed  \\\n",
       "1871                                   0   \n",
       "6795                                   0   \n",
       "3516                                   0   \n",
       "8105                                   0   \n",
       "3934                                   0   \n",
       "\n",
       "      Last Notable Activity_View in browser link Clicked  TotalVisits_0_50  \\\n",
       "1871                                                  0                  1   \n",
       "6795                                                  0                  1   \n",
       "3516                                                  0                  1   \n",
       "8105                                                  0                  1   \n",
       "3934                                                  0                  1   \n",
       "\n",
       "      TotalVisits_50_100  TotalVisits_100_150  TotalVisits_250_300  \\\n",
       "1871                   0                    0                    0   \n",
       "6795                   0                    0                    0   \n",
       "3516                   0                    0                    0   \n",
       "8105                   0                    0                    0   \n",
       "3934                   0                    0                    0   \n",
       "\n",
       "      Page Views Per Visit_0_10  Page Views Per Visit_10_20  \\\n",
       "1871                          1                           0   \n",
       "6795                          1                           0   \n",
       "3516                          1                           0   \n",
       "8105                          1                           0   \n",
       "3934                          1                           0   \n",
       "\n",
       "      Page Views Per Visit_20_30  Page Views Per Visit_50_60  \n",
       "1871                           0                           0  \n",
       "6795                           0                           0  \n",
       "3516                           0                           0  \n",
       "8105                           0                           0  \n",
       "3934                           0                           0  \n",
       "\n",
       "[5 rows x 79 columns]"
      ]
     },
     "execution_count": 61,
     "metadata": {},
     "output_type": "execute_result"
    }
   ],
   "source": [
    "scaler=StandardScaler()\n",
    "\n",
    "\n",
    "X_train[['Total Time Spent on Website']]=scaler.fit_transform(X_train[['Total Time Spent on Website']])\n",
    "\n",
    "X_train.head()"
   ]
  },
  {
   "cell_type": "code",
   "execution_count": 62,
   "id": "unsigned-audit",
   "metadata": {},
   "outputs": [
    {
     "data": {
      "text/plain": [
       "38.53896103896104"
      ]
     },
     "execution_count": 62,
     "metadata": {},
     "output_type": "execute_result"
    }
   ],
   "source": [
    "## Checking the conversion rate from 'converted' column as it denotes the target variable\n",
    "\n",
    "(sum(y)/len(y.index))*100"
   ]
  },
  {
   "cell_type": "raw",
   "id": "white-edinburgh",
   "metadata": {},
   "source": [
    "Conversion rate is around 39%"
   ]
  },
  {
   "cell_type": "markdown",
   "id": "architectural-bishop",
   "metadata": {},
   "source": [
    "### <font color = blue> 4. Training the Model  </font>"
   ]
  },
  {
   "cell_type": "code",
   "execution_count": 63,
   "id": "settled-environment",
   "metadata": {},
   "outputs": [],
   "source": [
    "## Import stats Model\n",
    "\n",
    "import statsmodels.api as sm"
   ]
  },
  {
   "cell_type": "code",
   "execution_count": 64,
   "id": "periodic-norman",
   "metadata": {},
   "outputs": [],
   "source": [
    "## Importing LogisticRegression\n",
    "\n",
    "from sklearn.linear_model import LogisticRegression\n",
    "logreg = LogisticRegression()\n",
    "\n",
    "from sklearn.feature_selection import RFE\n",
    "rfe = RFE(logreg, 15)             # running RFE with 15 variables as output\n",
    "rfe = rfe.fit(X_train, y_train)"
   ]
  },
  {
   "cell_type": "code",
   "execution_count": 65,
   "id": "assumed-metabolism",
   "metadata": {},
   "outputs": [
    {
     "data": {
      "text/plain": [
       "array([ True, False,  True, False, False, False, False, False, False,\n",
       "       False,  True, False, False, False, False, False, False, False,\n",
       "        True, False, False, False, False, False, False, False,  True,\n",
       "       False, False, False, False, False, False, False,  True, False,\n",
       "       False, False, False, False, False,  True, False, False, False,\n",
       "       False, False, False, False,  True, False, False, False,  True,\n",
       "       False, False, False,  True, False,  True, False, False,  True,\n",
       "        True,  True,  True, False, False, False, False, False, False,\n",
       "       False, False, False, False, False, False, False])"
      ]
     },
     "execution_count": 65,
     "metadata": {},
     "output_type": "execute_result"
    }
   ],
   "source": [
    "rfe.support_"
   ]
  },
  {
   "cell_type": "code",
   "execution_count": 66,
   "id": "about-nursery",
   "metadata": {},
   "outputs": [],
   "source": [
    "# selecting columns only which are 'True' in rfem.support_ i.e True columns were selected for creating a model\n",
    "\n",
    "col=X_train.columns[rfe.support_]\n",
    "\n",
    "X_train_1=sm.add_constant(X_train[col])    # Adding constant"
   ]
  },
  {
   "cell_type": "markdown",
   "id": "partial-winning",
   "metadata": {},
   "source": [
    "### Model 1"
   ]
  },
  {
   "cell_type": "code",
   "execution_count": 67,
   "id": "native-phone",
   "metadata": {},
   "outputs": [
    {
     "data": {
      "text/html": [
       "<table class=\"simpletable\">\n",
       "<caption>Generalized Linear Model Regression Results</caption>\n",
       "<tr>\n",
       "  <th>Dep. Variable:</th>       <td>Converted</td>    <th>  No. Observations:  </th>  <td>  6468</td> \n",
       "</tr>\n",
       "<tr>\n",
       "  <th>Model:</th>                  <td>GLM</td>       <th>  Df Residuals:      </th>  <td>  6452</td> \n",
       "</tr>\n",
       "<tr>\n",
       "  <th>Model Family:</th>        <td>Binomial</td>     <th>  Df Model:          </th>  <td>    15</td> \n",
       "</tr>\n",
       "<tr>\n",
       "  <th>Link Function:</th>         <td>logit</td>      <th>  Scale:             </th> <td>  1.0000</td>\n",
       "</tr>\n",
       "<tr>\n",
       "  <th>Method:</th>                <td>IRLS</td>       <th>  Log-Likelihood:    </th> <td> -2698.1</td>\n",
       "</tr>\n",
       "<tr>\n",
       "  <th>Date:</th>            <td>Mon, 17 May 2021</td> <th>  Deviance:          </th> <td>  5396.2</td>\n",
       "</tr>\n",
       "<tr>\n",
       "  <th>Time:</th>                <td>20:01:11</td>     <th>  Pearson chi2:      </th> <td>7.11e+03</td>\n",
       "</tr>\n",
       "<tr>\n",
       "  <th>No. Iterations:</th>         <td>21</td>        <th>                     </th>     <td> </td>   \n",
       "</tr>\n",
       "<tr>\n",
       "  <th>Covariance Type:</th>     <td>nonrobust</td>    <th>                     </th>     <td> </td>   \n",
       "</tr>\n",
       "</table>\n",
       "<table class=\"simpletable\">\n",
       "<tr>\n",
       "                            <td></td>                              <th>coef</th>     <th>std err</th>      <th>z</th>      <th>P>|z|</th>  <th>[0.025</th>    <th>0.975]</th>  \n",
       "</tr>\n",
       "<tr>\n",
       "  <th>const</th>                                                <td>    0.0729</td> <td>    0.068</td> <td>    1.071</td> <td> 0.284</td> <td>   -0.060</td> <td>    0.206</td>\n",
       "</tr>\n",
       "<tr>\n",
       "  <th>Do Not Email</th>                                         <td>   -1.2466</td> <td>    0.195</td> <td>   -6.387</td> <td> 0.000</td> <td>   -1.629</td> <td>   -0.864</td>\n",
       "</tr>\n",
       "<tr>\n",
       "  <th>Total Time Spent on Website</th>                          <td>    1.1002</td> <td>    0.039</td> <td>   27.997</td> <td> 0.000</td> <td>    1.023</td> <td>    1.177</td>\n",
       "</tr>\n",
       "<tr>\n",
       "  <th>Lead Origin_Lead Add Form</th>                            <td>    3.7950</td> <td>    0.191</td> <td>   19.905</td> <td> 0.000</td> <td>    3.421</td> <td>    4.169</td>\n",
       "</tr>\n",
       "<tr>\n",
       "  <th>Lead Source_Olark Chat</th>                               <td>    1.1718</td> <td>    0.102</td> <td>   11.457</td> <td> 0.000</td> <td>    0.971</td> <td>    1.372</td>\n",
       "</tr>\n",
       "<tr>\n",
       "  <th>Lead Source_Welingak Website</th>                         <td>    1.9692</td> <td>    0.744</td> <td>    2.647</td> <td> 0.008</td> <td>    0.511</td> <td>    3.427</td>\n",
       "</tr>\n",
       "<tr>\n",
       "  <th>Last Activity_Email Bounced</th>                          <td>   -1.0898</td> <td>    0.347</td> <td>   -3.139</td> <td> 0.002</td> <td>   -1.770</td> <td>   -0.409</td>\n",
       "</tr>\n",
       "<tr>\n",
       "  <th>Last Activity_Olark Chat Conversation</th>                <td>   -1.0933</td> <td>    0.192</td> <td>   -5.692</td> <td> 0.000</td> <td>   -1.470</td> <td>   -0.717</td>\n",
       "</tr>\n",
       "<tr>\n",
       "  <th>What is your current occupation_Housewife</th>            <td>   22.9736</td> <td> 1.37e+04</td> <td>    0.002</td> <td> 0.999</td> <td>-2.68e+04</td> <td> 2.69e+04</td>\n",
       "</tr>\n",
       "<tr>\n",
       "  <th>What is your current occupation_Working Professional</th> <td>    2.7611</td> <td>    0.187</td> <td>   14.792</td> <td> 0.000</td> <td>    2.395</td> <td>    3.127</td>\n",
       "</tr>\n",
       "<tr>\n",
       "  <th>Last Notable Activity_Email Link Clicked</th>             <td>   -1.9010</td> <td>    0.272</td> <td>   -6.982</td> <td> 0.000</td> <td>   -2.435</td> <td>   -1.367</td>\n",
       "</tr>\n",
       "<tr>\n",
       "  <th>Last Notable Activity_Email Opened</th>                   <td>   -1.3147</td> <td>    0.087</td> <td>  -15.160</td> <td> 0.000</td> <td>   -1.485</td> <td>   -1.145</td>\n",
       "</tr>\n",
       "<tr>\n",
       "  <th>Last Notable Activity_Had a Phone Conversation</th>       <td>    2.1462</td> <td>    1.099</td> <td>    1.952</td> <td> 0.051</td> <td>   -0.008</td> <td>    4.301</td>\n",
       "</tr>\n",
       "<tr>\n",
       "  <th>Last Notable Activity_Modified</th>                       <td>   -1.8200</td> <td>    0.096</td> <td>  -19.049</td> <td> 0.000</td> <td>   -2.007</td> <td>   -1.633</td>\n",
       "</tr>\n",
       "<tr>\n",
       "  <th>Last Notable Activity_Olark Chat Conversation</th>        <td>   -1.5720</td> <td>    0.373</td> <td>   -4.218</td> <td> 0.000</td> <td>   -2.302</td> <td>   -0.842</td>\n",
       "</tr>\n",
       "<tr>\n",
       "  <th>Last Notable Activity_Page Visited on Website</th>        <td>   -1.5801</td> <td>    0.191</td> <td>   -8.254</td> <td> 0.000</td> <td>   -1.955</td> <td>   -1.205</td>\n",
       "</tr>\n",
       "</table>"
      ],
      "text/plain": [
       "<class 'statsmodels.iolib.summary.Summary'>\n",
       "\"\"\"\n",
       "                 Generalized Linear Model Regression Results                  \n",
       "==============================================================================\n",
       "Dep. Variable:              Converted   No. Observations:                 6468\n",
       "Model:                            GLM   Df Residuals:                     6452\n",
       "Model Family:                Binomial   Df Model:                           15\n",
       "Link Function:                  logit   Scale:                          1.0000\n",
       "Method:                          IRLS   Log-Likelihood:                -2698.1\n",
       "Date:                Mon, 17 May 2021   Deviance:                       5396.2\n",
       "Time:                        20:01:11   Pearson chi2:                 7.11e+03\n",
       "No. Iterations:                    21                                         \n",
       "Covariance Type:            nonrobust                                         \n",
       "========================================================================================================================\n",
       "                                                           coef    std err          z      P>|z|      [0.025      0.975]\n",
       "------------------------------------------------------------------------------------------------------------------------\n",
       "const                                                    0.0729      0.068      1.071      0.284      -0.060       0.206\n",
       "Do Not Email                                            -1.2466      0.195     -6.387      0.000      -1.629      -0.864\n",
       "Total Time Spent on Website                              1.1002      0.039     27.997      0.000       1.023       1.177\n",
       "Lead Origin_Lead Add Form                                3.7950      0.191     19.905      0.000       3.421       4.169\n",
       "Lead Source_Olark Chat                                   1.1718      0.102     11.457      0.000       0.971       1.372\n",
       "Lead Source_Welingak Website                             1.9692      0.744      2.647      0.008       0.511       3.427\n",
       "Last Activity_Email Bounced                             -1.0898      0.347     -3.139      0.002      -1.770      -0.409\n",
       "Last Activity_Olark Chat Conversation                   -1.0933      0.192     -5.692      0.000      -1.470      -0.717\n",
       "What is your current occupation_Housewife               22.9736   1.37e+04      0.002      0.999   -2.68e+04    2.69e+04\n",
       "What is your current occupation_Working Professional     2.7611      0.187     14.792      0.000       2.395       3.127\n",
       "Last Notable Activity_Email Link Clicked                -1.9010      0.272     -6.982      0.000      -2.435      -1.367\n",
       "Last Notable Activity_Email Opened                      -1.3147      0.087    -15.160      0.000      -1.485      -1.145\n",
       "Last Notable Activity_Had a Phone Conversation           2.1462      1.099      1.952      0.051      -0.008       4.301\n",
       "Last Notable Activity_Modified                          -1.8200      0.096    -19.049      0.000      -2.007      -1.633\n",
       "Last Notable Activity_Olark Chat Conversation           -1.5720      0.373     -4.218      0.000      -2.302      -0.842\n",
       "Last Notable Activity_Page Visited on Website           -1.5801      0.191     -8.254      0.000      -1.955      -1.205\n",
       "========================================================================================================================\n",
       "\"\"\""
      ]
     },
     "execution_count": 67,
     "metadata": {},
     "output_type": "execute_result"
    }
   ],
   "source": [
    "## Building Model #1\n",
    "\n",
    "logis1=sm.GLM(y_train,X_train_1,family=sm.families.Binomial())\n",
    "\n",
    "reg1=logis1.fit()\n",
    "\n",
    "reg1.summary()"
   ]
  },
  {
   "cell_type": "markdown",
   "id": "cardiovascular-peninsula",
   "metadata": {},
   "source": [
    "   - Summary shows that there are features with high p -values, we will drop them one at a time until we get a significant p-values"
   ]
  },
  {
   "cell_type": "markdown",
   "id": "accessible-german",
   "metadata": {},
   "source": [
    "### VIF calculations"
   ]
  },
  {
   "cell_type": "code",
   "execution_count": 68,
   "id": "dependent-tomorrow",
   "metadata": {},
   "outputs": [],
   "source": [
    "#importing of VIF library to check multi collinearity\n",
    "\n",
    "from statsmodels.stats.outliers_influence import variance_inflation_factor"
   ]
  },
  {
   "cell_type": "code",
   "execution_count": 69,
   "id": "popular-finger",
   "metadata": {},
   "outputs": [
    {
     "data": {
      "text/html": [
       "<div>\n",
       "<style scoped>\n",
       "    .dataframe tbody tr th:only-of-type {\n",
       "        vertical-align: middle;\n",
       "    }\n",
       "\n",
       "    .dataframe tbody tr th {\n",
       "        vertical-align: top;\n",
       "    }\n",
       "\n",
       "    .dataframe thead th {\n",
       "        text-align: right;\n",
       "    }\n",
       "</style>\n",
       "<table border=\"1\" class=\"dataframe\">\n",
       "  <thead>\n",
       "    <tr style=\"text-align: right;\">\n",
       "      <th></th>\n",
       "      <th>Features</th>\n",
       "      <th>VIF</th>\n",
       "    </tr>\n",
       "  </thead>\n",
       "  <tbody>\n",
       "    <tr>\n",
       "      <th>6</th>\n",
       "      <td>Last Activity_Olark Chat Conversation</td>\n",
       "      <td>1.91</td>\n",
       "    </tr>\n",
       "    <tr>\n",
       "      <th>0</th>\n",
       "      <td>Do Not Email</td>\n",
       "      <td>1.80</td>\n",
       "    </tr>\n",
       "    <tr>\n",
       "      <th>5</th>\n",
       "      <td>Last Activity_Email Bounced</td>\n",
       "      <td>1.79</td>\n",
       "    </tr>\n",
       "    <tr>\n",
       "      <th>3</th>\n",
       "      <td>Lead Source_Olark Chat</td>\n",
       "      <td>1.66</td>\n",
       "    </tr>\n",
       "    <tr>\n",
       "      <th>12</th>\n",
       "      <td>Last Notable Activity_Modified</td>\n",
       "      <td>1.55</td>\n",
       "    </tr>\n",
       "    <tr>\n",
       "      <th>2</th>\n",
       "      <td>Lead Origin_Lead Add Form</td>\n",
       "      <td>1.41</td>\n",
       "    </tr>\n",
       "    <tr>\n",
       "      <th>13</th>\n",
       "      <td>Last Notable Activity_Olark Chat Conversation</td>\n",
       "      <td>1.30</td>\n",
       "    </tr>\n",
       "    <tr>\n",
       "      <th>4</th>\n",
       "      <td>Lead Source_Welingak Website</td>\n",
       "      <td>1.24</td>\n",
       "    </tr>\n",
       "    <tr>\n",
       "      <th>1</th>\n",
       "      <td>Total Time Spent on Website</td>\n",
       "      <td>1.20</td>\n",
       "    </tr>\n",
       "    <tr>\n",
       "      <th>8</th>\n",
       "      <td>What is your current occupation_Working Profes...</td>\n",
       "      <td>1.14</td>\n",
       "    </tr>\n",
       "    <tr>\n",
       "      <th>10</th>\n",
       "      <td>Last Notable Activity_Email Opened</td>\n",
       "      <td>1.10</td>\n",
       "    </tr>\n",
       "    <tr>\n",
       "      <th>9</th>\n",
       "      <td>Last Notable Activity_Email Link Clicked</td>\n",
       "      <td>1.02</td>\n",
       "    </tr>\n",
       "    <tr>\n",
       "      <th>14</th>\n",
       "      <td>Last Notable Activity_Page Visited on Website</td>\n",
       "      <td>1.02</td>\n",
       "    </tr>\n",
       "    <tr>\n",
       "      <th>7</th>\n",
       "      <td>What is your current occupation_Housewife</td>\n",
       "      <td>1.01</td>\n",
       "    </tr>\n",
       "    <tr>\n",
       "      <th>11</th>\n",
       "      <td>Last Notable Activity_Had a Phone Conversation</td>\n",
       "      <td>1.00</td>\n",
       "    </tr>\n",
       "  </tbody>\n",
       "</table>\n",
       "</div>"
      ],
      "text/plain": [
       "                                             Features   VIF\n",
       "6               Last Activity_Olark Chat Conversation  1.91\n",
       "0                                        Do Not Email  1.80\n",
       "5                         Last Activity_Email Bounced  1.79\n",
       "3                              Lead Source_Olark Chat  1.66\n",
       "12                     Last Notable Activity_Modified  1.55\n",
       "2                           Lead Origin_Lead Add Form  1.41\n",
       "13      Last Notable Activity_Olark Chat Conversation  1.30\n",
       "4                        Lead Source_Welingak Website  1.24\n",
       "1                         Total Time Spent on Website  1.20\n",
       "8   What is your current occupation_Working Profes...  1.14\n",
       "10                 Last Notable Activity_Email Opened  1.10\n",
       "9            Last Notable Activity_Email Link Clicked  1.02\n",
       "14      Last Notable Activity_Page Visited on Website  1.02\n",
       "7           What is your current occupation_Housewife  1.01\n",
       "11     Last Notable Activity_Had a Phone Conversation  1.00"
      ]
     },
     "execution_count": 69,
     "metadata": {},
     "output_type": "execute_result"
    }
   ],
   "source": [
    "# Creating vif dataframe contain all variables and their respective vif's value\n",
    "\n",
    "vif=pd.DataFrame()\n",
    "\n",
    "# adding same features as the x_train dataset have\n",
    "\n",
    "vif['Features']=X_train_1[col].columns  \n",
    "\n",
    "# Caculating VIFs\n",
    "\n",
    "vif['VIF']=[variance_inflation_factor(X_train_1[col].values,i) for i in range(X_train_1[col].shape[1])]\n",
    "\n",
    "# Rounding the vif values\n",
    "\n",
    "vif['VIF']=round(vif['VIF'],2)\n",
    "\n",
    "# Sorting the vif values\n",
    "\n",
    "vif=vif.sort_values(by='VIF',ascending=False)\n",
    "\n",
    "\n",
    "vif   # Viewing the dataset"
   ]
  },
  {
   "cell_type": "markdown",
   "id": "inappropriate-satellite",
   "metadata": {},
   "source": [
    "   - None of them have VIF more than 5. There is no multicollinearity issue this data set"
   ]
  },
  {
   "cell_type": "code",
   "execution_count": 70,
   "id": "internal-account",
   "metadata": {},
   "outputs": [],
   "source": [
    "#Dropping the values with high p, which is insignificant i,e. Constant and What is your current occupation_Housewife\n",
    "\n",
    "X_train_2=X_train_1.drop(['const','What is your current occupation_Housewife'],1)"
   ]
  },
  {
   "cell_type": "markdown",
   "id": "offshore-keyboard",
   "metadata": {},
   "source": [
    "### Model 2"
   ]
  },
  {
   "cell_type": "code",
   "execution_count": 71,
   "id": "formed-somerset",
   "metadata": {},
   "outputs": [
    {
     "data": {
      "text/html": [
       "<table class=\"simpletable\">\n",
       "<caption>Generalized Linear Model Regression Results</caption>\n",
       "<tr>\n",
       "  <th>Dep. Variable:</th>       <td>Converted</td>    <th>  No. Observations:  </th>  <td>  6468</td> \n",
       "</tr>\n",
       "<tr>\n",
       "  <th>Model:</th>                  <td>GLM</td>       <th>  Df Residuals:      </th>  <td>  6453</td> \n",
       "</tr>\n",
       "<tr>\n",
       "  <th>Model Family:</th>        <td>Gaussian</td>     <th>  Df Model:          </th>  <td>    14</td> \n",
       "</tr>\n",
       "<tr>\n",
       "  <th>Link Function:</th>       <td>identity</td>     <th>  Scale:             </th> <td> 0.13905</td>\n",
       "</tr>\n",
       "<tr>\n",
       "  <th>Method:</th>                <td>IRLS</td>       <th>  Log-Likelihood:    </th> <td> -2789.7</td>\n",
       "</tr>\n",
       "<tr>\n",
       "  <th>Date:</th>            <td>Mon, 17 May 2021</td> <th>  Deviance:          </th> <td>  897.26</td>\n",
       "</tr>\n",
       "<tr>\n",
       "  <th>Time:</th>                <td>20:01:11</td>     <th>  Pearson chi2:      </th>  <td>  897.</td> \n",
       "</tr>\n",
       "<tr>\n",
       "  <th>No. Iterations:</th>          <td>3</td>        <th>                     </th>     <td> </td>   \n",
       "</tr>\n",
       "<tr>\n",
       "  <th>Covariance Type:</th>     <td>nonrobust</td>    <th>                     </th>     <td> </td>   \n",
       "</tr>\n",
       "</table>\n",
       "<table class=\"simpletable\">\n",
       "<tr>\n",
       "                            <td></td>                              <th>coef</th>     <th>std err</th>      <th>z</th>      <th>P>|z|</th>  <th>[0.025</th>    <th>0.975]</th>  \n",
       "</tr>\n",
       "<tr>\n",
       "  <th>const</th>                                                <td>    0.4986</td> <td>    0.010</td> <td>   48.322</td> <td> 0.000</td> <td>    0.478</td> <td>    0.519</td>\n",
       "</tr>\n",
       "<tr>\n",
       "  <th>Do Not Email</th>                                         <td>   -0.1507</td> <td>    0.023</td> <td>   -6.646</td> <td> 0.000</td> <td>   -0.195</td> <td>   -0.106</td>\n",
       "</tr>\n",
       "<tr>\n",
       "  <th>Total Time Spent on Website</th>                          <td>    0.1879</td> <td>    0.005</td> <td>   36.249</td> <td> 0.000</td> <td>    0.178</td> <td>    0.198</td>\n",
       "</tr>\n",
       "<tr>\n",
       "  <th>Lead Origin_Lead Add Form</th>                            <td>    0.5593</td> <td>    0.020</td> <td>   28.110</td> <td> 0.000</td> <td>    0.520</td> <td>    0.598</td>\n",
       "</tr>\n",
       "<tr>\n",
       "  <th>Lead Source_Olark Chat</th>                               <td>    0.1697</td> <td>    0.014</td> <td>   12.021</td> <td> 0.000</td> <td>    0.142</td> <td>    0.197</td>\n",
       "</tr>\n",
       "<tr>\n",
       "  <th>Lead Source_Welingak Website</th>                         <td>    0.1937</td> <td>    0.043</td> <td>    4.456</td> <td> 0.000</td> <td>    0.109</td> <td>    0.279</td>\n",
       "</tr>\n",
       "<tr>\n",
       "  <th>Last Activity_Email Bounced</th>                          <td>   -0.0598</td> <td>    0.033</td> <td>   -1.836</td> <td> 0.066</td> <td>   -0.124</td> <td>    0.004</td>\n",
       "</tr>\n",
       "<tr>\n",
       "  <th>Last Activity_Olark Chat Conversation</th>                <td>   -0.1263</td> <td>    0.020</td> <td>   -6.293</td> <td> 0.000</td> <td>   -0.166</td> <td>   -0.087</td>\n",
       "</tr>\n",
       "<tr>\n",
       "  <th>What is your current occupation_Working Professional</th> <td>    0.3445</td> <td>    0.018</td> <td>   19.032</td> <td> 0.000</td> <td>    0.309</td> <td>    0.380</td>\n",
       "</tr>\n",
       "<tr>\n",
       "  <th>Last Notable Activity_Email Link Clicked</th>             <td>   -0.3059</td> <td>    0.036</td> <td>   -8.585</td> <td> 0.000</td> <td>   -0.376</td> <td>   -0.236</td>\n",
       "</tr>\n",
       "<tr>\n",
       "  <th>Last Notable Activity_Email Opened</th>                   <td>   -0.2215</td> <td>    0.013</td> <td>  -17.341</td> <td> 0.000</td> <td>   -0.247</td> <td>   -0.196</td>\n",
       "</tr>\n",
       "<tr>\n",
       "  <th>Last Notable Activity_Had a Phone Conversation</th>       <td>    0.2408</td> <td>    0.113</td> <td>    2.134</td> <td> 0.033</td> <td>    0.020</td> <td>    0.462</td>\n",
       "</tr>\n",
       "<tr>\n",
       "  <th>Last Notable Activity_Modified</th>                       <td>   -0.2961</td> <td>    0.013</td> <td>  -22.814</td> <td> 0.000</td> <td>   -0.322</td> <td>   -0.271</td>\n",
       "</tr>\n",
       "<tr>\n",
       "  <th>Last Notable Activity_Olark Chat Conversation</th>        <td>   -0.2799</td> <td>    0.040</td> <td>   -7.036</td> <td> 0.000</td> <td>   -0.358</td> <td>   -0.202</td>\n",
       "</tr>\n",
       "<tr>\n",
       "  <th>Last Notable Activity_Page Visited on Website</th>        <td>   -0.2684</td> <td>    0.026</td> <td>  -10.205</td> <td> 0.000</td> <td>   -0.320</td> <td>   -0.217</td>\n",
       "</tr>\n",
       "</table>"
      ],
      "text/plain": [
       "<class 'statsmodels.iolib.summary.Summary'>\n",
       "\"\"\"\n",
       "                 Generalized Linear Model Regression Results                  \n",
       "==============================================================================\n",
       "Dep. Variable:              Converted   No. Observations:                 6468\n",
       "Model:                            GLM   Df Residuals:                     6453\n",
       "Model Family:                Gaussian   Df Model:                           14\n",
       "Link Function:               identity   Scale:                         0.13905\n",
       "Method:                          IRLS   Log-Likelihood:                -2789.7\n",
       "Date:                Mon, 17 May 2021   Deviance:                       897.26\n",
       "Time:                        20:01:11   Pearson chi2:                     897.\n",
       "No. Iterations:                     3                                         \n",
       "Covariance Type:            nonrobust                                         \n",
       "========================================================================================================================\n",
       "                                                           coef    std err          z      P>|z|      [0.025      0.975]\n",
       "------------------------------------------------------------------------------------------------------------------------\n",
       "const                                                    0.4986      0.010     48.322      0.000       0.478       0.519\n",
       "Do Not Email                                            -0.1507      0.023     -6.646      0.000      -0.195      -0.106\n",
       "Total Time Spent on Website                              0.1879      0.005     36.249      0.000       0.178       0.198\n",
       "Lead Origin_Lead Add Form                                0.5593      0.020     28.110      0.000       0.520       0.598\n",
       "Lead Source_Olark Chat                                   0.1697      0.014     12.021      0.000       0.142       0.197\n",
       "Lead Source_Welingak Website                             0.1937      0.043      4.456      0.000       0.109       0.279\n",
       "Last Activity_Email Bounced                             -0.0598      0.033     -1.836      0.066      -0.124       0.004\n",
       "Last Activity_Olark Chat Conversation                   -0.1263      0.020     -6.293      0.000      -0.166      -0.087\n",
       "What is your current occupation_Working Professional     0.3445      0.018     19.032      0.000       0.309       0.380\n",
       "Last Notable Activity_Email Link Clicked                -0.3059      0.036     -8.585      0.000      -0.376      -0.236\n",
       "Last Notable Activity_Email Opened                      -0.2215      0.013    -17.341      0.000      -0.247      -0.196\n",
       "Last Notable Activity_Had a Phone Conversation           0.2408      0.113      2.134      0.033       0.020       0.462\n",
       "Last Notable Activity_Modified                          -0.2961      0.013    -22.814      0.000      -0.322      -0.271\n",
       "Last Notable Activity_Olark Chat Conversation           -0.2799      0.040     -7.036      0.000      -0.358      -0.202\n",
       "Last Notable Activity_Page Visited on Website           -0.2684      0.026    -10.205      0.000      -0.320      -0.217\n",
       "========================================================================================================================\n",
       "\"\"\""
      ]
     },
     "execution_count": 71,
     "metadata": {},
     "output_type": "execute_result"
    }
   ],
   "source": [
    "## Building Model #2\n",
    "\n",
    "X_train_2=sm.add_constant(X_train_2)                              \n",
    "logis2=sm.GLM(y_train,X_train_2,families=sm.families.Binomial())  \n",
    "reg2=logis2.fit()                                                 \n",
    "reg2.summary()"
   ]
  },
  {
   "cell_type": "markdown",
   "id": "presidential-notebook",
   "metadata": {},
   "source": [
    "   - 'Last Activity_Email Bounced' has high P value which is insignificant, will drop it.  There is no further need to generate VIF as the values are below 5."
   ]
  },
  {
   "cell_type": "code",
   "execution_count": 72,
   "id": "piano-apparel",
   "metadata": {},
   "outputs": [],
   "source": [
    "## dropping variable\n",
    "\n",
    "X_train_3=X_train_2.drop(['Last Activity_Email Bounced'],axis=1)"
   ]
  },
  {
   "cell_type": "markdown",
   "id": "needed-think",
   "metadata": {},
   "source": [
    "### Model 3"
   ]
  },
  {
   "cell_type": "code",
   "execution_count": 73,
   "id": "binding-camel",
   "metadata": {},
   "outputs": [
    {
     "data": {
      "text/html": [
       "<table class=\"simpletable\">\n",
       "<caption>Generalized Linear Model Regression Results</caption>\n",
       "<tr>\n",
       "  <th>Dep. Variable:</th>       <td>Converted</td>    <th>  No. Observations:  </th>  <td>  6468</td> \n",
       "</tr>\n",
       "<tr>\n",
       "  <th>Model:</th>                  <td>GLM</td>       <th>  Df Residuals:      </th>  <td>  6454</td> \n",
       "</tr>\n",
       "<tr>\n",
       "  <th>Model Family:</th>        <td>Gaussian</td>     <th>  Df Model:          </th>  <td>    13</td> \n",
       "</tr>\n",
       "<tr>\n",
       "  <th>Link Function:</th>       <td>identity</td>     <th>  Scale:             </th> <td> 0.13910</td>\n",
       "</tr>\n",
       "<tr>\n",
       "  <th>Method:</th>                <td>IRLS</td>       <th>  Log-Likelihood:    </th> <td> -2791.3</td>\n",
       "</tr>\n",
       "<tr>\n",
       "  <th>Date:</th>            <td>Mon, 17 May 2021</td> <th>  Deviance:          </th> <td>  897.73</td>\n",
       "</tr>\n",
       "<tr>\n",
       "  <th>Time:</th>                <td>20:01:11</td>     <th>  Pearson chi2:      </th>  <td>  898.</td> \n",
       "</tr>\n",
       "<tr>\n",
       "  <th>No. Iterations:</th>          <td>3</td>        <th>                     </th>     <td> </td>   \n",
       "</tr>\n",
       "<tr>\n",
       "  <th>Covariance Type:</th>     <td>nonrobust</td>    <th>                     </th>     <td> </td>   \n",
       "</tr>\n",
       "</table>\n",
       "<table class=\"simpletable\">\n",
       "<tr>\n",
       "                            <td></td>                              <th>coef</th>     <th>std err</th>      <th>z</th>      <th>P>|z|</th>  <th>[0.025</th>    <th>0.975]</th>  \n",
       "</tr>\n",
       "<tr>\n",
       "  <th>const</th>                                                <td>    0.4998</td> <td>    0.010</td> <td>   48.524</td> <td> 0.000</td> <td>    0.480</td> <td>    0.520</td>\n",
       "</tr>\n",
       "<tr>\n",
       "  <th>Do Not Email</th>                                         <td>   -0.1765</td> <td>    0.018</td> <td>   -9.906</td> <td> 0.000</td> <td>   -0.211</td> <td>   -0.142</td>\n",
       "</tr>\n",
       "<tr>\n",
       "  <th>Total Time Spent on Website</th>                          <td>    0.1877</td> <td>    0.005</td> <td>   36.208</td> <td> 0.000</td> <td>    0.178</td> <td>    0.198</td>\n",
       "</tr>\n",
       "<tr>\n",
       "  <th>Lead Origin_Lead Add Form</th>                            <td>    0.5592</td> <td>    0.020</td> <td>   28.102</td> <td> 0.000</td> <td>    0.520</td> <td>    0.598</td>\n",
       "</tr>\n",
       "<tr>\n",
       "  <th>Lead Source_Olark Chat</th>                               <td>    0.1687</td> <td>    0.014</td> <td>   11.959</td> <td> 0.000</td> <td>    0.141</td> <td>    0.196</td>\n",
       "</tr>\n",
       "<tr>\n",
       "  <th>Lead Source_Welingak Website</th>                         <td>    0.1951</td> <td>    0.043</td> <td>    4.487</td> <td> 0.000</td> <td>    0.110</td> <td>    0.280</td>\n",
       "</tr>\n",
       "<tr>\n",
       "  <th>Last Activity_Olark Chat Conversation</th>                <td>   -0.1225</td> <td>    0.020</td> <td>   -6.135</td> <td> 0.000</td> <td>   -0.162</td> <td>   -0.083</td>\n",
       "</tr>\n",
       "<tr>\n",
       "  <th>What is your current occupation_Working Professional</th> <td>    0.3447</td> <td>    0.018</td> <td>   19.040</td> <td> 0.000</td> <td>    0.309</td> <td>    0.380</td>\n",
       "</tr>\n",
       "<tr>\n",
       "  <th>Last Notable Activity_Email Link Clicked</th>             <td>   -0.3067</td> <td>    0.036</td> <td>   -8.606</td> <td> 0.000</td> <td>   -0.377</td> <td>   -0.237</td>\n",
       "</tr>\n",
       "<tr>\n",
       "  <th>Last Notable Activity_Email Opened</th>                   <td>   -0.2225</td> <td>    0.013</td> <td>  -17.429</td> <td> 0.000</td> <td>   -0.247</td> <td>   -0.197</td>\n",
       "</tr>\n",
       "<tr>\n",
       "  <th>Last Notable Activity_Had a Phone Conversation</th>       <td>    0.2398</td> <td>    0.113</td> <td>    2.124</td> <td> 0.034</td> <td>    0.019</td> <td>    0.461</td>\n",
       "</tr>\n",
       "<tr>\n",
       "  <th>Last Notable Activity_Modified</th>                       <td>   -0.2996</td> <td>    0.013</td> <td>  -23.342</td> <td> 0.000</td> <td>   -0.325</td> <td>   -0.274</td>\n",
       "</tr>\n",
       "<tr>\n",
       "  <th>Last Notable Activity_Olark Chat Conversation</th>        <td>   -0.2831</td> <td>    0.040</td> <td>   -7.122</td> <td> 0.000</td> <td>   -0.361</td> <td>   -0.205</td>\n",
       "</tr>\n",
       "<tr>\n",
       "  <th>Last Notable Activity_Page Visited on Website</th>        <td>   -0.2657</td> <td>    0.026</td> <td>  -10.117</td> <td> 0.000</td> <td>   -0.317</td> <td>   -0.214</td>\n",
       "</tr>\n",
       "</table>"
      ],
      "text/plain": [
       "<class 'statsmodels.iolib.summary.Summary'>\n",
       "\"\"\"\n",
       "                 Generalized Linear Model Regression Results                  \n",
       "==============================================================================\n",
       "Dep. Variable:              Converted   No. Observations:                 6468\n",
       "Model:                            GLM   Df Residuals:                     6454\n",
       "Model Family:                Gaussian   Df Model:                           13\n",
       "Link Function:               identity   Scale:                         0.13910\n",
       "Method:                          IRLS   Log-Likelihood:                -2791.3\n",
       "Date:                Mon, 17 May 2021   Deviance:                       897.73\n",
       "Time:                        20:01:11   Pearson chi2:                     898.\n",
       "No. Iterations:                     3                                         \n",
       "Covariance Type:            nonrobust                                         \n",
       "========================================================================================================================\n",
       "                                                           coef    std err          z      P>|z|      [0.025      0.975]\n",
       "------------------------------------------------------------------------------------------------------------------------\n",
       "const                                                    0.4998      0.010     48.524      0.000       0.480       0.520\n",
       "Do Not Email                                            -0.1765      0.018     -9.906      0.000      -0.211      -0.142\n",
       "Total Time Spent on Website                              0.1877      0.005     36.208      0.000       0.178       0.198\n",
       "Lead Origin_Lead Add Form                                0.5592      0.020     28.102      0.000       0.520       0.598\n",
       "Lead Source_Olark Chat                                   0.1687      0.014     11.959      0.000       0.141       0.196\n",
       "Lead Source_Welingak Website                             0.1951      0.043      4.487      0.000       0.110       0.280\n",
       "Last Activity_Olark Chat Conversation                   -0.1225      0.020     -6.135      0.000      -0.162      -0.083\n",
       "What is your current occupation_Working Professional     0.3447      0.018     19.040      0.000       0.309       0.380\n",
       "Last Notable Activity_Email Link Clicked                -0.3067      0.036     -8.606      0.000      -0.377      -0.237\n",
       "Last Notable Activity_Email Opened                      -0.2225      0.013    -17.429      0.000      -0.247      -0.197\n",
       "Last Notable Activity_Had a Phone Conversation           0.2398      0.113      2.124      0.034       0.019       0.461\n",
       "Last Notable Activity_Modified                          -0.2996      0.013    -23.342      0.000      -0.325      -0.274\n",
       "Last Notable Activity_Olark Chat Conversation           -0.2831      0.040     -7.122      0.000      -0.361      -0.205\n",
       "Last Notable Activity_Page Visited on Website           -0.2657      0.026    -10.117      0.000      -0.317      -0.214\n",
       "========================================================================================================================\n",
       "\"\"\""
      ]
     },
     "execution_count": 73,
     "metadata": {},
     "output_type": "execute_result"
    }
   ],
   "source": [
    "## Building Model #3\n",
    "\n",
    "X_train_3=sm.add_constant(X_train_3)                                \n",
    "logis3=sm.GLM(y_train,X_train_3,families=sm.families.Binomial())    \n",
    "reg3=logis3.fit()                                                   \n",
    "reg3.summary()"
   ]
  },
  {
   "cell_type": "markdown",
   "id": "measured-completion",
   "metadata": {},
   "source": [
    "   - 'Last Notable Activit_Had a Phone Conversation' is having insignificant P value, will drop it."
   ]
  },
  {
   "cell_type": "code",
   "execution_count": 74,
   "id": "needed-arrangement",
   "metadata": {},
   "outputs": [],
   "source": [
    "## Dropping Variable\n",
    "\n",
    "X_train_4=X_train_3.drop(['Last Notable Activity_Had a Phone Conversation'],axis=1)"
   ]
  },
  {
   "cell_type": "markdown",
   "id": "responsible-techno",
   "metadata": {},
   "source": [
    "### Model 4"
   ]
  },
  {
   "cell_type": "code",
   "execution_count": 75,
   "id": "suffering-sessions",
   "metadata": {},
   "outputs": [
    {
     "data": {
      "text/html": [
       "<table class=\"simpletable\">\n",
       "<caption>Generalized Linear Model Regression Results</caption>\n",
       "<tr>\n",
       "  <th>Dep. Variable:</th>       <td>Converted</td>    <th>  No. Observations:  </th>  <td>  6468</td> \n",
       "</tr>\n",
       "<tr>\n",
       "  <th>Model:</th>                  <td>GLM</td>       <th>  Df Residuals:      </th>  <td>  6455</td> \n",
       "</tr>\n",
       "<tr>\n",
       "  <th>Model Family:</th>        <td>Gaussian</td>     <th>  Df Model:          </th>  <td>    12</td> \n",
       "</tr>\n",
       "<tr>\n",
       "  <th>Link Function:</th>       <td>identity</td>     <th>  Scale:             </th> <td> 0.13917</td>\n",
       "</tr>\n",
       "<tr>\n",
       "  <th>Method:</th>                <td>IRLS</td>       <th>  Log-Likelihood:    </th> <td> -2793.6</td>\n",
       "</tr>\n",
       "<tr>\n",
       "  <th>Date:</th>            <td>Mon, 17 May 2021</td> <th>  Deviance:          </th> <td>  898.36</td>\n",
       "</tr>\n",
       "<tr>\n",
       "  <th>Time:</th>                <td>20:01:12</td>     <th>  Pearson chi2:      </th>  <td>  898.</td> \n",
       "</tr>\n",
       "<tr>\n",
       "  <th>No. Iterations:</th>          <td>3</td>        <th>                     </th>     <td> </td>   \n",
       "</tr>\n",
       "<tr>\n",
       "  <th>Covariance Type:</th>     <td>nonrobust</td>    <th>                     </th>     <td> </td>   \n",
       "</tr>\n",
       "</table>\n",
       "<table class=\"simpletable\">\n",
       "<tr>\n",
       "                            <td></td>                              <th>coef</th>     <th>std err</th>      <th>z</th>      <th>P>|z|</th>  <th>[0.025</th>    <th>0.975]</th>  \n",
       "</tr>\n",
       "<tr>\n",
       "  <th>const</th>                                                <td>    0.5015</td> <td>    0.010</td> <td>   48.826</td> <td> 0.000</td> <td>    0.481</td> <td>    0.522</td>\n",
       "</tr>\n",
       "<tr>\n",
       "  <th>Do Not Email</th>                                         <td>   -0.1771</td> <td>    0.018</td> <td>   -9.938</td> <td> 0.000</td> <td>   -0.212</td> <td>   -0.142</td>\n",
       "</tr>\n",
       "<tr>\n",
       "  <th>Total Time Spent on Website</th>                          <td>    0.1878</td> <td>    0.005</td> <td>   36.209</td> <td> 0.000</td> <td>    0.178</td> <td>    0.198</td>\n",
       "</tr>\n",
       "<tr>\n",
       "  <th>Lead Origin_Lead Add Form</th>                            <td>    0.5584</td> <td>    0.020</td> <td>   28.060</td> <td> 0.000</td> <td>    0.519</td> <td>    0.597</td>\n",
       "</tr>\n",
       "<tr>\n",
       "  <th>Lead Source_Olark Chat</th>                               <td>    0.1686</td> <td>    0.014</td> <td>   11.948</td> <td> 0.000</td> <td>    0.141</td> <td>    0.196</td>\n",
       "</tr>\n",
       "<tr>\n",
       "  <th>Lead Source_Welingak Website</th>                         <td>    0.1951</td> <td>    0.043</td> <td>    4.486</td> <td> 0.000</td> <td>    0.110</td> <td>    0.280</td>\n",
       "</tr>\n",
       "<tr>\n",
       "  <th>Last Activity_Olark Chat Conversation</th>                <td>   -0.1225</td> <td>    0.020</td> <td>   -6.134</td> <td> 0.000</td> <td>   -0.162</td> <td>   -0.083</td>\n",
       "</tr>\n",
       "<tr>\n",
       "  <th>What is your current occupation_Working Professional</th> <td>    0.3450</td> <td>    0.018</td> <td>   19.053</td> <td> 0.000</td> <td>    0.310</td> <td>    0.381</td>\n",
       "</tr>\n",
       "<tr>\n",
       "  <th>Last Notable Activity_Email Link Clicked</th>             <td>   -0.3083</td> <td>    0.036</td> <td>   -8.650</td> <td> 0.000</td> <td>   -0.378</td> <td>   -0.238</td>\n",
       "</tr>\n",
       "<tr>\n",
       "  <th>Last Notable Activity_Email Opened</th>                   <td>   -0.2242</td> <td>    0.013</td> <td>  -17.588</td> <td> 0.000</td> <td>   -0.249</td> <td>   -0.199</td>\n",
       "</tr>\n",
       "<tr>\n",
       "  <th>Last Notable Activity_Modified</th>                       <td>   -0.3012</td> <td>    0.013</td> <td>  -23.495</td> <td> 0.000</td> <td>   -0.326</td> <td>   -0.276</td>\n",
       "</tr>\n",
       "<tr>\n",
       "  <th>Last Notable Activity_Olark Chat Conversation</th>        <td>   -0.2846</td> <td>    0.040</td> <td>   -7.160</td> <td> 0.000</td> <td>   -0.363</td> <td>   -0.207</td>\n",
       "</tr>\n",
       "<tr>\n",
       "  <th>Last Notable Activity_Page Visited on Website</th>        <td>   -0.2673</td> <td>    0.026</td> <td>  -10.180</td> <td> 0.000</td> <td>   -0.319</td> <td>   -0.216</td>\n",
       "</tr>\n",
       "</table>"
      ],
      "text/plain": [
       "<class 'statsmodels.iolib.summary.Summary'>\n",
       "\"\"\"\n",
       "                 Generalized Linear Model Regression Results                  \n",
       "==============================================================================\n",
       "Dep. Variable:              Converted   No. Observations:                 6468\n",
       "Model:                            GLM   Df Residuals:                     6455\n",
       "Model Family:                Gaussian   Df Model:                           12\n",
       "Link Function:               identity   Scale:                         0.13917\n",
       "Method:                          IRLS   Log-Likelihood:                -2793.6\n",
       "Date:                Mon, 17 May 2021   Deviance:                       898.36\n",
       "Time:                        20:01:12   Pearson chi2:                     898.\n",
       "No. Iterations:                     3                                         \n",
       "Covariance Type:            nonrobust                                         \n",
       "========================================================================================================================\n",
       "                                                           coef    std err          z      P>|z|      [0.025      0.975]\n",
       "------------------------------------------------------------------------------------------------------------------------\n",
       "const                                                    0.5015      0.010     48.826      0.000       0.481       0.522\n",
       "Do Not Email                                            -0.1771      0.018     -9.938      0.000      -0.212      -0.142\n",
       "Total Time Spent on Website                              0.1878      0.005     36.209      0.000       0.178       0.198\n",
       "Lead Origin_Lead Add Form                                0.5584      0.020     28.060      0.000       0.519       0.597\n",
       "Lead Source_Olark Chat                                   0.1686      0.014     11.948      0.000       0.141       0.196\n",
       "Lead Source_Welingak Website                             0.1951      0.043      4.486      0.000       0.110       0.280\n",
       "Last Activity_Olark Chat Conversation                   -0.1225      0.020     -6.134      0.000      -0.162      -0.083\n",
       "What is your current occupation_Working Professional     0.3450      0.018     19.053      0.000       0.310       0.381\n",
       "Last Notable Activity_Email Link Clicked                -0.3083      0.036     -8.650      0.000      -0.378      -0.238\n",
       "Last Notable Activity_Email Opened                      -0.2242      0.013    -17.588      0.000      -0.249      -0.199\n",
       "Last Notable Activity_Modified                          -0.3012      0.013    -23.495      0.000      -0.326      -0.276\n",
       "Last Notable Activity_Olark Chat Conversation           -0.2846      0.040     -7.160      0.000      -0.363      -0.207\n",
       "Last Notable Activity_Page Visited on Website           -0.2673      0.026    -10.180      0.000      -0.319      -0.216\n",
       "========================================================================================================================\n",
       "\"\"\""
      ]
     },
     "execution_count": 75,
     "metadata": {},
     "output_type": "execute_result"
    }
   ],
   "source": [
    "## Model Building #4\n",
    "\n",
    "X_train_4=sm.add_constant(X_train_4)                             \n",
    "logis4=sm.GLM(y_train,X_train_4,families=sm.families.Binomial()) \n",
    "reg4=logis4.fit()                                                 \n",
    "reg4.summary()"
   ]
  },
  {
   "cell_type": "code",
   "execution_count": 76,
   "id": "acting-implement",
   "metadata": {},
   "outputs": [
    {
     "data": {
      "text/html": [
       "<div>\n",
       "<style scoped>\n",
       "    .dataframe tbody tr th:only-of-type {\n",
       "        vertical-align: middle;\n",
       "    }\n",
       "\n",
       "    .dataframe tbody tr th {\n",
       "        vertical-align: top;\n",
       "    }\n",
       "\n",
       "    .dataframe thead th {\n",
       "        text-align: right;\n",
       "    }\n",
       "</style>\n",
       "<table border=\"1\" class=\"dataframe\">\n",
       "  <thead>\n",
       "    <tr style=\"text-align: right;\">\n",
       "      <th></th>\n",
       "      <th>Features</th>\n",
       "      <th>VIF</th>\n",
       "    </tr>\n",
       "  </thead>\n",
       "  <tbody>\n",
       "    <tr>\n",
       "      <th>5</th>\n",
       "      <td>Last Activity_Olark Chat Conversation</td>\n",
       "      <td>1.89</td>\n",
       "    </tr>\n",
       "    <tr>\n",
       "      <th>3</th>\n",
       "      <td>Lead Source_Olark Chat</td>\n",
       "      <td>1.65</td>\n",
       "    </tr>\n",
       "    <tr>\n",
       "      <th>9</th>\n",
       "      <td>Last Notable Activity_Modified</td>\n",
       "      <td>1.51</td>\n",
       "    </tr>\n",
       "    <tr>\n",
       "      <th>2</th>\n",
       "      <td>Lead Origin_Lead Add Form</td>\n",
       "      <td>1.41</td>\n",
       "    </tr>\n",
       "    <tr>\n",
       "      <th>10</th>\n",
       "      <td>Last Notable Activity_Olark Chat Conversation</td>\n",
       "      <td>1.30</td>\n",
       "    </tr>\n",
       "    <tr>\n",
       "      <th>4</th>\n",
       "      <td>Lead Source_Welingak Website</td>\n",
       "      <td>1.23</td>\n",
       "    </tr>\n",
       "    <tr>\n",
       "      <th>1</th>\n",
       "      <td>Total Time Spent on Website</td>\n",
       "      <td>1.20</td>\n",
       "    </tr>\n",
       "    <tr>\n",
       "      <th>6</th>\n",
       "      <td>What is your current occupation_Working Profes...</td>\n",
       "      <td>1.14</td>\n",
       "    </tr>\n",
       "    <tr>\n",
       "      <th>0</th>\n",
       "      <td>Do Not Email</td>\n",
       "      <td>1.11</td>\n",
       "    </tr>\n",
       "    <tr>\n",
       "      <th>8</th>\n",
       "      <td>Last Notable Activity_Email Opened</td>\n",
       "      <td>1.10</td>\n",
       "    </tr>\n",
       "    <tr>\n",
       "      <th>7</th>\n",
       "      <td>Last Notable Activity_Email Link Clicked</td>\n",
       "      <td>1.02</td>\n",
       "    </tr>\n",
       "    <tr>\n",
       "      <th>11</th>\n",
       "      <td>Last Notable Activity_Page Visited on Website</td>\n",
       "      <td>1.02</td>\n",
       "    </tr>\n",
       "  </tbody>\n",
       "</table>\n",
       "</div>"
      ],
      "text/plain": [
       "                                             Features   VIF\n",
       "5               Last Activity_Olark Chat Conversation  1.89\n",
       "3                              Lead Source_Olark Chat  1.65\n",
       "9                      Last Notable Activity_Modified  1.51\n",
       "2                           Lead Origin_Lead Add Form  1.41\n",
       "10      Last Notable Activity_Olark Chat Conversation  1.30\n",
       "4                        Lead Source_Welingak Website  1.23\n",
       "1                         Total Time Spent on Website  1.20\n",
       "6   What is your current occupation_Working Profes...  1.14\n",
       "0                                        Do Not Email  1.11\n",
       "8                  Last Notable Activity_Email Opened  1.10\n",
       "7            Last Notable Activity_Email Link Clicked  1.02\n",
       "11      Last Notable Activity_Page Visited on Website  1.02"
      ]
     },
     "execution_count": 76,
     "metadata": {},
     "output_type": "execute_result"
    }
   ],
   "source": [
    "#Checking VIF\n",
    "\n",
    "X_train_4_1=X_train_4.drop('const',1)     \n",
    "vif=pd.DataFrame()                       \n",
    "vif['Features']=X_train_4_1.columns       \n",
    "vif['VIF']=[variance_inflation_factor(X_train_4_1.values,i) for i in range(X_train_4_1.shape[1])]\n",
    "vif['VIF']=round(vif['VIF'],2)\n",
    "vif=vif.sort_values(by='VIF',ascending=False)\n",
    "vif  "
   ]
  },
  {
   "cell_type": "markdown",
   "id": "geographic-royalty",
   "metadata": {},
   "source": [
    "   - No multicollinearity shown from above vif dataframe hence reg4 is our final model \n",
    "\n",
    "   - We will use reg 4 model to predict the X train dataset\n",
    "\n"
   ]
  },
  {
   "cell_type": "code",
   "execution_count": 77,
   "id": "illegal-medium",
   "metadata": {},
   "outputs": [
    {
     "data": {
      "text/html": [
       "<div>\n",
       "<style scoped>\n",
       "    .dataframe tbody tr th:only-of-type {\n",
       "        vertical-align: middle;\n",
       "    }\n",
       "\n",
       "    .dataframe tbody tr th {\n",
       "        vertical-align: top;\n",
       "    }\n",
       "\n",
       "    .dataframe thead th {\n",
       "        text-align: right;\n",
       "    }\n",
       "</style>\n",
       "<table border=\"1\" class=\"dataframe\">\n",
       "  <thead>\n",
       "    <tr style=\"text-align: right;\">\n",
       "      <th></th>\n",
       "      <th>Converted</th>\n",
       "      <th>Converted_probability</th>\n",
       "      <th>ID</th>\n",
       "    </tr>\n",
       "  </thead>\n",
       "  <tbody>\n",
       "    <tr>\n",
       "      <th>1871</th>\n",
       "      <td>0</td>\n",
       "      <td>0.279680</td>\n",
       "      <td>1871</td>\n",
       "    </tr>\n",
       "    <tr>\n",
       "      <th>6795</th>\n",
       "      <td>0</td>\n",
       "      <td>0.278385</td>\n",
       "      <td>6795</td>\n",
       "    </tr>\n",
       "    <tr>\n",
       "      <th>3516</th>\n",
       "      <td>0</td>\n",
       "      <td>0.316095</td>\n",
       "      <td>3516</td>\n",
       "    </tr>\n",
       "    <tr>\n",
       "      <th>8105</th>\n",
       "      <td>0</td>\n",
       "      <td>0.757785</td>\n",
       "      <td>8105</td>\n",
       "    </tr>\n",
       "    <tr>\n",
       "      <th>3934</th>\n",
       "      <td>0</td>\n",
       "      <td>0.202654</td>\n",
       "      <td>3934</td>\n",
       "    </tr>\n",
       "  </tbody>\n",
       "</table>\n",
       "</div>"
      ],
      "text/plain": [
       "      Converted  Converted_probability    ID\n",
       "1871          0               0.279680  1871\n",
       "6795          0               0.278385  6795\n",
       "3516          0               0.316095  3516\n",
       "8105          0               0.757785  8105\n",
       "3934          0               0.202654  3934"
      ]
     },
     "execution_count": 77,
     "metadata": {},
     "output_type": "execute_result"
    }
   ],
   "source": [
    "# Predicting the train dataset with our final model\n",
    "\n",
    "y_train_pred=reg4.predict(X_train_4)\n",
    "\n",
    "# Creating a new dataset and saving predicted values in it\n",
    "\n",
    "y_train_pred_final=pd.DataFrame({'Converted':y_train.values,'Converted_probability':y_train_pred,'ID':y_train.index})\n",
    "\n",
    "y_train_pred_final.head()"
   ]
  },
  {
   "cell_type": "markdown",
   "id": "spare-protection",
   "metadata": {},
   "source": [
    "### <font color=blue> 5. Plot and Various Metrics Analysis </font>"
   ]
  },
  {
   "cell_type": "markdown",
   "id": "enormous-reading",
   "metadata": {},
   "source": [
    "#### ROC curve plot"
   ]
  },
  {
   "cell_type": "markdown",
   "id": "toxic-logistics",
   "metadata": {},
   "source": [
    "   - Some aspects related to ROC curve: Curve closer to 45 degree diagnal of space is less accurate.  It shows the trade off between sensitivity and specificity. Curve closer to left side of ROC space border is more accurate than on being right side."
   ]
  },
  {
   "cell_type": "code",
   "execution_count": 78,
   "id": "suited-calgary",
   "metadata": {},
   "outputs": [],
   "source": [
    "from sklearn.metrics import roc_curve       \n",
    "from sklearn.metrics import roc_auc_score\n",
    "\n",
    "# function to plot roc curve with auc score\n",
    "\n",
    "def lead_roc( real, probability ):\n",
    "    \n",
    "    # Creating roc curve values like false positive rate , true positive rate and threshold\n",
    "    \n",
    "    fpr, tpr, thresholds = roc_curve( real, probability,drop_intermediate = False )   \n",
    "    \n",
    "    auc_score = roc_auc_score( real, probability )    \n",
    "    \n",
    "    plt.figure(figsize=(8, 4))\n",
    "    \n",
    "    \n",
    "    plt.plot( fpr, tpr, label='ROC curve (area = %0.2f)' % auc_score )\n",
    "    \n",
    "    plt.plot([0, 1], [0, 1], 'r--')\n",
    "    \n",
    "    plt.xlim([0.0, 1.0])\n",
    "    \n",
    "    plt.ylim([0.0, 1.05])\n",
    "    \n",
    "    plt.xlabel('False positive rate')\n",
    "    \n",
    "    plt.ylabel('True positive rate')\n",
    "    \n",
    "    plt.title('Receiver Operating Characteristic')\n",
    "    \n",
    "    plt.legend(loc=\"lower right\")\n",
    "    \n",
    "    plt.show()\n",
    "\n",
    "    return None  "
   ]
  },
  {
   "cell_type": "code",
   "execution_count": 79,
   "id": "defined-circuit",
   "metadata": {},
   "outputs": [
    {
     "data": {
      "image/png": "[encoded data removed]",
      "text/plain": [
       "<Figure size 576x288 with 1 Axes>"
      ]
     },
     "metadata": {},
     "output_type": "display_data"
    }
   ],
   "source": [
    "## Roc Curve\n",
    "\n",
    "lead_roc(y_train_pred_final.Converted, y_train_pred_final.Converted_probability)"
   ]
  },
  {
   "cell_type": "markdown",
   "id": "seasonal-prediction",
   "metadata": {},
   "source": [
    "   - We can see that curve is closer to the left side of the border than to the right side. Therefore, our model has greater accuracy.  Area under the curve is 88% of the total area (ROC curve area).\n"
   ]
  },
  {
   "cell_type": "markdown",
   "id": "hazardous-bandwidth",
   "metadata": {},
   "source": [
    "#### Optimal probability cut off"
   ]
  },
  {
   "cell_type": "code",
   "execution_count": 80,
   "id": "casual-journalism",
   "metadata": {},
   "outputs": [],
   "source": [
    "## Lets create columns with different probabilty cutoffs\n",
    "\n",
    "numbers=[float(x)/10 for x in range(10)]  \n",
    "\n",
    "for i in numbers:\n",
    "    y_train_pred_final[i]=y_train_pred_final['Converted_probability'].map(lambda x:1 if x > i else 0)   "
   ]
  },
  {
   "cell_type": "code",
   "execution_count": 81,
   "id": "retired-liability",
   "metadata": {},
   "outputs": [
    {
     "data": {
      "text/html": [
       "<div>\n",
       "<style scoped>\n",
       "    .dataframe tbody tr th:only-of-type {\n",
       "        vertical-align: middle;\n",
       "    }\n",
       "\n",
       "    .dataframe tbody tr th {\n",
       "        vertical-align: top;\n",
       "    }\n",
       "\n",
       "    .dataframe thead th {\n",
       "        text-align: right;\n",
       "    }\n",
       "</style>\n",
       "<table border=\"1\" class=\"dataframe\">\n",
       "  <thead>\n",
       "    <tr style=\"text-align: right;\">\n",
       "      <th></th>\n",
       "      <th>Converted</th>\n",
       "      <th>Converted_probability</th>\n",
       "      <th>ID</th>\n",
       "      <th>0.0</th>\n",
       "      <th>0.1</th>\n",
       "      <th>0.2</th>\n",
       "      <th>0.3</th>\n",
       "      <th>0.4</th>\n",
       "      <th>0.5</th>\n",
       "      <th>0.6</th>\n",
       "      <th>0.7</th>\n",
       "      <th>0.8</th>\n",
       "      <th>0.9</th>\n",
       "    </tr>\n",
       "  </thead>\n",
       "  <tbody>\n",
       "    <tr>\n",
       "      <th>1871</th>\n",
       "      <td>0</td>\n",
       "      <td>0.279680</td>\n",
       "      <td>1871</td>\n",
       "      <td>1</td>\n",
       "      <td>1</td>\n",
       "      <td>1</td>\n",
       "      <td>0</td>\n",
       "      <td>0</td>\n",
       "      <td>0</td>\n",
       "      <td>0</td>\n",
       "      <td>0</td>\n",
       "      <td>0</td>\n",
       "      <td>0</td>\n",
       "    </tr>\n",
       "    <tr>\n",
       "      <th>6795</th>\n",
       "      <td>0</td>\n",
       "      <td>0.278385</td>\n",
       "      <td>6795</td>\n",
       "      <td>1</td>\n",
       "      <td>1</td>\n",
       "      <td>1</td>\n",
       "      <td>0</td>\n",
       "      <td>0</td>\n",
       "      <td>0</td>\n",
       "      <td>0</td>\n",
       "      <td>0</td>\n",
       "      <td>0</td>\n",
       "      <td>0</td>\n",
       "    </tr>\n",
       "    <tr>\n",
       "      <th>3516</th>\n",
       "      <td>0</td>\n",
       "      <td>0.316095</td>\n",
       "      <td>3516</td>\n",
       "      <td>1</td>\n",
       "      <td>1</td>\n",
       "      <td>1</td>\n",
       "      <td>1</td>\n",
       "      <td>0</td>\n",
       "      <td>0</td>\n",
       "      <td>0</td>\n",
       "      <td>0</td>\n",
       "      <td>0</td>\n",
       "      <td>0</td>\n",
       "    </tr>\n",
       "    <tr>\n",
       "      <th>8105</th>\n",
       "      <td>0</td>\n",
       "      <td>0.757785</td>\n",
       "      <td>8105</td>\n",
       "      <td>1</td>\n",
       "      <td>1</td>\n",
       "      <td>1</td>\n",
       "      <td>1</td>\n",
       "      <td>1</td>\n",
       "      <td>1</td>\n",
       "      <td>1</td>\n",
       "      <td>1</td>\n",
       "      <td>0</td>\n",
       "      <td>0</td>\n",
       "    </tr>\n",
       "    <tr>\n",
       "      <th>3934</th>\n",
       "      <td>0</td>\n",
       "      <td>0.202654</td>\n",
       "      <td>3934</td>\n",
       "      <td>1</td>\n",
       "      <td>1</td>\n",
       "      <td>1</td>\n",
       "      <td>0</td>\n",
       "      <td>0</td>\n",
       "      <td>0</td>\n",
       "      <td>0</td>\n",
       "      <td>0</td>\n",
       "      <td>0</td>\n",
       "      <td>0</td>\n",
       "    </tr>\n",
       "  </tbody>\n",
       "</table>\n",
       "</div>"
      ],
      "text/plain": [
       "      Converted  Converted_probability    ID  0.0  0.1  0.2  0.3  0.4  0.5  \\\n",
       "1871          0               0.279680  1871    1    1    1    0    0    0   \n",
       "6795          0               0.278385  6795    1    1    1    0    0    0   \n",
       "3516          0               0.316095  3516    1    1    1    1    0    0   \n",
       "8105          0               0.757785  8105    1    1    1    1    1    1   \n",
       "3934          0               0.202654  3934    1    1    1    0    0    0   \n",
       "\n",
       "      0.6  0.7  0.8  0.9  \n",
       "1871    0    0    0    0  \n",
       "6795    0    0    0    0  \n",
       "3516    0    0    0    0  \n",
       "8105    1    1    0    0  \n",
       "3934    0    0    0    0  "
      ]
     },
     "execution_count": 81,
     "metadata": {},
     "output_type": "execute_result"
    }
   ],
   "source": [
    "y_train_pred_final.head()"
   ]
  },
  {
   "cell_type": "markdown",
   "id": "fewer-approval",
   "metadata": {},
   "source": [
    "   - We need to choose any one points from 0 to 0.9, it is done by finding 'Accuracy', 'Sensitivity' and 'Specificity' for each of these points. \n",
    "   - It will tell, whether our model is having low accuray or high or number of relevance data points is high or low."
   ]
  },
  {
   "cell_type": "code",
   "execution_count": 82,
   "id": "decent-enough",
   "metadata": {},
   "outputs": [
    {
     "name": "stdout",
     "output_type": "stream",
     "text": [
      "     Probability  Accuracy  Sensitvity  Specificity\n",
      "0.0          0.0  0.423469    0.996756     0.070215\n",
      "0.1          0.1  0.555659    0.975669     0.296852\n",
      "0.2          0.2  0.698825    0.935929     0.552724\n",
      "0.3          0.3  0.791589    0.862530     0.747876\n",
      "0.4          0.4  0.808442    0.790754     0.819340\n",
      "0.5          0.5  0.810606    0.682076     0.889805\n",
      "0.6          0.6  0.780458    0.517843     0.942279\n",
      "0.7          0.7  0.750000    0.392133     0.970515\n",
      "0.8          0.8  0.719233    0.289132     0.984258\n",
      "0.9          0.9  0.680891    0.171533     0.994753\n"
     ]
    }
   ],
   "source": [
    "# We will calculate accuracy, sensitivity and specificity using probability cutoff\n",
    "# We need import necessary library for this purpose\n",
    "\n",
    "from sklearn.metrics import confusion_matrix\n",
    "\n",
    "#We will create a new dataframe to save the values that will be created\n",
    "\n",
    "dataframe_cf=pd.DataFrame(columns=['Probability','Accuracy','Sensitvity','Specificity'])\n",
    "var=[0.0,0.1,0.2,0.3,0.4,0.5,0.6,0.7,0.8,0.9]\n",
    "\n",
    "for i in var:\n",
    "    \n",
    "    #confusion matrix\n",
    "    cm_matrix=confusion_matrix(y_train_pred_final['Converted'],y_train_pred_final[i]) \n",
    "     # sum of the matrix\n",
    "    total=sum(sum(cm_matrix))  \n",
    "    # Storing the accuracy Data\n",
    "    accuracy=(cm_matrix[0,0]+cm_matrix[1,1])/total  \n",
    "    # Storing the sensitivity Data\n",
    "    sensitivity=cm_matrix[1,1]/(cm_matrix[1,0]+cm_matrix[1,1]) \n",
    "    # Storing the specificity Data\n",
    "    specificity=cm_matrix[0,0]/(cm_matrix[0,0]+cm_matrix[0,1])  \n",
    "    # Inserting all the values into the new dataframe\n",
    "    dataframe_cf.loc[i]=[i, accuracy, sensitivity, specificity]                           \n",
    "print(dataframe_cf)"
   ]
  },
  {
   "cell_type": "markdown",
   "id": "saved-tractor",
   "metadata": {},
   "source": [
    "   - In the data frame above created we will select a probability cutoff point of 0.4 as all the accuracy , sensitivity and specificity are having nearly same value.\n",
    "\n"
   ]
  },
  {
   "cell_type": "code",
   "execution_count": 83,
   "id": "warming-scotland",
   "metadata": {},
   "outputs": [
    {
     "data": {
      "image/png": "[encoded data removed]",
      "text/plain": [
       "<Figure size 432x288 with 1 Axes>"
      ]
     },
     "metadata": {},
     "output_type": "display_data"
    }
   ],
   "source": [
    "#We can plot to see the meeting point of accuracy' , 'sensitivity' and 'specificity' of probabilities ranging from 0 to 0.9\n",
    "\n",
    "dataframe_cf.plot.line(x='Probability', y=['Accuracy','Sensitvity','Specificity'])   \n",
    "plt.show()"
   ]
  },
  {
   "cell_type": "markdown",
   "id": "present-balloon",
   "metadata": {},
   "source": [
    "   - From the above curve, 0.3 is the optimum point to take it as a cutoff probabilty"
   ]
  },
  {
   "cell_type": "code",
   "execution_count": 84,
   "id": "cooked-harmony",
   "metadata": {},
   "outputs": [
    {
     "data": {
      "text/html": [
       "<div>\n",
       "<style scoped>\n",
       "    .dataframe tbody tr th:only-of-type {\n",
       "        vertical-align: middle;\n",
       "    }\n",
       "\n",
       "    .dataframe tbody tr th {\n",
       "        vertical-align: top;\n",
       "    }\n",
       "\n",
       "    .dataframe thead th {\n",
       "        text-align: right;\n",
       "    }\n",
       "</style>\n",
       "<table border=\"1\" class=\"dataframe\">\n",
       "  <thead>\n",
       "    <tr style=\"text-align: right;\">\n",
       "      <th></th>\n",
       "      <th>Converted</th>\n",
       "      <th>Converted_probability</th>\n",
       "      <th>ID</th>\n",
       "      <th>0.0</th>\n",
       "      <th>0.1</th>\n",
       "      <th>0.2</th>\n",
       "      <th>0.3</th>\n",
       "      <th>0.4</th>\n",
       "      <th>0.5</th>\n",
       "      <th>0.6</th>\n",
       "      <th>0.7</th>\n",
       "      <th>0.8</th>\n",
       "      <th>0.9</th>\n",
       "      <th>Predicted</th>\n",
       "    </tr>\n",
       "  </thead>\n",
       "  <tbody>\n",
       "    <tr>\n",
       "      <th>1871</th>\n",
       "      <td>0</td>\n",
       "      <td>0.279680</td>\n",
       "      <td>1871</td>\n",
       "      <td>1</td>\n",
       "      <td>1</td>\n",
       "      <td>1</td>\n",
       "      <td>0</td>\n",
       "      <td>0</td>\n",
       "      <td>0</td>\n",
       "      <td>0</td>\n",
       "      <td>0</td>\n",
       "      <td>0</td>\n",
       "      <td>0</td>\n",
       "      <td>0</td>\n",
       "    </tr>\n",
       "    <tr>\n",
       "      <th>6795</th>\n",
       "      <td>0</td>\n",
       "      <td>0.278385</td>\n",
       "      <td>6795</td>\n",
       "      <td>1</td>\n",
       "      <td>1</td>\n",
       "      <td>1</td>\n",
       "      <td>0</td>\n",
       "      <td>0</td>\n",
       "      <td>0</td>\n",
       "      <td>0</td>\n",
       "      <td>0</td>\n",
       "      <td>0</td>\n",
       "      <td>0</td>\n",
       "      <td>0</td>\n",
       "    </tr>\n",
       "    <tr>\n",
       "      <th>3516</th>\n",
       "      <td>0</td>\n",
       "      <td>0.316095</td>\n",
       "      <td>3516</td>\n",
       "      <td>1</td>\n",
       "      <td>1</td>\n",
       "      <td>1</td>\n",
       "      <td>1</td>\n",
       "      <td>0</td>\n",
       "      <td>0</td>\n",
       "      <td>0</td>\n",
       "      <td>0</td>\n",
       "      <td>0</td>\n",
       "      <td>0</td>\n",
       "      <td>0</td>\n",
       "    </tr>\n",
       "    <tr>\n",
       "      <th>8105</th>\n",
       "      <td>0</td>\n",
       "      <td>0.757785</td>\n",
       "      <td>8105</td>\n",
       "      <td>1</td>\n",
       "      <td>1</td>\n",
       "      <td>1</td>\n",
       "      <td>1</td>\n",
       "      <td>1</td>\n",
       "      <td>1</td>\n",
       "      <td>1</td>\n",
       "      <td>1</td>\n",
       "      <td>0</td>\n",
       "      <td>0</td>\n",
       "      <td>1</td>\n",
       "    </tr>\n",
       "    <tr>\n",
       "      <th>3934</th>\n",
       "      <td>0</td>\n",
       "      <td>0.202654</td>\n",
       "      <td>3934</td>\n",
       "      <td>1</td>\n",
       "      <td>1</td>\n",
       "      <td>1</td>\n",
       "      <td>0</td>\n",
       "      <td>0</td>\n",
       "      <td>0</td>\n",
       "      <td>0</td>\n",
       "      <td>0</td>\n",
       "      <td>0</td>\n",
       "      <td>0</td>\n",
       "      <td>0</td>\n",
       "    </tr>\n",
       "  </tbody>\n",
       "</table>\n",
       "</div>"
      ],
      "text/plain": [
       "      Converted  Converted_probability    ID  0.0  0.1  0.2  0.3  0.4  0.5  \\\n",
       "1871          0               0.279680  1871    1    1    1    0    0    0   \n",
       "6795          0               0.278385  6795    1    1    1    0    0    0   \n",
       "3516          0               0.316095  3516    1    1    1    1    0    0   \n",
       "8105          0               0.757785  8105    1    1    1    1    1    1   \n",
       "3934          0               0.202654  3934    1    1    1    0    0    0   \n",
       "\n",
       "      0.6  0.7  0.8  0.9  Predicted  \n",
       "1871    0    0    0    0          0  \n",
       "6795    0    0    0    0          0  \n",
       "3516    0    0    0    0          0  \n",
       "8105    1    1    0    0          1  \n",
       "3934    0    0    0    0          0  "
      ]
     },
     "execution_count": 84,
     "metadata": {},
     "output_type": "execute_result"
    }
   ],
   "source": [
    "# We will predict the outcomes with probability cutoff as 0.4. A new dataframe is created\n",
    "\n",
    "y_train_pred_final['Predicted']=y_train_pred_final['Converted_probability'].map(lambda x:1 if x >0.4 else 0 )   \n",
    "\n",
    "y_train_pred_final.head()"
   ]
  },
  {
   "cell_type": "markdown",
   "id": "current-folder",
   "metadata": {},
   "source": [
    "#### Precision and recall calculation on Train Data Set"
   ]
  },
  {
   "cell_type": "code",
   "execution_count": 85,
   "id": "affecting-newcastle",
   "metadata": {},
   "outputs": [],
   "source": [
    "from sklearn import metrics"
   ]
  },
  {
   "cell_type": "code",
   "execution_count": 86,
   "id": "coupled-haven",
   "metadata": {},
   "outputs": [],
   "source": [
    " from sklearn.metrics import precision_score, recall_score"
   ]
  },
  {
   "cell_type": "code",
   "execution_count": 87,
   "id": "creative-apparel",
   "metadata": {},
   "outputs": [
    {
     "data": {
      "text/plain": [
       "0.8084415584415584"
      ]
     },
     "execution_count": 87,
     "metadata": {},
     "output_type": "execute_result"
    }
   ],
   "source": [
    "# Let's check the overall accuracy.\n",
    "\n",
    "metrics.accuracy_score(y_train_pred_final.Converted, y_train_pred_final.Predicted)"
   ]
  },
  {
   "cell_type": "code",
   "execution_count": 88,
   "id": "informational-violence",
   "metadata": {},
   "outputs": [
    {
     "data": {
      "text/plain": [
       "array([[3279,  723],\n",
       "       [ 516, 1950]], dtype=int64)"
      ]
     },
     "execution_count": 88,
     "metadata": {},
     "output_type": "execute_result"
    }
   ],
   "source": [
    "## Checking confusion matrix for train dataset\n",
    "\n",
    "confusion2 = metrics.confusion_matrix(y_train_pred_final.Converted, y_train_pred_final.Predicted)\n",
    "confusion2"
   ]
  },
  {
   "cell_type": "code",
   "execution_count": 89,
   "id": "bulgarian-affiliation",
   "metadata": {},
   "outputs": [],
   "source": [
    "TP = confusion2[1,1] # true positive \n",
    "TN = confusion2[0,0] # true negatives\n",
    "FP = confusion2[0,1] # false positives\n",
    "FN = confusion2[1,0] # false negatives"
   ]
  },
  {
   "cell_type": "code",
   "execution_count": 90,
   "id": "confirmed-ribbon",
   "metadata": {},
   "outputs": [
    {
     "data": {
      "text/plain": [
       "0.7907542579075426"
      ]
     },
     "execution_count": 90,
     "metadata": {},
     "output_type": "execute_result"
    }
   ],
   "source": [
    "# Let's see the sensitivity of our logistic regression model\n",
    "\n",
    "TP / float(TP+FN)"
   ]
  },
  {
   "cell_type": "code",
   "execution_count": 91,
   "id": "imperial-culture",
   "metadata": {},
   "outputs": [
    {
     "data": {
      "text/plain": [
       "0.8193403298350824"
      ]
     },
     "execution_count": 91,
     "metadata": {},
     "output_type": "execute_result"
    }
   ],
   "source": [
    "# Let us calculate specificity\n",
    "\n",
    "TN / float(TN+FP)"
   ]
  },
  {
   "cell_type": "code",
   "execution_count": 92,
   "id": "sudden-breach",
   "metadata": {},
   "outputs": [
    {
     "data": {
      "text/plain": [
       "0.7295173961840629"
      ]
     },
     "execution_count": 92,
     "metadata": {},
     "output_type": "execute_result"
    }
   ],
   "source": [
    "## Lets check the precision score \n",
    "\n",
    "precision_score(y_train_pred_final.Converted , y_train_pred_final.Predicted)"
   ]
  },
  {
   "cell_type": "code",
   "execution_count": 93,
   "id": "positive-invite",
   "metadata": {},
   "outputs": [
    {
     "data": {
      "text/plain": [
       "0.7907542579075426"
      ]
     },
     "execution_count": 93,
     "metadata": {},
     "output_type": "execute_result"
    }
   ],
   "source": [
    "## Lets check recall value\n",
    "\n",
    "recall_score(y_train_pred_final.Converted, y_train_pred_final.Predicted)"
   ]
  },
  {
   "cell_type": "markdown",
   "id": "clear-handbook",
   "metadata": {},
   "source": [
    "#### Inferences:\n",
    "So as we can see above the model seems to be performing well. The ROC curve has a value of 0.88, which is quite good. We have the following values for the Train Data:\n",
    "\n",
    "- Accuracy : 81%\n",
    "- Sensitivity : 79%\n",
    "- Specificity : 82%\n",
    "- Recall : 79%\n",
    "- Precision : 73%"
   ]
  },
  {
   "cell_type": "code",
   "execution_count": 94,
   "id": "disciplinary-chess",
   "metadata": {},
   "outputs": [],
   "source": [
    "#import library for finding trade off\n",
    "\n",
    "from sklearn.metrics import precision_recall_curve"
   ]
  },
  {
   "cell_type": "code",
   "execution_count": 95,
   "id": "logical-appendix",
   "metadata": {},
   "outputs": [
    {
     "data": {
      "image/png": "[encoded data removed]",
      "text/plain": [
       "<Figure size 432x288 with 1 Axes>"
      ]
     },
     "metadata": {},
     "output_type": "display_data"
    }
   ],
   "source": [
    "p ,r, thresholds=precision_recall_curve(y_train_pred_final.Converted,y_train_pred_final.Converted_probability)\n",
    "plt.plot(thresholds, p[:-1], \"g-\")    \n",
    "plt.plot(thresholds, r[:-1], \"r-\")  \n",
    "plt.title('Trade off between Precision and Recall')\n",
    "plt.show()"
   ]
  },
  {
   "cell_type": "markdown",
   "id": "republican-environment",
   "metadata": {},
   "source": [
    "   - There is a trade off between precision and recall and they meet near to 0.5"
   ]
  },
  {
   "cell_type": "markdown",
   "id": "peaceful-synthetic",
   "metadata": {},
   "source": [
    "### <font color=blue> 6. Prediction and Evaluation on Test Data Set"
   ]
  },
  {
   "cell_type": "code",
   "execution_count": 96,
   "id": "published-photography",
   "metadata": {},
   "outputs": [],
   "source": [
    "## Prediction on Test Data set\n",
    "\n",
    "test_cols=X_train_4.columns[1:]              \n",
    "X_test_final=X_test[test_cols]               \n",
    "X_test_final=sm.add_constant(X_test_final)   \n",
    "y_pred_test=reg4.predict(X_test_final)"
   ]
  },
  {
   "cell_type": "code",
   "execution_count": 97,
   "id": "billion-precipitation",
   "metadata": {},
   "outputs": [
    {
     "data": {
      "text/html": [
       "<div>\n",
       "<style scoped>\n",
       "    .dataframe tbody tr th:only-of-type {\n",
       "        vertical-align: middle;\n",
       "    }\n",
       "\n",
       "    .dataframe tbody tr th {\n",
       "        vertical-align: top;\n",
       "    }\n",
       "\n",
       "    .dataframe thead th {\n",
       "        text-align: right;\n",
       "    }\n",
       "</style>\n",
       "<table border=\"1\" class=\"dataframe\">\n",
       "  <thead>\n",
       "    <tr style=\"text-align: right;\">\n",
       "      <th></th>\n",
       "      <th>Converted</th>\n",
       "      <th>Converted_Probability</th>\n",
       "      <th>ID</th>\n",
       "    </tr>\n",
       "  </thead>\n",
       "  <tbody>\n",
       "    <tr>\n",
       "      <th>4269</th>\n",
       "      <td>1</td>\n",
       "      <td>190.319411</td>\n",
       "      <td>4269</td>\n",
       "    </tr>\n",
       "    <tr>\n",
       "      <th>2376</th>\n",
       "      <td>1</td>\n",
       "      <td>1.059907</td>\n",
       "      <td>2376</td>\n",
       "    </tr>\n",
       "    <tr>\n",
       "      <th>7766</th>\n",
       "      <td>1</td>\n",
       "      <td>11.923900</td>\n",
       "      <td>7766</td>\n",
       "    </tr>\n",
       "    <tr>\n",
       "      <th>9199</th>\n",
       "      <td>0</td>\n",
       "      <td>0.246366</td>\n",
       "      <td>9199</td>\n",
       "    </tr>\n",
       "    <tr>\n",
       "      <th>4359</th>\n",
       "      <td>1</td>\n",
       "      <td>0.835757</td>\n",
       "      <td>4359</td>\n",
       "    </tr>\n",
       "  </tbody>\n",
       "</table>\n",
       "</div>"
      ],
      "text/plain": [
       "      Converted  Converted_Probability    ID\n",
       "4269          1             190.319411  4269\n",
       "2376          1               1.059907  2376\n",
       "7766          1              11.923900  7766\n",
       "9199          0               0.246366  9199\n",
       "4359          1               0.835757  4359"
      ]
     },
     "execution_count": 97,
     "metadata": {},
     "output_type": "execute_result"
    }
   ],
   "source": [
    "# new dataset and saving the prediction values \n",
    "\n",
    "y_test_pred_final=pd.DataFrame({'Converted':y_test.values,'Converted_Probability':y_pred_test,'ID':y_test.index})\n",
    "\n",
    "y_test_pred_final.head()"
   ]
  },
  {
   "cell_type": "code",
   "execution_count": 98,
   "id": "fiscal-footage",
   "metadata": {},
   "outputs": [
    {
     "data": {
      "text/plain": [
       "(2772, 3)"
      ]
     },
     "execution_count": 98,
     "metadata": {},
     "output_type": "execute_result"
    }
   ],
   "source": [
    "## Checking final shape\n",
    "\n",
    "y_test_pred_final.shape"
   ]
  },
  {
   "cell_type": "markdown",
   "id": "conceptual-latino",
   "metadata": {},
   "source": [
    "###  Model Evaluation"
   ]
  },
  {
   "cell_type": "code",
   "execution_count": 99,
   "id": "christian-internet",
   "metadata": {},
   "outputs": [
    {
     "data": {
      "text/html": [
       "<div>\n",
       "<style scoped>\n",
       "    .dataframe tbody tr th:only-of-type {\n",
       "        vertical-align: middle;\n",
       "    }\n",
       "\n",
       "    .dataframe tbody tr th {\n",
       "        vertical-align: top;\n",
       "    }\n",
       "\n",
       "    .dataframe thead th {\n",
       "        text-align: right;\n",
       "    }\n",
       "</style>\n",
       "<table border=\"1\" class=\"dataframe\">\n",
       "  <thead>\n",
       "    <tr style=\"text-align: right;\">\n",
       "      <th></th>\n",
       "      <th>Converted</th>\n",
       "      <th>Converted_Probability</th>\n",
       "      <th>ID</th>\n",
       "      <th>Predicted</th>\n",
       "    </tr>\n",
       "  </thead>\n",
       "  <tbody>\n",
       "    <tr>\n",
       "      <th>4269</th>\n",
       "      <td>1</td>\n",
       "      <td>190.319411</td>\n",
       "      <td>4269</td>\n",
       "      <td>1</td>\n",
       "    </tr>\n",
       "    <tr>\n",
       "      <th>2376</th>\n",
       "      <td>1</td>\n",
       "      <td>1.059907</td>\n",
       "      <td>2376</td>\n",
       "      <td>1</td>\n",
       "    </tr>\n",
       "    <tr>\n",
       "      <th>7766</th>\n",
       "      <td>1</td>\n",
       "      <td>11.923900</td>\n",
       "      <td>7766</td>\n",
       "      <td>1</td>\n",
       "    </tr>\n",
       "    <tr>\n",
       "      <th>9199</th>\n",
       "      <td>0</td>\n",
       "      <td>0.246366</td>\n",
       "      <td>9199</td>\n",
       "      <td>0</td>\n",
       "    </tr>\n",
       "    <tr>\n",
       "      <th>4359</th>\n",
       "      <td>1</td>\n",
       "      <td>0.835757</td>\n",
       "      <td>4359</td>\n",
       "      <td>1</td>\n",
       "    </tr>\n",
       "  </tbody>\n",
       "</table>\n",
       "</div>"
      ],
      "text/plain": [
       "      Converted  Converted_Probability    ID  Predicted\n",
       "4269          1             190.319411  4269          1\n",
       "2376          1               1.059907  2376          1\n",
       "7766          1              11.923900  7766          1\n",
       "9199          0               0.246366  9199          0\n",
       "4359          1               0.835757  4359          1"
      ]
     },
     "execution_count": 99,
     "metadata": {},
     "output_type": "execute_result"
    }
   ],
   "source": [
    "#predicting with probability cutoff (0.4)\n",
    "\n",
    "\n",
    "y_test_pred_final['Predicted']=y_test_pred_final['Converted_Probability'].map(lambda x:1 if x >0.4 else 0 )  \n",
    "\n",
    "y_test_pred_final.head()"
   ]
  },
  {
   "cell_type": "markdown",
   "id": "initial-custody",
   "metadata": {},
   "source": [
    "### Assigning lead score"
   ]
  },
  {
   "cell_type": "code",
   "execution_count": 100,
   "id": "interested-heart",
   "metadata": {},
   "outputs": [
    {
     "data": {
      "text/html": [
       "<div>\n",
       "<style scoped>\n",
       "    .dataframe tbody tr th:only-of-type {\n",
       "        vertical-align: middle;\n",
       "    }\n",
       "\n",
       "    .dataframe tbody tr th {\n",
       "        vertical-align: top;\n",
       "    }\n",
       "\n",
       "    .dataframe thead th {\n",
       "        text-align: right;\n",
       "    }\n",
       "</style>\n",
       "<table border=\"1\" class=\"dataframe\">\n",
       "  <thead>\n",
       "    <tr style=\"text-align: right;\">\n",
       "      <th></th>\n",
       "      <th>Converted</th>\n",
       "      <th>Converted_Probability</th>\n",
       "      <th>ID</th>\n",
       "      <th>Predicted</th>\n",
       "      <th>Lead Number</th>\n",
       "      <th>Lead Score</th>\n",
       "    </tr>\n",
       "  </thead>\n",
       "  <tbody>\n",
       "    <tr>\n",
       "      <th>4269</th>\n",
       "      <td>1</td>\n",
       "      <td>190.319411</td>\n",
       "      <td>4269</td>\n",
       "      <td>1</td>\n",
       "      <td>0</td>\n",
       "      <td>19032</td>\n",
       "    </tr>\n",
       "    <tr>\n",
       "      <th>2376</th>\n",
       "      <td>1</td>\n",
       "      <td>1.059907</td>\n",
       "      <td>2376</td>\n",
       "      <td>1</td>\n",
       "      <td>0</td>\n",
       "      <td>106</td>\n",
       "    </tr>\n",
       "    <tr>\n",
       "      <th>7766</th>\n",
       "      <td>1</td>\n",
       "      <td>11.923900</td>\n",
       "      <td>7766</td>\n",
       "      <td>1</td>\n",
       "      <td>0</td>\n",
       "      <td>1192</td>\n",
       "    </tr>\n",
       "    <tr>\n",
       "      <th>9199</th>\n",
       "      <td>0</td>\n",
       "      <td>0.246366</td>\n",
       "      <td>9199</td>\n",
       "      <td>0</td>\n",
       "      <td>0</td>\n",
       "      <td>25</td>\n",
       "    </tr>\n",
       "    <tr>\n",
       "      <th>4359</th>\n",
       "      <td>1</td>\n",
       "      <td>0.835757</td>\n",
       "      <td>4359</td>\n",
       "      <td>1</td>\n",
       "      <td>0</td>\n",
       "      <td>84</td>\n",
       "    </tr>\n",
       "    <tr>\n",
       "      <th>9186</th>\n",
       "      <td>1</td>\n",
       "      <td>115.406096</td>\n",
       "      <td>9186</td>\n",
       "      <td>1</td>\n",
       "      <td>0</td>\n",
       "      <td>11541</td>\n",
       "    </tr>\n",
       "    <tr>\n",
       "      <th>1631</th>\n",
       "      <td>1</td>\n",
       "      <td>190.470767</td>\n",
       "      <td>1631</td>\n",
       "      <td>1</td>\n",
       "      <td>0</td>\n",
       "      <td>19047</td>\n",
       "    </tr>\n",
       "    <tr>\n",
       "      <th>8963</th>\n",
       "      <td>1</td>\n",
       "      <td>50.595027</td>\n",
       "      <td>8963</td>\n",
       "      <td>1</td>\n",
       "      <td>0</td>\n",
       "      <td>5060</td>\n",
       "    </tr>\n",
       "    <tr>\n",
       "      <th>8007</th>\n",
       "      <td>0</td>\n",
       "      <td>64.787205</td>\n",
       "      <td>8007</td>\n",
       "      <td>1</td>\n",
       "      <td>0</td>\n",
       "      <td>6479</td>\n",
       "    </tr>\n",
       "    <tr>\n",
       "      <th>5324</th>\n",
       "      <td>1</td>\n",
       "      <td>30.541889</td>\n",
       "      <td>5324</td>\n",
       "      <td>1</td>\n",
       "      <td>0</td>\n",
       "      <td>3054</td>\n",
       "    </tr>\n",
       "    <tr>\n",
       "      <th>2558</th>\n",
       "      <td>0</td>\n",
       "      <td>224.376975</td>\n",
       "      <td>2558</td>\n",
       "      <td>1</td>\n",
       "      <td>0</td>\n",
       "      <td>22438</td>\n",
       "    </tr>\n",
       "    <tr>\n",
       "      <th>8973</th>\n",
       "      <td>0</td>\n",
       "      <td>22.244374</td>\n",
       "      <td>8973</td>\n",
       "      <td>1</td>\n",
       "      <td>0</td>\n",
       "      <td>2224</td>\n",
       "    </tr>\n",
       "    <tr>\n",
       "      <th>2935</th>\n",
       "      <td>1</td>\n",
       "      <td>309.542357</td>\n",
       "      <td>2935</td>\n",
       "      <td>1</td>\n",
       "      <td>0</td>\n",
       "      <td>30954</td>\n",
       "    </tr>\n",
       "    <tr>\n",
       "      <th>2907</th>\n",
       "      <td>1</td>\n",
       "      <td>305.224045</td>\n",
       "      <td>2907</td>\n",
       "      <td>1</td>\n",
       "      <td>0</td>\n",
       "      <td>30522</td>\n",
       "    </tr>\n",
       "    <tr>\n",
       "      <th>957</th>\n",
       "      <td>1</td>\n",
       "      <td>102.039259</td>\n",
       "      <td>957</td>\n",
       "      <td>1</td>\n",
       "      <td>0</td>\n",
       "      <td>10204</td>\n",
       "    </tr>\n",
       "    <tr>\n",
       "      <th>493</th>\n",
       "      <td>1</td>\n",
       "      <td>0.835757</td>\n",
       "      <td>493</td>\n",
       "      <td>1</td>\n",
       "      <td>0</td>\n",
       "      <td>84</td>\n",
       "    </tr>\n",
       "    <tr>\n",
       "      <th>3179</th>\n",
       "      <td>1</td>\n",
       "      <td>73.688606</td>\n",
       "      <td>3179</td>\n",
       "      <td>1</td>\n",
       "      <td>0</td>\n",
       "      <td>7369</td>\n",
       "    </tr>\n",
       "    <tr>\n",
       "      <th>3545</th>\n",
       "      <td>0</td>\n",
       "      <td>55.475444</td>\n",
       "      <td>3545</td>\n",
       "      <td>1</td>\n",
       "      <td>0</td>\n",
       "      <td>5548</td>\n",
       "    </tr>\n",
       "    <tr>\n",
       "      <th>6140</th>\n",
       "      <td>0</td>\n",
       "      <td>0.262898</td>\n",
       "      <td>6140</td>\n",
       "      <td>0</td>\n",
       "      <td>0</td>\n",
       "      <td>26</td>\n",
       "    </tr>\n",
       "    <tr>\n",
       "      <th>4877</th>\n",
       "      <td>1</td>\n",
       "      <td>216.041527</td>\n",
       "      <td>4877</td>\n",
       "      <td>1</td>\n",
       "      <td>0</td>\n",
       "      <td>21604</td>\n",
       "    </tr>\n",
       "  </tbody>\n",
       "</table>\n",
       "</div>"
      ],
      "text/plain": [
       "      Converted  Converted_Probability    ID  Predicted  Lead Number  \\\n",
       "4269          1             190.319411  4269          1            0   \n",
       "2376          1               1.059907  2376          1            0   \n",
       "7766          1              11.923900  7766          1            0   \n",
       "9199          0               0.246366  9199          0            0   \n",
       "4359          1               0.835757  4359          1            0   \n",
       "9186          1             115.406096  9186          1            0   \n",
       "1631          1             190.470767  1631          1            0   \n",
       "8963          1              50.595027  8963          1            0   \n",
       "8007          0              64.787205  8007          1            0   \n",
       "5324          1              30.541889  5324          1            0   \n",
       "2558          0             224.376975  2558          1            0   \n",
       "8973          0              22.244374  8973          1            0   \n",
       "2935          1             309.542357  2935          1            0   \n",
       "2907          1             305.224045  2907          1            0   \n",
       "957           1             102.039259   957          1            0   \n",
       "493           1               0.835757   493          1            0   \n",
       "3179          1              73.688606  3179          1            0   \n",
       "3545          0              55.475444  3545          1            0   \n",
       "6140          0               0.262898  6140          0            0   \n",
       "4877          1             216.041527  4877          1            0   \n",
       "\n",
       "      Lead Score  \n",
       "4269       19032  \n",
       "2376         106  \n",
       "7766        1192  \n",
       "9199          25  \n",
       "4359          84  \n",
       "9186       11541  \n",
       "1631       19047  \n",
       "8963        5060  \n",
       "8007        6479  \n",
       "5324        3054  \n",
       "2558       22438  \n",
       "8973        2224  \n",
       "2935       30954  \n",
       "2907       30522  \n",
       "957        10204  \n",
       "493           84  \n",
       "3179        7369  \n",
       "3545        5548  \n",
       "6140          26  \n",
       "4877       21604  "
      ]
     },
     "execution_count": 100,
     "metadata": {},
     "output_type": "execute_result"
    }
   ],
   "source": [
    "### Assigning lead score on Test data set\n",
    "\n",
    "y_test_pred_final['Lead Number']=lead_score.iloc[y_test_pred_final['ID'],1]\n",
    "\n",
    "y_test_pred_final['Lead Score']=y_test_pred_final['Converted_Probability'].apply(lambda x:round(x*100))\n",
    "\n",
    "\n",
    "y_test_pred_final.head(20)"
   ]
  },
  {
   "cell_type": "code",
   "execution_count": 101,
   "id": "northern-insight",
   "metadata": {},
   "outputs": [
    {
     "data": {
      "text/plain": [
       "1    1065\n",
       "0      30\n",
       "Name: Predicted, dtype: int64"
      ]
     },
     "execution_count": 101,
     "metadata": {},
     "output_type": "execute_result"
    }
   ],
   "source": [
    "## get the total of final predicted conversion or non conversion counts\n",
    "\n",
    "checking_test_df = y_test_pred_final.loc[y_test_pred_final['Converted']==1, ['Converted', 'Predicted']]\n",
    "checking_test_df['Predicted'].value_counts()"
   ]
  },
  {
   "cell_type": "code",
   "execution_count": 102,
   "id": "electoral-block",
   "metadata": {},
   "outputs": [
    {
     "data": {
      "text/plain": [
       "78.72146118721462"
      ]
     },
     "execution_count": 102,
     "metadata": {},
     "output_type": "execute_result"
    }
   ],
   "source": [
    "## Check the percentage of predicted conversion on test data\n",
    "\n",
    "(862/(862+233)*100)"
   ]
  },
  {
   "cell_type": "markdown",
   "id": "productive-dollar",
   "metadata": {},
   "source": [
    "Hence We can see that the prediction of conversions have a target rate of 79% "
   ]
  },
  {
   "cell_type": "markdown",
   "id": "approved-specification",
   "metadata": {},
   "source": [
    "#### Overall Metrics - Accuracy, Recall, Precision, Speceficity and Sensitivity on Test Data Set "
   ]
  },
  {
   "cell_type": "code",
   "execution_count": 103,
   "id": "historic-credit",
   "metadata": {},
   "outputs": [
    {
     "name": "stdout",
     "output_type": "stream",
     "text": [
      "Accuracy of Model is : 0.4754689754689755\n"
     ]
    }
   ],
   "source": [
    "# Let's check the overall accuracy.\n",
    "\n",
    "print('Accuracy of Model is :',metrics.accuracy_score(y_test_pred_final.Converted, y_test_pred_final.Predicted))"
   ]
  },
  {
   "cell_type": "code",
   "execution_count": 104,
   "id": "impaired-declaration",
   "metadata": {},
   "outputs": [
    {
     "data": {
      "text/plain": [
       "array([[ 253, 1424],\n",
       "       [  30, 1065]], dtype=int64)"
      ]
     },
     "execution_count": 104,
     "metadata": {},
     "output_type": "execute_result"
    }
   ],
   "source": [
    "## Calculating Confusion Matrix\n",
    "\n",
    "confusion2 = metrics.confusion_matrix(y_test_pred_final.Converted, y_test_pred_final.Predicted)\n",
    "confusion2"
   ]
  },
  {
   "cell_type": "code",
   "execution_count": 105,
   "id": "above-transsexual",
   "metadata": {},
   "outputs": [],
   "source": [
    "## Calculating conversion Values\n",
    "\n",
    "TP = confusion2[1,1] # true positive \n",
    "TN = confusion2[0,0] # true negatives\n",
    "FP = confusion2[0,1] # false positives\n",
    "FN = confusion2[1,0] # false negatives"
   ]
  },
  {
   "cell_type": "code",
   "execution_count": 106,
   "id": "conditional-miller",
   "metadata": {},
   "outputs": [
    {
     "data": {
      "text/plain": [
       "0.9726027397260274"
      ]
     },
     "execution_count": 106,
     "metadata": {},
     "output_type": "execute_result"
    }
   ],
   "source": [
    "# Let's see the sensitivity of our logistic regression model\n",
    "\n",
    "TP / float(TP+FN)"
   ]
  },
  {
   "cell_type": "code",
   "execution_count": 107,
   "id": "endless-dryer",
   "metadata": {},
   "outputs": [
    {
     "data": {
      "text/plain": [
       "0.15086463923673227"
      ]
     },
     "execution_count": 107,
     "metadata": {},
     "output_type": "execute_result"
    }
   ],
   "source": [
    "# Let us calculate specificity\n",
    "\n",
    "TN / float(TN+FP)"
   ]
  },
  {
   "cell_type": "code",
   "execution_count": 108,
   "id": "integral-costs",
   "metadata": {},
   "outputs": [
    {
     "data": {
      "text/plain": [
       "0.42788268380875855"
      ]
     },
     "execution_count": 108,
     "metadata": {},
     "output_type": "execute_result"
    }
   ],
   "source": [
    "## Lets check the precision value\n",
    "\n",
    "precision_score(y_test_pred_final.Converted, y_test_pred_final.Predicted)"
   ]
  },
  {
   "cell_type": "code",
   "execution_count": 109,
   "id": "forward-mount",
   "metadata": {},
   "outputs": [
    {
     "data": {
      "text/plain": [
       "0.9726027397260274"
      ]
     },
     "execution_count": 109,
     "metadata": {},
     "output_type": "execute_result"
    }
   ],
   "source": [
    "## Checking Recall Value\n",
    "\n",
    "recall_score(y_test_pred_final.Converted, y_test_pred_final.Predicted)"
   ]
  },
  {
   "cell_type": "markdown",
   "id": "improved-devon",
   "metadata": {},
   "source": [
    "### Business Recommendation :"
   ]
  },
  {
   "cell_type": "markdown",
   "id": "cardiovascular-cheese",
   "metadata": {},
   "source": [
    "### <font color=green> Summary </font> :"
   ]
  },
  {
   "cell_type": "markdown",
   "id": "essential-still",
   "metadata": {},
   "source": [
    "There are lots of lead generated in the initial stage (top) but only a few of them come out as our paying customers from the bottom.In the middle stage, you need to nurture the potential leads well in order to get higher conversion rate. First, sort out the best prospects from the leads you have generated. Here 'Total Visit', 'Total Time Spent on Websites' which contribute most towards the probabilty of a lead getting converted. Keep leads handy so that you can inform them about new courses, services, jobs offer and about higher studies in future. Focus on Converted Leads. hold Question-Answer sessions with leads to extract the right information you need about them. Make Further Enquiries and appointment with the leads to determine their intention and mentality to join online course. "
   ]
  },
  {
   "cell_type": "markdown",
   "id": "maritime-pressing",
   "metadata": {},
   "source": [
    "### <font color=green> Inference </font> :\n",
    "\n",
    "   \n",
    "•\tModel is stable and suitable for company requirements based on following outcomes:\n",
    "\n",
    "   1.\tAccuracy, Sensitivity and Specificity values of test set are around 81%, 78% and 83% which are approximately closer to the respective values calculated using trained set.  The values are in acceptable range.\n",
    "\n",
    "   2.\tWhile we have checked both Sensitivity-Specificity as well as Precision and Recall Metrics, we have considered the optimal cut off based on Sensitivity and Specificity for calculating the final prediction.\n",
    "\n",
    "   3.\tAlso, the lead score calculated in the trained set of data shows the conversion rate on the final predicted model is around 78%\n"
   ]
  },
  {
   "cell_type": "markdown",
   "id": "viral-protection",
   "metadata": {},
   "source": [
    "### <font color=green> Recommendation </font> :\n",
    "\n",
    "• Company can focus on following categories for Lead conversions:\n",
    "    \n",
    "   - Total Time Spent on websites. \n",
    "   - Current Occupation of the Customers in which mostly unemployed are the hot Leads.\n",
    "   - In order to improve Lead Conversion Company should focus in API and Landing Page Submission Origin. \n",
    "   - Lead Source are one of the feature through which high conversion rates are observed with the help of welingak websites and olark chat.\n"
   ]
  },
  {
   "cell_type": "markdown",
   "id": "organized-participant",
   "metadata": {},
   "source": [
    "**Hence overall this model seems to Predict the conversion very well and definetly company will make good calls based on Prediction**"
   ]
  },
  {
   "cell_type": "code",
   "execution_count": 110,
   "id": "thick-tender",
   "metadata": {},
   "outputs": [],
   "source": [
    "import jovian"
   ]
  },
  {
   "cell_type": "code",
   "execution_count": null,
   "id": "academic-stationery",
   "metadata": {},
   "outputs": [
    {
     "data": {
      "application/javascript": [
       "window.require && require([\"base/js/namespace\"],function(Jupyter){Jupyter.notebook.save_checkpoint()})"
      ],
      "text/plain": [
       "<IPython.core.display.Javascript object>"
      ]
     },
     "metadata": {},
     "output_type": "display_data"
    },
    {
     "name": "stdout",
     "output_type": "stream",
     "text": [
      "[jovian] Attempting to save notebook..\r\n"
     ]
    }
   ],
   "source": [
    "jovian.commit(project_name = 'Lead_score', environment=None)"
   ]
  }
 ],
 "metadata": {
  "kernelspec": {
   "display_name": "Python 3",
   "language": "python",
   "name": "python3"
  },
  "language_info": {
   "codemirror_mode": {
    "name": "ipython",
    "version": 3
   },
   "file_extension": ".py",
   "mimetype": "text/x-python",
   "name": "python",
   "nbconvert_exporter": "python",
   "pygments_lexer": "ipython3",
   "version": "3.8.5"
  }
 },
 "nbformat": 4,
 "nbformat_minor": 5
}
